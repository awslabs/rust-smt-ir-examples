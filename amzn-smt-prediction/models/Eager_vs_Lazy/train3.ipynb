{
 "cells": [
  {
   "cell_type": "code",
   "execution_count": 1,
   "id": "7fb9e723",
   "metadata": {},
   "outputs": [],
   "source": [
    "import pandas as pd\n",
    "import numpy as np"
   ]
  },
  {
   "cell_type": "code",
   "execution_count": 2,
   "id": "26e8ffdb",
   "metadata": {},
   "outputs": [],
   "source": [
    "# Read in feature sets and corresponding outputs\n",
    "# Some values of a_max were too large for a 64-bit number,\n",
    "# so a 128-bit float had to be specified in order for the\n",
    "# column to be parsed correctly (otherwise Pandas defaulted\n",
    "# to parsing them as strings)\n",
    "X1 = pd.read_csv(\"features_idl.csv\")\n",
    "X2 = pd.read_csv(\"features_lia.csv\",dtype={'a_max':np.float128})\n",
    "y1 = pd.read_csv(\"best_solver_idl.csv\")\n",
    "y2 = pd.read_csv(\"best_solver_lia.csv\")"
   ]
  },
  {
   "cell_type": "code",
   "execution_count": 3,
   "id": "544a3b95",
   "metadata": {},
   "outputs": [],
   "source": [
    "# Convert output values to 0 for cvc4, 1 for z3, or 2 for sat\n",
    "y1 = y1.values\n",
    "y1 = pd.DataFrame(np.where(y1 == \"sat\", 2, np.where(y1 == \"z3\", 1, np.where(y1 == \"cvc4\", 0, -1))))\n",
    "\n",
    "y2 = y2.values\n",
    "y2 = pd.DataFrame(np.where(y2 == \"sat\", 2, np.where(y2 == \"z3\", 1, np.where(y2 == \"cvc4\", 0, -1))))\n",
    "\n",
    "# Verifies that there were no values in the data other than \"cvc4\", \"z3\", or \"sat\"\n",
    "assert(not -1 in y1.values)\n",
    "assert(not -1 in y2.values)"
   ]
  },
  {
   "cell_type": "code",
   "execution_count": 4,
   "id": "fe088a2d",
   "metadata": {},
   "outputs": [],
   "source": [
    "# Combine data from IDL and LIA datasets\n",
    "X = pd.concat([X1,X2])\n",
    "y = pd.concat([y1,y2])"
   ]
  },
  {
   "cell_type": "code",
   "execution_count": 5,
   "id": "2c105d8e",
   "metadata": {},
   "outputs": [],
   "source": [
    "from sklearn.model_selection import train_test_split\n",
    "\n",
    "# Split datasets into\n",
    "# training (60%)\n",
    "# validation (20%)\n",
    "# testing (20%)\n",
    "X_tv, X_test, y_tv, y_test = train_test_split(X, y, test_size=0.2, random_state=1)\n",
    "X_train, X_val, y_train, y_val = train_test_split(X_tv, y_tv, test_size=0.25, random_state=1)"
   ]
  },
  {
   "cell_type": "code",
   "execution_count": 6,
   "id": "4fa35b51",
   "metadata": {},
   "outputs": [],
   "source": [
    "# Combine output and features\n",
    "train = pd.concat([y_train, X_train], axis=1)\n",
    "val = pd.concat([y_val, X_val], axis=1)\n",
    "test = pd.concat([y_test, X_test], axis=1)"
   ]
  },
  {
   "cell_type": "code",
   "execution_count": 7,
   "id": "d94b5ba7",
   "metadata": {},
   "outputs": [],
   "source": [
    "train.to_csv('train.csv', index=False, header=False)\n",
    "val.to_csv('validation.csv', index=False, header=False)\n",
    "test.to_csv('test.csv', index=False, header=False)"
   ]
  },
  {
   "cell_type": "code",
   "execution_count": 8,
   "id": "964e1d7f",
   "metadata": {},
   "outputs": [],
   "source": [
    "import sagemaker, boto3, os\n",
    "bucket = sagemaker.Session().default_bucket()\n",
    "prefix = \"smt-eager-vs-lazy\"\n",
    "\n",
    "# Upload datasets to S3\n",
    "boto3.Session().resource('s3').Bucket(bucket).Object(\n",
    "    os.path.join(prefix, 'data/train.csv')).upload_file('train.csv')\n",
    "boto3.Session().resource('s3').Bucket(bucket).Object(\n",
    "    os.path.join(prefix, 'data/validation.csv')).upload_file('validation.csv')\n",
    "boto3.Session().resource('s3').Bucket(bucket).Object(\n",
    "    os.path.join(prefix, 'data/test.csv')).upload_file('test.csv')"
   ]
  },
  {
   "cell_type": "code",
   "execution_count": 9,
   "id": "784c3b0c",
   "metadata": {},
   "outputs": [],
   "source": [
    "region = sagemaker.Session().boto_region_name\n",
    "role = sagemaker.get_execution_role()"
   ]
  },
  {
   "cell_type": "code",
   "execution_count": 13,
   "id": "47a2b886",
   "metadata": {},
   "outputs": [
    {
     "name": "stdout",
     "output_type": "stream",
     "text": [
      "257758044811.dkr.ecr.us-east-2.amazonaws.com/sagemaker-xgboost:1.2-1\n"
     ]
    }
   ],
   "source": [
    "from sagemaker.debugger import Rule, rule_configs\n",
    "from sagemaker.session import TrainingInput\n",
    "\n",
    "# Configure model\n",
    "\n",
    "s3_output_location='s3://{}/{}/{}'.format(bucket, prefix, 'xgboost_model')\n",
    "\n",
    "container=sagemaker.image_uris.retrieve(\"xgboost\", region, \"1.2-1\")\n",
    "print(container)\n",
    "\n",
    "xgb_model=sagemaker.estimator.Estimator(\n",
    "    image_uri=container,\n",
    "    role=role,\n",
    "    instance_count=1,\n",
    "    instance_type='ml.m4.xlarge',\n",
    "    volume_size=5,\n",
    "    output_path=s3_output_location,\n",
    "    sagemaker_session=sagemaker.Session(),\n",
    "    rules=[Rule.sagemaker(rule_configs.create_xgboost_report())]\n",
    ")\n",
    "\n",
    "xgb_model.set_hyperparameters(\n",
    "    objective = 'multi:softprob',\n",
    "    num_class = 3,\n",
    "    num_round = 100,\n",
    "    subsample = 0.7,\n",
    "    colsample_bytree = 0.8\n",
    ")"
   ]
  },
  {
   "cell_type": "code",
   "execution_count": 14,
   "id": "9ef42c04",
   "metadata": {},
   "outputs": [],
   "source": [
    "from sagemaker.session import TrainingInput\n",
    "\n",
    "train_input = TrainingInput(\n",
    "    \"s3://{}/{}/{}\".format(bucket, prefix, \"data/train.csv\"), content_type=\"csv\"\n",
    ")\n",
    "validation_input = TrainingInput(\n",
    "    \"s3://{}/{}/{}\".format(bucket, prefix, \"data/validation.csv\"), content_type=\"csv\"\n",
    ")"
   ]
  },
  {
   "cell_type": "code",
   "execution_count": 15,
   "id": "4eecdc1b",
   "metadata": {},
   "outputs": [
    {
     "name": "stdout",
     "output_type": "stream",
     "text": [
      "2021-08-17 14:15:12 Starting - Starting the training job...\n",
      "2021-08-17 14:15:35 Starting - Launching requested ML instancesCreateXgboostReport: InProgress\n",
      "ProfilerReport-1629209712: InProgress\n",
      "...\n",
      "2021-08-17 14:16:02 Starting - Preparing the instances for training.........\n",
      "2021-08-17 14:17:36 Downloading - Downloading input data...\n",
      "2021-08-17 14:18:04 Training - Downloading the training image...\n",
      "2021-08-17 14:18:44 Training - Training image download completed. Training in progress..\u001b[34m[2021-08-17 14:18:43.456 ip-10-0-173-219.us-east-2.compute.internal:1 INFO utils.py:27] RULE_JOB_STOP_SIGNAL_FILENAME: None\u001b[0m\n",
      "\u001b[34mINFO:sagemaker-containers:Imported framework sagemaker_xgboost_container.training\u001b[0m\n",
      "\u001b[34mINFO:sagemaker-containers:Failed to parse hyperparameter objective value multi:softprob to Json.\u001b[0m\n",
      "\u001b[34mReturning the value itself\u001b[0m\n",
      "\u001b[34mINFO:sagemaker-containers:No GPUs detected (normal if no gpus installed)\u001b[0m\n",
      "\u001b[34mINFO:sagemaker_xgboost_container.training:Running XGBoost Sagemaker in algorithm mode\u001b[0m\n",
      "\u001b[34mINFO:root:Determined delimiter of CSV input is ','\u001b[0m\n",
      "\u001b[34mINFO:root:Determined delimiter of CSV input is ','\u001b[0m\n",
      "\u001b[34mINFO:root:Determined delimiter of CSV input is ','\u001b[0m\n",
      "\u001b[34mINFO:root:Determined delimiter of CSV input is ','\u001b[0m\n",
      "\u001b[34mINFO:root:Single node training.\u001b[0m\n",
      "\u001b[34m[2021-08-17 14:18:43.602 ip-10-0-173-219.us-east-2.compute.internal:1 INFO json_config.py:91] Creating hook from json_config at /opt/ml/input/config/debughookconfig.json.\u001b[0m\n",
      "\u001b[34m[2021-08-17 14:18:43.602 ip-10-0-173-219.us-east-2.compute.internal:1 INFO hook.py:199] tensorboard_dir has not been set for the hook. SMDebug will not be exporting tensorboard summaries.\u001b[0m\n",
      "\u001b[34m[2021-08-17 14:18:43.603 ip-10-0-173-219.us-east-2.compute.internal:1 INFO profiler_config_parser.py:102] User has disabled profiler.\u001b[0m\n",
      "\u001b[34m[2021-08-17 14:18:43.604 ip-10-0-173-219.us-east-2.compute.internal:1 INFO hook.py:253] Saving to /opt/ml/output/tensors\u001b[0m\n",
      "\u001b[34m[2021-08-17 14:18:43.604 ip-10-0-173-219.us-east-2.compute.internal:1 INFO state_store.py:77] The checkpoint config file /opt/ml/input/config/checkpointconfig.json does not exist.\u001b[0m\n",
      "\u001b[34mINFO:root:Debug hook created from config\u001b[0m\n",
      "\u001b[34mINFO:root:Train matrix has 117 rows and 7 columns\u001b[0m\n",
      "\u001b[34mINFO:root:Validation matrix has 39 rows\u001b[0m\n",
      "\u001b[34m[0]#011train-merror:0.14530#011validation-merror:0.17949\u001b[0m\n",
      "\u001b[34m[2021-08-17 14:18:43.614 ip-10-0-173-219.us-east-2.compute.internal:1 INFO hook.py:413] Monitoring the collections: feature_importance, predictions, hyperparameters, metrics, labels\u001b[0m\n",
      "\u001b[34m[2021-08-17 14:18:43.617 ip-10-0-173-219.us-east-2.compute.internal:1 INFO hook.py:476] Hook is writing from the hook with pid: 1\n",
      "\u001b[0m\n",
      "\u001b[34m[1]#011train-merror:0.14530#011validation-merror:0.17949\u001b[0m\n",
      "\u001b[34m[2]#011train-merror:0.13675#011validation-merror:0.17949\u001b[0m\n",
      "\u001b[34m[3]#011train-merror:0.12821#011validation-merror:0.17949\u001b[0m\n",
      "\u001b[34m[4]#011train-merror:0.12821#011validation-merror:0.17949\u001b[0m\n",
      "\u001b[34m[5]#011train-merror:0.11966#011validation-merror:0.17949\u001b[0m\n",
      "\u001b[34m[6]#011train-merror:0.11111#011validation-merror:0.17949\u001b[0m\n",
      "\u001b[34m[7]#011train-merror:0.11111#011validation-merror:0.17949\u001b[0m\n",
      "\u001b[34m[8]#011train-merror:0.09402#011validation-merror:0.17949\u001b[0m\n",
      "\u001b[34m[9]#011train-merror:0.11111#011validation-merror:0.17949\u001b[0m\n",
      "\u001b[34m[10]#011train-merror:0.09402#011validation-merror:0.17949\u001b[0m\n",
      "\u001b[34m[11]#011train-merror:0.08547#011validation-merror:0.17949\u001b[0m\n",
      "\u001b[34m[12]#011train-merror:0.07692#011validation-merror:0.17949\u001b[0m\n",
      "\u001b[34m[13]#011train-merror:0.08547#011validation-merror:0.17949\u001b[0m\n",
      "\u001b[34m[14]#011train-merror:0.08547#011validation-merror:0.17949\u001b[0m\n",
      "\u001b[34m[15]#011train-merror:0.08547#011validation-merror:0.17949\u001b[0m\n",
      "\u001b[34m[16]#011train-merror:0.07692#011validation-merror:0.17949\u001b[0m\n",
      "\u001b[34m[17]#011train-merror:0.07692#011validation-merror:0.20513\u001b[0m\n",
      "\u001b[34m[18]#011train-merror:0.07692#011validation-merror:0.17949\u001b[0m\n",
      "\u001b[34m[19]#011train-merror:0.07692#011validation-merror:0.17949\u001b[0m\n",
      "\u001b[34m[20]#011train-merror:0.07692#011validation-merror:0.17949\u001b[0m\n",
      "\u001b[34m[21]#011train-merror:0.07692#011validation-merror:0.17949\u001b[0m\n",
      "\u001b[34m[22]#011train-merror:0.07692#011validation-merror:0.17949\u001b[0m\n",
      "\u001b[34m[23]#011train-merror:0.07692#011validation-merror:0.15385\u001b[0m\n",
      "\u001b[34m[24]#011train-merror:0.07692#011validation-merror:0.15385\u001b[0m\n",
      "\u001b[34m[25]#011train-merror:0.07692#011validation-merror:0.17949\u001b[0m\n",
      "\u001b[34m[26]#011train-merror:0.06838#011validation-merror:0.17949\u001b[0m\n",
      "\u001b[34m[27]#011train-merror:0.06838#011validation-merror:0.17949\u001b[0m\n",
      "\u001b[34m[28]#011train-merror:0.07692#011validation-merror:0.17949\u001b[0m\n",
      "\u001b[34m[29]#011train-merror:0.07692#011validation-merror:0.17949\u001b[0m\n",
      "\u001b[34m[30]#011train-merror:0.08547#011validation-merror:0.17949\u001b[0m\n",
      "\u001b[34m[31]#011train-merror:0.07692#011validation-merror:0.15385\u001b[0m\n",
      "\u001b[34m[32]#011train-merror:0.06838#011validation-merror:0.17949\u001b[0m\n",
      "\u001b[34m[33]#011train-merror:0.06838#011validation-merror:0.17949\u001b[0m\n",
      "\u001b[34m[34]#011train-merror:0.06838#011validation-merror:0.20513\u001b[0m\n",
      "\u001b[34m[35]#011train-merror:0.06838#011validation-merror:0.20513\u001b[0m\n",
      "\u001b[34m[36]#011train-merror:0.06838#011validation-merror:0.20513\u001b[0m\n",
      "\u001b[34m[37]#011train-merror:0.06838#011validation-merror:0.17949\u001b[0m\n",
      "\u001b[34m[38]#011train-merror:0.05983#011validation-merror:0.20513\u001b[0m\n",
      "\u001b[34m[39]#011train-merror:0.05983#011validation-merror:0.20513\u001b[0m\n",
      "\u001b[34m[40]#011train-merror:0.05983#011validation-merror:0.17949\u001b[0m\n",
      "\u001b[34m[41]#011train-merror:0.05983#011validation-merror:0.15385\u001b[0m\n",
      "\u001b[34m[42]#011train-merror:0.05983#011validation-merror:0.15385\u001b[0m\n",
      "\u001b[34m[43]#011train-merror:0.05983#011validation-merror:0.15385\u001b[0m\n",
      "\u001b[34m[44]#011train-merror:0.05983#011validation-merror:0.15385\u001b[0m\n",
      "\u001b[34m[45]#011train-merror:0.05983#011validation-merror:0.15385\u001b[0m\n",
      "\u001b[34m[46]#011train-merror:0.05983#011validation-merror:0.15385\u001b[0m\n",
      "\u001b[34m[47]#011train-merror:0.05983#011validation-merror:0.15385\u001b[0m\n",
      "\u001b[34m[48]#011train-merror:0.05983#011validation-merror:0.17949\u001b[0m\n",
      "\u001b[34m[49]#011train-merror:0.05983#011validation-merror:0.17949\u001b[0m\n",
      "\u001b[34m[50]#011train-merror:0.05983#011validation-merror:0.15385\u001b[0m\n",
      "\u001b[34m[51]#011train-merror:0.05983#011validation-merror:0.17949\u001b[0m\n",
      "\u001b[34m[52]#011train-merror:0.05983#011validation-merror:0.17949\u001b[0m\n",
      "\u001b[34m[53]#011train-merror:0.05983#011validation-merror:0.15385\u001b[0m\n",
      "\u001b[34m[54]#011train-merror:0.05983#011validation-merror:0.15385\u001b[0m\n",
      "\u001b[34m[55]#011train-merror:0.05983#011validation-merror:0.15385\u001b[0m\n",
      "\u001b[34m[56]#011train-merror:0.05983#011validation-merror:0.17949\u001b[0m\n",
      "\u001b[34m[57]#011train-merror:0.05983#011validation-merror:0.17949\u001b[0m\n",
      "\u001b[34m[58]#011train-merror:0.05983#011validation-merror:0.17949\u001b[0m\n",
      "\u001b[34m[59]#011train-merror:0.05983#011validation-merror:0.17949\u001b[0m\n",
      "\u001b[34m[60]#011train-merror:0.05983#011validation-merror:0.17949\u001b[0m\n",
      "\u001b[34m[61]#011train-merror:0.05983#011validation-merror:0.17949\u001b[0m\n",
      "\u001b[34m[62]#011train-merror:0.05983#011validation-merror:0.17949\u001b[0m\n",
      "\u001b[34m[63]#011train-merror:0.05983#011validation-merror:0.17949\u001b[0m\n",
      "\u001b[34m[64]#011train-merror:0.05983#011validation-merror:0.15385\u001b[0m\n",
      "\u001b[34m[65]#011train-merror:0.05983#011validation-merror:0.15385\u001b[0m\n",
      "\u001b[34m[66]#011train-merror:0.05983#011validation-merror:0.15385\u001b[0m\n",
      "\u001b[34m[67]#011train-merror:0.05983#011validation-merror:0.15385\u001b[0m\n",
      "\u001b[34m[68]#011train-merror:0.05983#011validation-merror:0.15385\u001b[0m\n",
      "\u001b[34m[69]#011train-merror:0.05983#011validation-merror:0.15385\u001b[0m\n",
      "\u001b[34m[70]#011train-merror:0.05983#011validation-merror:0.15385\u001b[0m\n",
      "\u001b[34m[71]#011train-merror:0.05983#011validation-merror:0.15385\u001b[0m\n",
      "\u001b[34m[72]#011train-merror:0.05983#011validation-merror:0.17949\u001b[0m\n",
      "\u001b[34m[73]#011train-merror:0.05983#011validation-merror:0.15385\u001b[0m\n",
      "\u001b[34m[74]#011train-merror:0.05983#011validation-merror:0.17949\u001b[0m\n",
      "\u001b[34m[75]#011train-merror:0.05983#011validation-merror:0.17949\u001b[0m\n",
      "\u001b[34m[76]#011train-merror:0.05983#011validation-merror:0.17949\u001b[0m\n",
      "\u001b[34m[77]#011train-merror:0.05983#011validation-merror:0.17949\u001b[0m\n",
      "\u001b[34m[78]#011train-merror:0.05983#011validation-merror:0.17949\u001b[0m\n",
      "\u001b[34m[79]#011train-merror:0.05983#011validation-merror:0.17949\u001b[0m\n",
      "\u001b[34m[80]#011train-merror:0.05983#011validation-merror:0.15385\u001b[0m\n",
      "\u001b[34m[81]#011train-merror:0.05983#011validation-merror:0.17949\u001b[0m\n",
      "\u001b[34m[82]#011train-merror:0.05983#011validation-merror:0.15385\u001b[0m\n",
      "\u001b[34m[83]#011train-merror:0.05983#011validation-merror:0.15385\u001b[0m\n",
      "\u001b[34m[84]#011train-merror:0.05983#011validation-merror:0.15385\u001b[0m\n",
      "\u001b[34m[85]#011train-merror:0.05983#011validation-merror:0.15385\u001b[0m\n",
      "\u001b[34m[86]#011train-merror:0.05983#011validation-merror:0.15385\u001b[0m\n",
      "\u001b[34m[87]#011train-merror:0.05983#011validation-merror:0.15385\u001b[0m\n",
      "\u001b[34m[88]#011train-merror:0.05983#011validation-merror:0.15385\u001b[0m\n",
      "\u001b[34m[89]#011train-merror:0.05983#011validation-merror:0.15385\u001b[0m\n",
      "\u001b[34m[90]#011train-merror:0.05983#011validation-merror:0.15385\u001b[0m\n",
      "\u001b[34m[91]#011train-merror:0.05983#011validation-merror:0.17949\u001b[0m\n",
      "\u001b[34m[92]#011train-merror:0.05983#011validation-merror:0.17949\u001b[0m\n",
      "\u001b[34m[93]#011train-merror:0.05983#011validation-merror:0.17949\u001b[0m\n",
      "\u001b[34m[94]#011train-merror:0.05983#011validation-merror:0.15385\u001b[0m\n",
      "\u001b[34m[95]#011train-merror:0.05983#011validation-merror:0.17949\u001b[0m\n",
      "\u001b[34m[96]#011train-merror:0.05983#011validation-merror:0.15385\u001b[0m\n",
      "\u001b[34m[97]#011train-merror:0.05983#011validation-merror:0.15385\u001b[0m\n",
      "\u001b[34m[98]#011train-merror:0.05983#011validation-merror:0.15385\u001b[0m\n",
      "\u001b[34m[99]#011train-merror:0.05983#011validation-merror:0.15385\u001b[0m\n",
      "\n",
      "2021-08-17 14:19:04 Uploading - Uploading generated training model\n",
      "2021-08-17 14:19:04 Completed - Training job completed\n",
      "Training seconds: 80\n",
      "Billable seconds: 80\n"
     ]
    }
   ],
   "source": [
    "# Run the training job to fit the model\n",
    "xgb_model.fit({\"train\": train_input, \"validation\": validation_input}, wait=True)"
   ]
  },
  {
   "cell_type": "code",
   "execution_count": 16,
   "id": "c55e035f",
   "metadata": {},
   "outputs": [
    {
     "name": "stdout",
     "output_type": "stream",
     "text": [
      "2021-08-17 14:20:10     322345 smt-eager-vs-lazy/xgboost_model/sagemaker-xgboost-2021-08-17-14-15-12-406/rule-output/ProfilerReport-1629209712/profiler-output/profiler-report.html\n",
      "2021-08-17 14:20:10     168689 smt-eager-vs-lazy/xgboost_model/sagemaker-xgboost-2021-08-17-14-15-12-406/rule-output/ProfilerReport-1629209712/profiler-output/profiler-report.ipynb\n",
      "2021-08-17 14:20:06        190 smt-eager-vs-lazy/xgboost_model/sagemaker-xgboost-2021-08-17-14-15-12-406/rule-output/ProfilerReport-1629209712/profiler-output/profiler-reports/BatchSize.json\n",
      "2021-08-17 14:20:06        198 smt-eager-vs-lazy/xgboost_model/sagemaker-xgboost-2021-08-17-14-15-12-406/rule-output/ProfilerReport-1629209712/profiler-output/profiler-reports/CPUBottleneck.json\n",
      "2021-08-17 14:20:06        126 smt-eager-vs-lazy/xgboost_model/sagemaker-xgboost-2021-08-17-14-15-12-406/rule-output/ProfilerReport-1629209712/profiler-output/profiler-reports/Dataloader.json\n",
      "2021-08-17 14:20:06        127 smt-eager-vs-lazy/xgboost_model/sagemaker-xgboost-2021-08-17-14-15-12-406/rule-output/ProfilerReport-1629209712/profiler-output/profiler-reports/GPUMemoryIncrease.json\n",
      "2021-08-17 14:20:06        197 smt-eager-vs-lazy/xgboost_model/sagemaker-xgboost-2021-08-17-14-15-12-406/rule-output/ProfilerReport-1629209712/profiler-output/profiler-reports/IOBottleneck.json\n",
      "2021-08-17 14:20:06        119 smt-eager-vs-lazy/xgboost_model/sagemaker-xgboost-2021-08-17-14-15-12-406/rule-output/ProfilerReport-1629209712/profiler-output/profiler-reports/LoadBalancing.json\n",
      "2021-08-17 14:20:06        151 smt-eager-vs-lazy/xgboost_model/sagemaker-xgboost-2021-08-17-14-15-12-406/rule-output/ProfilerReport-1629209712/profiler-output/profiler-reports/LowGPUUtilization.json\n",
      "2021-08-17 14:20:06        179 smt-eager-vs-lazy/xgboost_model/sagemaker-xgboost-2021-08-17-14-15-12-406/rule-output/ProfilerReport-1629209712/profiler-output/profiler-reports/MaxInitializationTime.json\n",
      "2021-08-17 14:20:06        133 smt-eager-vs-lazy/xgboost_model/sagemaker-xgboost-2021-08-17-14-15-12-406/rule-output/ProfilerReport-1629209712/profiler-output/profiler-reports/OverallFrameworkMetrics.json\n",
      "2021-08-17 14:20:06        462 smt-eager-vs-lazy/xgboost_model/sagemaker-xgboost-2021-08-17-14-15-12-406/rule-output/ProfilerReport-1629209712/profiler-output/profiler-reports/OverallSystemUsage.json\n",
      "2021-08-17 14:20:06        156 smt-eager-vs-lazy/xgboost_model/sagemaker-xgboost-2021-08-17-14-15-12-406/rule-output/ProfilerReport-1629209712/profiler-output/profiler-reports/StepOutlier.json\n"
     ]
    }
   ],
   "source": [
    "# Get the auto-generated analytics\n",
    "rule_output_path = xgb_model.output_path + \"/\" + xgb_model.latest_training_job.name + \"/rule-output\"\n",
    "! aws s3 ls {rule_output_path} --recursive"
   ]
  },
  {
   "cell_type": "code",
   "execution_count": 17,
   "id": "58e16974",
   "metadata": {},
   "outputs": [
    {
     "name": "stdout",
     "output_type": "stream",
     "text": [
      "download: s3://sagemaker-us-east-2-736959812641/smt-eager-vs-lazy/xgboost_model/sagemaker-xgboost-2021-08-17-14-15-12-406/rule-output/ProfilerReport-1629209712/profiler-output/profiler-reports/BatchSize.json to ProfilerReport-1629209712/profiler-output/profiler-reports/BatchSize.json\n",
      "download: s3://sagemaker-us-east-2-736959812641/smt-eager-vs-lazy/xgboost_model/sagemaker-xgboost-2021-08-17-14-15-12-406/rule-output/ProfilerReport-1629209712/profiler-output/profiler-report.html to ProfilerReport-1629209712/profiler-output/profiler-report.html\n",
      "download: s3://sagemaker-us-east-2-736959812641/smt-eager-vs-lazy/xgboost_model/sagemaker-xgboost-2021-08-17-14-15-12-406/rule-output/ProfilerReport-1629209712/profiler-output/profiler-reports/CPUBottleneck.json to ProfilerReport-1629209712/profiler-output/profiler-reports/CPUBottleneck.json\n",
      "download: s3://sagemaker-us-east-2-736959812641/smt-eager-vs-lazy/xgboost_model/sagemaker-xgboost-2021-08-17-14-15-12-406/rule-output/ProfilerReport-1629209712/profiler-output/profiler-reports/LowGPUUtilization.json to ProfilerReport-1629209712/profiler-output/profiler-reports/LowGPUUtilization.json\n",
      "download: s3://sagemaker-us-east-2-736959812641/smt-eager-vs-lazy/xgboost_model/sagemaker-xgboost-2021-08-17-14-15-12-406/rule-output/ProfilerReport-1629209712/profiler-output/profiler-reports/OverallFrameworkMetrics.json to ProfilerReport-1629209712/profiler-output/profiler-reports/OverallFrameworkMetrics.json\n",
      "download: s3://sagemaker-us-east-2-736959812641/smt-eager-vs-lazy/xgboost_model/sagemaker-xgboost-2021-08-17-14-15-12-406/rule-output/ProfilerReport-1629209712/profiler-output/profiler-reports/OverallSystemUsage.json to ProfilerReport-1629209712/profiler-output/profiler-reports/OverallSystemUsage.json\n",
      "download: s3://sagemaker-us-east-2-736959812641/smt-eager-vs-lazy/xgboost_model/sagemaker-xgboost-2021-08-17-14-15-12-406/rule-output/ProfilerReport-1629209712/profiler-output/profiler-reports/LoadBalancing.json to ProfilerReport-1629209712/profiler-output/profiler-reports/LoadBalancing.json\n",
      "download: s3://sagemaker-us-east-2-736959812641/smt-eager-vs-lazy/xgboost_model/sagemaker-xgboost-2021-08-17-14-15-12-406/rule-output/ProfilerReport-1629209712/profiler-output/profiler-reports/StepOutlier.json to ProfilerReport-1629209712/profiler-output/profiler-reports/StepOutlier.json\n",
      "download: s3://sagemaker-us-east-2-736959812641/smt-eager-vs-lazy/xgboost_model/sagemaker-xgboost-2021-08-17-14-15-12-406/rule-output/ProfilerReport-1629209712/profiler-output/profiler-reports/MaxInitializationTime.json to ProfilerReport-1629209712/profiler-output/profiler-reports/MaxInitializationTime.json\n",
      "download: s3://sagemaker-us-east-2-736959812641/smt-eager-vs-lazy/xgboost_model/sagemaker-xgboost-2021-08-17-14-15-12-406/rule-output/ProfilerReport-1629209712/profiler-output/profiler-reports/Dataloader.json to ProfilerReport-1629209712/profiler-output/profiler-reports/Dataloader.json\n",
      "download: s3://sagemaker-us-east-2-736959812641/smt-eager-vs-lazy/xgboost_model/sagemaker-xgboost-2021-08-17-14-15-12-406/rule-output/ProfilerReport-1629209712/profiler-output/profiler-reports/GPUMemoryIncrease.json to ProfilerReport-1629209712/profiler-output/profiler-reports/GPUMemoryIncrease.json\n",
      "download: s3://sagemaker-us-east-2-736959812641/smt-eager-vs-lazy/xgboost_model/sagemaker-xgboost-2021-08-17-14-15-12-406/rule-output/ProfilerReport-1629209712/profiler-output/profiler-reports/IOBottleneck.json to ProfilerReport-1629209712/profiler-output/profiler-reports/IOBottleneck.json\n",
      "download: s3://sagemaker-us-east-2-736959812641/smt-eager-vs-lazy/xgboost_model/sagemaker-xgboost-2021-08-17-14-15-12-406/rule-output/ProfilerReport-1629209712/profiler-output/profiler-report.ipynb to ProfilerReport-1629209712/profiler-output/profiler-report.ipynb\n"
     ]
    }
   ],
   "source": [
    "# Download the auto-generated analytics\n",
    "! aws s3 cp {rule_output_path} ./ --recursive"
   ]
  },
  {
   "cell_type": "code",
   "execution_count": 18,
   "id": "e3187176",
   "metadata": {},
   "outputs": [
    {
     "name": "stdout",
     "output_type": "stream",
     "text": [
      "----------!"
     ]
    }
   ],
   "source": [
    "# When done training/tuning the model, deploy an endpoint to SageMaker\n",
    "import sagemaker\n",
    "from sagemaker.serializers import CSVSerializer\n",
    "xgb_predictor=xgb_model.deploy(\n",
    "    initial_instance_count=1,\n",
    "    instance_type='ml.t2.medium',\n",
    "    serializer=CSVSerializer()\n",
    ")"
   ]
  },
  {
   "cell_type": "code",
   "execution_count": 19,
   "id": "0d23fd4f",
   "metadata": {},
   "outputs": [],
   "source": [
    "import numpy as np\n",
    "\n",
    "# This function calls the endpoint to get predictions\n",
    "# from the model and processes the returned data\n",
    "def predict_multi_class(data, num_class, rows=1000):\n",
    "    \n",
    "    assert(num_class >= 2)\n",
    "    \n",
    "    num_examples = data.shape[0]\n",
    "    \n",
    "    split_array = np.array_split(data, int(num_examples / float(rows) + 1))\n",
    "    predictions = ''\n",
    "    for array in split_array:\n",
    "        predictions = ','.join([predictions, xgb_predictor.predict(array).decode('utf-8')])\n",
    "    \n",
    "    # For binary classifiers, predict() returns a single float:\n",
    "    # the probability of a positive outcome\n",
    "    # formally, this means the model returns 1\n",
    "    if num_class == 2:\n",
    "        return np.fromstring(predictions[1:], sep=',')\n",
    "    \n",
    "    # Convert string version of 2D array to Python list of strings\n",
    "    pred_list = predictions[1:].replace('[','').replace(']','').strip().split(',')\n",
    "    \n",
    "    try:\n",
    "        assert(len(pred_list) == num_examples * num_class)\n",
    "    except AssertionError:\n",
    "        print(\"Something went wrong. Verify that the value of num_class is correct.\")\n",
    "        exit()\n",
    "    \n",
    "    # Convert Python list to Numpy array of floats, and reshape to 2D\n",
    "    return np.array(pred_list, dtype=float).reshape([num_examples,num_class])"
   ]
  },
  {
   "cell_type": "code",
   "execution_count": 21,
   "id": "eafb43e5",
   "metadata": {},
   "outputs": [
    {
     "data": {
      "text/plain": [
       "0.75"
      ]
     },
     "execution_count": 21,
     "metadata": {},
     "output_type": "execute_result"
    }
   ],
   "source": [
    "import sklearn\n",
    "\n",
    "# Output the accuracy of the model on the test set\n",
    "log_predictions = predict_multi_class(test.to_numpy()[:,1:], 3)\n",
    "predictions = np.argmax(log_predictions, axis=1)\n",
    "sklearn.metrics.accuracy_score(test.iloc[:,0], predictions)"
   ]
  },
  {
   "cell_type": "code",
   "execution_count": 22,
   "id": "3a56d259",
   "metadata": {},
   "outputs": [
    {
     "data": {
      "text/plain": [
       "array([[ 5,  2,  0],\n",
       "       [ 4, 23,  1],\n",
       "       [ 1,  2,  2]])"
      ]
     },
     "execution_count": 22,
     "metadata": {},
     "output_type": "execute_result"
    }
   ],
   "source": [
    "# Output the confusion matrix for the test set\n",
    "cm = sklearn.metrics.confusion_matrix(test.iloc[:,0], predictions)\n",
    "cm"
   ]
  },
  {
   "cell_type": "code",
   "execution_count": 28,
   "id": "63a5641e",
   "metadata": {},
   "outputs": [
    {
     "data": {
      "text/plain": [
       "20"
      ]
     },
     "execution_count": 28,
     "metadata": {},
     "output_type": "execute_result"
    }
   ],
   "source": [
    "np.count_nonzero(np.where(y_train == 0))"
   ]
  },
  {
   "cell_type": "code",
   "execution_count": 29,
   "id": "85110b4e",
   "metadata": {},
   "outputs": [
    {
     "data": {
      "text/plain": [
       "86"
      ]
     },
     "execution_count": 29,
     "metadata": {},
     "output_type": "execute_result"
    }
   ],
   "source": [
    "np.count_nonzero(np.where(y_train == 1))"
   ]
  },
  {
   "cell_type": "code",
   "execution_count": 30,
   "id": "0d774156",
   "metadata": {},
   "outputs": [
    {
     "data": {
      "text/plain": [
       "10"
      ]
     },
     "execution_count": 30,
     "metadata": {},
     "output_type": "execute_result"
    }
   ],
   "source": [
    "np.count_nonzero(np.where(y_train == 2))"
   ]
  },
  {
   "cell_type": "code",
   "execution_count": null,
   "id": "7a206854",
   "metadata": {},
   "outputs": [],
   "source": []
  }
 ],
 "metadata": {
  "kernelspec": {
   "display_name": "conda_python3",
   "language": "python",
   "name": "conda_python3"
  },
  "language_info": {
   "codemirror_mode": {
    "name": "ipython",
    "version": 3
   },
   "file_extension": ".py",
   "mimetype": "text/x-python",
   "name": "python",
   "nbconvert_exporter": "python",
   "pygments_lexer": "ipython3",
   "version": "3.6.13"
  }
 },
 "nbformat": 4,
 "nbformat_minor": 5
}
