{
 "cells": [
  {
   "cell_type": "code",
   "execution_count": 1,
   "id": "e4e42b1b",
   "metadata": {},
   "outputs": [],
   "source": [
    "import pandas as pd\n",
    "import numpy as np"
   ]
  },
  {
   "cell_type": "code",
   "execution_count": 2,
   "id": "dfb00a15",
   "metadata": {},
   "outputs": [],
   "source": [
    "# Read in feature sets\n",
    "# Outputs correspond to the datasets\n",
    "X1 = pd.read_csv(\"on_features_fmf_faster.csv\")\n",
    "X2 = pd.read_csv(\"on_features_fmf_slower.csv\")\n",
    "y1 = pd.DataFrame(np.ones((len(X1),1)), columns=['fmf_faster'])\n",
    "y2 = pd.DataFrame(np.zeros((len(X2),1)), columns=['fmf_faster'])"
   ]
  },
  {
   "cell_type": "code",
   "execution_count": 3,
   "id": "3d836f5a",
   "metadata": {},
   "outputs": [],
   "source": [
    "# Not normalizing the features because all of the features are the same \"kind\" of thing:\n",
    "# number of lemmas which have x words."
   ]
  },
  {
   "cell_type": "code",
   "execution_count": 4,
   "id": "1ee1e13c",
   "metadata": {},
   "outputs": [],
   "source": [
    "X = pd.concat([X1,X2], ignore_index=True)\n",
    "y = pd.concat([y1,y2], ignore_index=True)"
   ]
  },
  {
   "cell_type": "code",
   "execution_count": 5,
   "id": "2fd659db",
   "metadata": {},
   "outputs": [],
   "source": [
    "from sklearn.model_selection import train_test_split\n",
    "\n",
    "# Split datasets into\n",
    "# training (60%)\n",
    "# validation (20%)\n",
    "# testing (20%)\n",
    "X_tv, X_test, y_tv, y_test = train_test_split(X, y, test_size=0.2, random_state=1)\n",
    "X_train, X_val, y_train, y_val = train_test_split(X_tv, y_tv, test_size=0.25, random_state=1)"
   ]
  },
  {
   "cell_type": "code",
   "execution_count": 6,
   "id": "cd76aefe",
   "metadata": {},
   "outputs": [],
   "source": [
    "# Combine output and features\n",
    "train = pd.concat([y_train, X_train], axis=1)\n",
    "val = pd.concat([y_val, X_val], axis=1)\n",
    "test = pd.concat([y_test, X_test], axis=1)"
   ]
  },
  {
   "cell_type": "code",
   "execution_count": 7,
   "id": "6595f1df",
   "metadata": {},
   "outputs": [],
   "source": [
    "train.to_csv('train.csv', index=False, header=False)\n",
    "val.to_csv('validation.csv', index=False, header=False)\n",
    "test.to_csv('test.csv', index=False, header=False)"
   ]
  },
  {
   "cell_type": "code",
   "execution_count": 8,
   "id": "9e61f2f7",
   "metadata": {},
   "outputs": [],
   "source": [
    "import sagemaker, boto3, os\n",
    "bucket = sagemaker.Session().default_bucket()\n",
    "prefix = \"smt-qfslia-cvc4-fmf-faster\"\n",
    "\n",
    "boto3.Session().resource('s3').Bucket(bucket).Object(\n",
    "    os.path.join(prefix, 'data/train.csv')).upload_file('train.csv')\n",
    "boto3.Session().resource('s3').Bucket(bucket).Object(\n",
    "    os.path.join(prefix, 'data/validation.csv')).upload_file('validation.csv')\n",
    "boto3.Session().resource('s3').Bucket(bucket).Object(\n",
    "    os.path.join(prefix, 'data/test.csv')).upload_file('test.csv')"
   ]
  },
  {
   "cell_type": "code",
   "execution_count": 9,
   "id": "d9c571f8",
   "metadata": {},
   "outputs": [],
   "source": [
    "region = sagemaker.Session().boto_region_name\n",
    "role = sagemaker.get_execution_role()"
   ]
  },
  {
   "cell_type": "code",
   "execution_count": 10,
   "id": "adcf67ae",
   "metadata": {},
   "outputs": [
    {
     "name": "stdout",
     "output_type": "stream",
     "text": [
      "257758044811.dkr.ecr.us-east-2.amazonaws.com/sagemaker-xgboost:1.2-1\n"
     ]
    }
   ],
   "source": [
    "from sagemaker.debugger import Rule, rule_configs\n",
    "from sagemaker.session import TrainingInput\n",
    "\n",
    "# Configure model\n",
    "\n",
    "s3_output_location='s3://{}/{}/{}'.format(bucket, prefix, 'xgboost_model')\n",
    "\n",
    "container=sagemaker.image_uris.retrieve(\"xgboost\", region, \"1.2-1\")\n",
    "print(container)\n",
    "\n",
    "xgb_model=sagemaker.estimator.Estimator(\n",
    "    image_uri=container,\n",
    "    role=role,\n",
    "    instance_count=1,\n",
    "    instance_type='ml.m4.xlarge',\n",
    "    volume_size=5,\n",
    "    output_path=s3_output_location,\n",
    "    sagemaker_session=sagemaker.Session(),\n",
    "    rules=[Rule.sagemaker(rule_configs.create_xgboost_report())]\n",
    ")\n",
    "\n",
    "xgb_model.set_hyperparameters(\n",
    "    objective = 'binary:logistic',\n",
    "    max_depth = 5,\n",
    "    eta       = 0.3,\n",
    "    num_round = 125,\n",
    "    alpha = 0.8,\n",
    "    subsample = 0.5,\n",
    "    colsample_bytree = 0.5\n",
    ")"
   ]
  },
  {
   "cell_type": "code",
   "execution_count": 11,
   "id": "a738a96a",
   "metadata": {},
   "outputs": [],
   "source": [
    "from sagemaker.session import TrainingInput\n",
    "\n",
    "train_input = TrainingInput(\n",
    "    \"s3://{}/{}/{}\".format(bucket, prefix, \"data/train.csv\"), content_type=\"csv\"\n",
    ")\n",
    "validation_input = TrainingInput(\n",
    "    \"s3://{}/{}/{}\".format(bucket, prefix, \"data/validation.csv\"), content_type=\"csv\"\n",
    ")"
   ]
  },
  {
   "cell_type": "code",
   "execution_count": 12,
   "id": "ae20324a",
   "metadata": {},
   "outputs": [
    {
     "name": "stdout",
     "output_type": "stream",
     "text": [
      "2021-08-20 19:46:08 Starting - Starting the training job...\n",
      "2021-08-20 19:46:09 Starting - Launching requested ML instancesCreateXgboostReport: InProgress\n",
      "ProfilerReport-1629488767: InProgress\n",
      "...\n",
      "2021-08-20 19:47:04 Starting - Preparing the instances for training.........\n",
      "2021-08-20 19:48:34 Downloading - Downloading input data...\n",
      "2021-08-20 19:49:04 Training - Downloading the training image...\n",
      "2021-08-20 19:49:36 Training - Training image download completed. Training in progress..\u001b[34m[2021-08-20 19:49:38.471 ip-10-0-141-191.us-east-2.compute.internal:1 INFO utils.py:27] RULE_JOB_STOP_SIGNAL_FILENAME: None\u001b[0m\n",
      "\u001b[34mINFO:sagemaker-containers:Imported framework sagemaker_xgboost_container.training\u001b[0m\n",
      "\u001b[34mINFO:sagemaker-containers:Failed to parse hyperparameter objective value binary:logistic to Json.\u001b[0m\n",
      "\u001b[34mReturning the value itself\u001b[0m\n",
      "\u001b[34mINFO:sagemaker-containers:No GPUs detected (normal if no gpus installed)\u001b[0m\n",
      "\u001b[34mINFO:sagemaker_xgboost_container.training:Running XGBoost Sagemaker in algorithm mode\u001b[0m\n",
      "\u001b[34mINFO:root:Determined delimiter of CSV input is ','\u001b[0m\n",
      "\u001b[34mINFO:root:Determined delimiter of CSV input is ','\u001b[0m\n",
      "\u001b[34mINFO:root:Determined delimiter of CSV input is ','\u001b[0m\n",
      "\u001b[34mINFO:root:Determined delimiter of CSV input is ','\u001b[0m\n",
      "\u001b[34mINFO:root:Single node training.\u001b[0m\n",
      "\u001b[34m[2021-08-20 19:49:38.606 ip-10-0-141-191.us-east-2.compute.internal:1 INFO json_config.py:91] Creating hook from json_config at /opt/ml/input/config/debughookconfig.json.\u001b[0m\n",
      "\u001b[34m[2021-08-20 19:49:38.606 ip-10-0-141-191.us-east-2.compute.internal:1 INFO hook.py:199] tensorboard_dir has not been set for the hook. SMDebug will not be exporting tensorboard summaries.\u001b[0m\n",
      "\u001b[34m[2021-08-20 19:49:38.607 ip-10-0-141-191.us-east-2.compute.internal:1 INFO profiler_config_parser.py:102] User has disabled profiler.\u001b[0m\n",
      "\u001b[34m[2021-08-20 19:49:38.607 ip-10-0-141-191.us-east-2.compute.internal:1 INFO hook.py:253] Saving to /opt/ml/output/tensors\u001b[0m\n",
      "\u001b[34m[2021-08-20 19:49:38.608 ip-10-0-141-191.us-east-2.compute.internal:1 INFO state_store.py:77] The checkpoint config file /opt/ml/input/config/checkpointconfig.json does not exist.\u001b[0m\n",
      "\u001b[34mINFO:root:Debug hook created from config\u001b[0m\n",
      "\u001b[34mINFO:root:Train matrix has 199 rows and 10 columns\u001b[0m\n",
      "\u001b[34mINFO:root:Validation matrix has 67 rows\u001b[0m\n",
      "\u001b[34m[0]#011train-error:0.23618#011validation-error:0.13433\u001b[0m\n",
      "\u001b[34m[2021-08-20 19:49:38.618 ip-10-0-141-191.us-east-2.compute.internal:1 INFO hook.py:413] Monitoring the collections: labels, metrics, predictions, feature_importance, hyperparameters\u001b[0m\n",
      "\u001b[34m[2021-08-20 19:49:38.621 ip-10-0-141-191.us-east-2.compute.internal:1 INFO hook.py:476] Hook is writing from the hook with pid: 1\n",
      "\u001b[0m\n",
      "\u001b[34m[1]#011train-error:0.24121#011validation-error:0.25373\u001b[0m\n",
      "\u001b[34m[2]#011train-error:0.20100#011validation-error:0.19403\u001b[0m\n",
      "\u001b[34m[3]#011train-error:0.19598#011validation-error:0.19403\u001b[0m\n",
      "\u001b[34m[4]#011train-error:0.18593#011validation-error:0.17910\u001b[0m\n",
      "\u001b[34m[5]#011train-error:0.16583#011validation-error:0.19403\u001b[0m\n",
      "\u001b[34m[6]#011train-error:0.15075#011validation-error:0.16418\u001b[0m\n",
      "\u001b[34m[7]#011train-error:0.15075#011validation-error:0.16418\u001b[0m\n",
      "\u001b[34m[8]#011train-error:0.16080#011validation-error:0.14925\u001b[0m\n",
      "\u001b[34m[9]#011train-error:0.16080#011validation-error:0.16418\u001b[0m\n",
      "\u001b[34m[10]#011train-error:0.14573#011validation-error:0.16418\u001b[0m\n",
      "\u001b[34m[11]#011train-error:0.14070#011validation-error:0.16418\u001b[0m\n",
      "\u001b[34m[12]#011train-error:0.14573#011validation-error:0.16418\u001b[0m\n",
      "\u001b[34m[13]#011train-error:0.15578#011validation-error:0.17910\u001b[0m\n",
      "\u001b[34m[14]#011train-error:0.13568#011validation-error:0.20896\u001b[0m\n",
      "\u001b[34m[15]#011train-error:0.12563#011validation-error:0.17910\u001b[0m\n",
      "\u001b[34m[16]#011train-error:0.12563#011validation-error:0.17910\u001b[0m\n",
      "\u001b[34m[17]#011train-error:0.14573#011validation-error:0.16418\u001b[0m\n",
      "\u001b[34m[18]#011train-error:0.13568#011validation-error:0.16418\u001b[0m\n",
      "\u001b[34m[19]#011train-error:0.13568#011validation-error:0.17910\u001b[0m\n",
      "\u001b[34m[20]#011train-error:0.14070#011validation-error:0.17910\u001b[0m\n",
      "\u001b[34m[21]#011train-error:0.13568#011validation-error:0.17910\u001b[0m\n",
      "\u001b[34m[22]#011train-error:0.13568#011validation-error:0.17910\u001b[0m\n",
      "\u001b[34m[23]#011train-error:0.13065#011validation-error:0.17910\u001b[0m\n",
      "\u001b[34m[24]#011train-error:0.13065#011validation-error:0.17910\u001b[0m\n",
      "\u001b[34m[25]#011train-error:0.13568#011validation-error:0.17910\u001b[0m\n",
      "\u001b[34m[26]#011train-error:0.13568#011validation-error:0.17910\u001b[0m\n",
      "\u001b[34m[27]#011train-error:0.13065#011validation-error:0.17910\u001b[0m\n",
      "\u001b[34m[28]#011train-error:0.12563#011validation-error:0.16418\u001b[0m\n",
      "\u001b[34m[29]#011train-error:0.11558#011validation-error:0.16418\u001b[0m\n",
      "\u001b[34m[30]#011train-error:0.11558#011validation-error:0.16418\u001b[0m\n",
      "\u001b[34m[31]#011train-error:0.12060#011validation-error:0.16418\u001b[0m\n",
      "\u001b[34m[32]#011train-error:0.11558#011validation-error:0.16418\u001b[0m\n",
      "\u001b[34m[33]#011train-error:0.10553#011validation-error:0.16418\u001b[0m\n",
      "\u001b[34m[34]#011train-error:0.10553#011validation-error:0.16418\u001b[0m\n",
      "\u001b[34m[35]#011train-error:0.10553#011validation-error:0.16418\u001b[0m\n",
      "\u001b[34m[36]#011train-error:0.10050#011validation-error:0.16418\u001b[0m\n",
      "\u001b[34m[37]#011train-error:0.09548#011validation-error:0.16418\u001b[0m\n",
      "\u001b[34m[38]#011train-error:0.09045#011validation-error:0.16418\u001b[0m\n",
      "\u001b[34m[39]#011train-error:0.10553#011validation-error:0.16418\u001b[0m\n",
      "\u001b[34m[40]#011train-error:0.10050#011validation-error:0.16418\u001b[0m\n",
      "\u001b[34m[41]#011train-error:0.10050#011validation-error:0.16418\u001b[0m\n",
      "\u001b[34m[42]#011train-error:0.09548#011validation-error:0.16418\u001b[0m\n",
      "\u001b[34m[43]#011train-error:0.10553#011validation-error:0.16418\u001b[0m\n",
      "\u001b[34m[44]#011train-error:0.10050#011validation-error:0.16418\u001b[0m\n",
      "\u001b[34m[45]#011train-error:0.09548#011validation-error:0.16418\u001b[0m\n",
      "\u001b[34m[46]#011train-error:0.10050#011validation-error:0.16418\u001b[0m\n",
      "\u001b[34m[47]#011train-error:0.10050#011validation-error:0.16418\u001b[0m\n",
      "\u001b[34m[48]#011train-error:0.09548#011validation-error:0.16418\u001b[0m\n",
      "\u001b[34m[49]#011train-error:0.10050#011validation-error:0.16418\u001b[0m\n",
      "\u001b[34m[50]#011train-error:0.10050#011validation-error:0.16418\u001b[0m\n",
      "\u001b[34m[51]#011train-error:0.08543#011validation-error:0.16418\u001b[0m\n",
      "\u001b[34m[52]#011train-error:0.08543#011validation-error:0.16418\u001b[0m\n",
      "\u001b[34m[53]#011train-error:0.09548#011validation-error:0.16418\u001b[0m\n",
      "\u001b[34m[54]#011train-error:0.09045#011validation-error:0.16418\u001b[0m\n",
      "\u001b[34m[55]#011train-error:0.08543#011validation-error:0.16418\u001b[0m\n",
      "\u001b[34m[56]#011train-error:0.07538#011validation-error:0.16418\u001b[0m\n",
      "\u001b[34m[57]#011train-error:0.07538#011validation-error:0.14925\u001b[0m\n",
      "\u001b[34m[58]#011train-error:0.07538#011validation-error:0.14925\u001b[0m\n",
      "\u001b[34m[59]#011train-error:0.07538#011validation-error:0.14925\u001b[0m\n",
      "\u001b[34m[60]#011train-error:0.07538#011validation-error:0.14925\u001b[0m\n",
      "\u001b[34m[61]#011train-error:0.07538#011validation-error:0.13433\u001b[0m\n",
      "\u001b[34m[62]#011train-error:0.07538#011validation-error:0.13433\u001b[0m\n",
      "\u001b[34m[63]#011train-error:0.07035#011validation-error:0.13433\u001b[0m\n",
      "\u001b[34m[64]#011train-error:0.07538#011validation-error:0.13433\u001b[0m\n",
      "\u001b[34m[65]#011train-error:0.08040#011validation-error:0.14925\u001b[0m\n",
      "\u001b[34m[66]#011train-error:0.08040#011validation-error:0.14925\u001b[0m\n",
      "\u001b[34m[67]#011train-error:0.08040#011validation-error:0.14925\u001b[0m\n",
      "\u001b[34m[68]#011train-error:0.08040#011validation-error:0.14925\u001b[0m\n",
      "\u001b[34m[69]#011train-error:0.08543#011validation-error:0.14925\u001b[0m\n",
      "\u001b[34m[70]#011train-error:0.08543#011validation-error:0.14925\u001b[0m\n",
      "\u001b[34m[71]#011train-error:0.08543#011validation-error:0.14925\u001b[0m\n",
      "\u001b[34m[72]#011train-error:0.07538#011validation-error:0.14925\u001b[0m\n",
      "\u001b[34m[73]#011train-error:0.07538#011validation-error:0.14925\u001b[0m\n",
      "\u001b[34m[74]#011train-error:0.07538#011validation-error:0.14925\u001b[0m\n",
      "\u001b[34m[75]#011train-error:0.07538#011validation-error:0.14925\u001b[0m\n",
      "\u001b[34m[76]#011train-error:0.07538#011validation-error:0.14925\u001b[0m\n",
      "\u001b[34m[77]#011train-error:0.07035#011validation-error:0.14925\u001b[0m\n",
      "\u001b[34m[78]#011train-error:0.07035#011validation-error:0.14925\u001b[0m\n",
      "\u001b[34m[79]#011train-error:0.07035#011validation-error:0.14925\u001b[0m\n",
      "\u001b[34m[80]#011train-error:0.07538#011validation-error:0.14925\u001b[0m\n",
      "\u001b[34m[81]#011train-error:0.07538#011validation-error:0.14925\u001b[0m\n",
      "\u001b[34m[82]#011train-error:0.07538#011validation-error:0.14925\u001b[0m\n",
      "\u001b[34m[83]#011train-error:0.07538#011validation-error:0.14925\u001b[0m\n",
      "\u001b[34m[84]#011train-error:0.07035#011validation-error:0.14925\u001b[0m\n",
      "\u001b[34m[85]#011train-error:0.07538#011validation-error:0.14925\u001b[0m\n",
      "\u001b[34m[86]#011train-error:0.07538#011validation-error:0.14925\u001b[0m\n",
      "\u001b[34m[87]#011train-error:0.07538#011validation-error:0.14925\u001b[0m\n",
      "\u001b[34m[88]#011train-error:0.07538#011validation-error:0.14925\u001b[0m\n",
      "\u001b[34m[89]#011train-error:0.07035#011validation-error:0.14925\u001b[0m\n",
      "\u001b[34m[90]#011train-error:0.06533#011validation-error:0.14925\u001b[0m\n",
      "\u001b[34m[91]#011train-error:0.06030#011validation-error:0.14925\u001b[0m\n",
      "\u001b[34m[92]#011train-error:0.07035#011validation-error:0.14925\u001b[0m\n",
      "\u001b[34m[93]#011train-error:0.07035#011validation-error:0.14925\u001b[0m\n",
      "\u001b[34m[94]#011train-error:0.07035#011validation-error:0.14925\u001b[0m\n",
      "\u001b[34m[95]#011train-error:0.08040#011validation-error:0.14925\u001b[0m\n",
      "\u001b[34m[96]#011train-error:0.08040#011validation-error:0.14925\u001b[0m\n",
      "\u001b[34m[97]#011train-error:0.08040#011validation-error:0.14925\u001b[0m\n",
      "\u001b[34m[98]#011train-error:0.07538#011validation-error:0.14925\u001b[0m\n",
      "\u001b[34m[99]#011train-error:0.07538#011validation-error:0.14925\u001b[0m\n",
      "\u001b[34m[100]#011train-error:0.07538#011validation-error:0.14925\u001b[0m\n",
      "\u001b[34m[101]#011train-error:0.07538#011validation-error:0.14925\u001b[0m\n",
      "\u001b[34m[102]#011train-error:0.06030#011validation-error:0.14925\u001b[0m\n",
      "\u001b[34m[103]#011train-error:0.07035#011validation-error:0.14925\u001b[0m\n",
      "\u001b[34m[104]#011train-error:0.08040#011validation-error:0.14925\u001b[0m\n",
      "\u001b[34m[105]#011train-error:0.07035#011validation-error:0.14925\u001b[0m\n",
      "\u001b[34m[106]#011train-error:0.06030#011validation-error:0.14925\u001b[0m\n",
      "\u001b[34m[107]#011train-error:0.06030#011validation-error:0.14925\u001b[0m\n",
      "\u001b[34m[108]#011train-error:0.07035#011validation-error:0.14925\u001b[0m\n",
      "\u001b[34m[109]#011train-error:0.07035#011validation-error:0.14925\u001b[0m\n",
      "\u001b[34m[110]#011train-error:0.07035#011validation-error:0.14925\u001b[0m\n",
      "\u001b[34m[111]#011train-error:0.05025#011validation-error:0.14925\u001b[0m\n",
      "\u001b[34m[112]#011train-error:0.05528#011validation-error:0.14925\u001b[0m\n",
      "\u001b[34m[113]#011train-error:0.06030#011validation-error:0.14925\u001b[0m\n",
      "\u001b[34m[114]#011train-error:0.05025#011validation-error:0.14925\u001b[0m\n",
      "\u001b[34m[115]#011train-error:0.05528#011validation-error:0.14925\u001b[0m\n",
      "\u001b[34m[116]#011train-error:0.05528#011validation-error:0.14925\u001b[0m\n",
      "\u001b[34m[117]#011train-error:0.05528#011validation-error:0.14925\u001b[0m\n",
      "\u001b[34m[118]#011train-error:0.04523#011validation-error:0.14925\u001b[0m\n",
      "\u001b[34m[119]#011train-error:0.05025#011validation-error:0.14925\u001b[0m\n",
      "\u001b[34m[120]#011train-error:0.06030#011validation-error:0.14925\u001b[0m\n",
      "\u001b[34m[121]#011train-error:0.05528#011validation-error:0.14925\u001b[0m\n",
      "\u001b[34m[122]#011train-error:0.05528#011validation-error:0.14925\u001b[0m\n",
      "\u001b[34m[123]#011train-error:0.05025#011validation-error:0.13433\u001b[0m\n",
      "\u001b[34m[124]#011train-error:0.04523#011validation-error:0.13433\u001b[0m\n",
      "\n",
      "2021-08-20 19:50:05 Uploading - Uploading generated training model\n",
      "2021-08-20 19:50:05 Completed - Training job completed\n",
      "Training seconds: 79\n",
      "Billable seconds: 79\n"
     ]
    }
   ],
   "source": [
    "# Run the training job to fit the model\n",
    "xgb_model.fit({\"train\": train_input, \"validation\": validation_input}, wait=True)"
   ]
  },
  {
   "cell_type": "code",
   "execution_count": 13,
   "id": "aae3733d",
   "metadata": {},
   "outputs": [
    {
     "name": "stdout",
     "output_type": "stream",
     "text": [
      "--------!"
     ]
    }
   ],
   "source": [
    "# When done training/tuning the model, deploy an endpoint to SageMaker\n",
    "import sagemaker\n",
    "from sagemaker.serializers import CSVSerializer\n",
    "xgb_predictor=xgb_model.deploy(\n",
    "    initial_instance_count=1,\n",
    "    instance_type='ml.t2.medium',\n",
    "    serializer=CSVSerializer()\n",
    ")"
   ]
  },
  {
   "cell_type": "code",
   "execution_count": 16,
   "id": "a52ac421",
   "metadata": {},
   "outputs": [],
   "source": [
    "import numpy as np\n",
    "\n",
    "# This function calls the endpoint to get predictions\n",
    "# from the model and processes the returned data\n",
    "def predict_multi_class(data, num_class, rows=1000):\n",
    "    \n",
    "    assert(num_class >= 2)\n",
    "    \n",
    "    num_examples = data.shape[0]\n",
    "    \n",
    "    split_array = np.array_split(data, int(num_examples / float(rows) + 1))\n",
    "    predictions = ''\n",
    "    for array in split_array:\n",
    "        predictions = ','.join([predictions, xgb_predictor.predict(array).decode('utf-8')])\n",
    "    \n",
    "    # For binary classifiers, predict() returns a single float:\n",
    "    # the probability of a positive outcome\n",
    "    # formally, this means the model returns 1\n",
    "    # in this case, it means CVC4 is expected to be faster with --strings-fmf\n",
    "    if num_class == 2:\n",
    "        return np.fromstring(predictions[1:], sep=',')\n",
    "    \n",
    "    # Convert string version of 2D array to Python list of strings\n",
    "    pred_list = predictions[1:].replace('[','').replace(']','').strip().split(',')\n",
    "    \n",
    "    try:\n",
    "        assert(len(pred_list) == num_examples * num_class)\n",
    "    except AssertionError:\n",
    "        print(\"Something went wrong. Verify that the value of num_class is correct.\")\n",
    "        exit()\n",
    "    \n",
    "    # Convert Python list to Numpy array of floats, and reshape to 2D\n",
    "    return np.array(pred_list, dtype=float).reshape([num_examples,num_class])"
   ]
  },
  {
   "cell_type": "code",
   "execution_count": 17,
   "id": "de5d0b87",
   "metadata": {},
   "outputs": [
    {
     "data": {
      "text/plain": [
       "0.8955223880597015"
      ]
     },
     "execution_count": 17,
     "metadata": {},
     "output_type": "execute_result"
    }
   ],
   "source": [
    "import sklearn\n",
    "\n",
    "# Output the accuracy of the model on the test set\n",
    "log_predictions = predict_multi_class(test.to_numpy()[:,1:], 2) # Probability that CVC4 will be faster with --strings-fmf\n",
    "predictions = np.where(log_predictions > 0.5, 1, 0)\n",
    "sklearn.metrics.accuracy_score(test.iloc[:,0], predictions)"
   ]
  },
  {
   "cell_type": "code",
   "execution_count": 18,
   "id": "956248e5",
   "metadata": {},
   "outputs": [
    {
     "data": {
      "text/plain": [
       "array([[36,  3],\n",
       "       [ 4, 24]])"
      ]
     },
     "execution_count": 18,
     "metadata": {},
     "output_type": "execute_result"
    }
   ],
   "source": [
    "sklearn.metrics.confusion_matrix(test.iloc[:,0], predictions)"
   ]
  },
  {
   "cell_type": "code",
   "execution_count": 19,
   "id": "2040cdb1",
   "metadata": {},
   "outputs": [
    {
     "name": "stdout",
     "output_type": "stream",
     "text": [
      "2021-08-20 19:53:49     373401 smt-qfslia-cvc4-fmf-faster/xgboost_model/sagemaker-xgboost-2021-08-20-19-46-07-831/rule-output/CreateXgboostReport/xgboost_report.html\n",
      "2021-08-20 19:53:48     173632 smt-qfslia-cvc4-fmf-faster/xgboost_model/sagemaker-xgboost-2021-08-20-19-46-07-831/rule-output/CreateXgboostReport/xgboost_report.ipynb\n",
      "2021-08-20 19:51:48     322349 smt-qfslia-cvc4-fmf-faster/xgboost_model/sagemaker-xgboost-2021-08-20-19-46-07-831/rule-output/ProfilerReport-1629488767/profiler-output/profiler-report.html\n",
      "2021-08-20 19:51:47     168696 smt-qfslia-cvc4-fmf-faster/xgboost_model/sagemaker-xgboost-2021-08-20-19-46-07-831/rule-output/ProfilerReport-1629488767/profiler-output/profiler-report.ipynb\n",
      "2021-08-20 19:51:43        190 smt-qfslia-cvc4-fmf-faster/xgboost_model/sagemaker-xgboost-2021-08-20-19-46-07-831/rule-output/ProfilerReport-1629488767/profiler-output/profiler-reports/BatchSize.json\n",
      "2021-08-20 19:51:43        198 smt-qfslia-cvc4-fmf-faster/xgboost_model/sagemaker-xgboost-2021-08-20-19-46-07-831/rule-output/ProfilerReport-1629488767/profiler-output/profiler-reports/CPUBottleneck.json\n",
      "2021-08-20 19:51:43        126 smt-qfslia-cvc4-fmf-faster/xgboost_model/sagemaker-xgboost-2021-08-20-19-46-07-831/rule-output/ProfilerReport-1629488767/profiler-output/profiler-reports/Dataloader.json\n",
      "2021-08-20 19:51:43        127 smt-qfslia-cvc4-fmf-faster/xgboost_model/sagemaker-xgboost-2021-08-20-19-46-07-831/rule-output/ProfilerReport-1629488767/profiler-output/profiler-reports/GPUMemoryIncrease.json\n",
      "2021-08-20 19:51:43        197 smt-qfslia-cvc4-fmf-faster/xgboost_model/sagemaker-xgboost-2021-08-20-19-46-07-831/rule-output/ProfilerReport-1629488767/profiler-output/profiler-reports/IOBottleneck.json\n",
      "2021-08-20 19:51:43        119 smt-qfslia-cvc4-fmf-faster/xgboost_model/sagemaker-xgboost-2021-08-20-19-46-07-831/rule-output/ProfilerReport-1629488767/profiler-output/profiler-reports/LoadBalancing.json\n",
      "2021-08-20 19:51:43        151 smt-qfslia-cvc4-fmf-faster/xgboost_model/sagemaker-xgboost-2021-08-20-19-46-07-831/rule-output/ProfilerReport-1629488767/profiler-output/profiler-reports/LowGPUUtilization.json\n",
      "2021-08-20 19:51:43        178 smt-qfslia-cvc4-fmf-faster/xgboost_model/sagemaker-xgboost-2021-08-20-19-46-07-831/rule-output/ProfilerReport-1629488767/profiler-output/profiler-reports/MaxInitializationTime.json\n",
      "2021-08-20 19:51:43        133 smt-qfslia-cvc4-fmf-faster/xgboost_model/sagemaker-xgboost-2021-08-20-19-46-07-831/rule-output/ProfilerReport-1629488767/profiler-output/profiler-reports/OverallFrameworkMetrics.json\n",
      "2021-08-20 19:51:43        462 smt-qfslia-cvc4-fmf-faster/xgboost_model/sagemaker-xgboost-2021-08-20-19-46-07-831/rule-output/ProfilerReport-1629488767/profiler-output/profiler-reports/OverallSystemUsage.json\n",
      "2021-08-20 19:51:43        156 smt-qfslia-cvc4-fmf-faster/xgboost_model/sagemaker-xgboost-2021-08-20-19-46-07-831/rule-output/ProfilerReport-1629488767/profiler-output/profiler-reports/StepOutlier.json\n"
     ]
    }
   ],
   "source": [
    "rule_output_path = xgb_model.output_path + \"/\" + xgb_model.latest_training_job.name + \"/rule-output\"\n",
    "! aws s3 ls {rule_output_path} --recursive"
   ]
  },
  {
   "cell_type": "code",
   "execution_count": 20,
   "id": "53cfc014",
   "metadata": {},
   "outputs": [
    {
     "name": "stdout",
     "output_type": "stream",
     "text": [
      "download: s3://sagemaker-us-east-2-736959812641/smt-qfslia-cvc4-fmf-faster/xgboost_model/sagemaker-xgboost-2021-08-20-19-46-07-831/rule-output/ProfilerReport-1629488767/profiler-output/profiler-reports/BatchSize.json to ProfilerReport-1629488767/profiler-output/profiler-reports/BatchSize.json\n",
      "download: s3://sagemaker-us-east-2-736959812641/smt-qfslia-cvc4-fmf-faster/xgboost_model/sagemaker-xgboost-2021-08-20-19-46-07-831/rule-output/ProfilerReport-1629488767/profiler-output/profiler-reports/CPUBottleneck.json to ProfilerReport-1629488767/profiler-output/profiler-reports/CPUBottleneck.json\n",
      "download: s3://sagemaker-us-east-2-736959812641/smt-qfslia-cvc4-fmf-faster/xgboost_model/sagemaker-xgboost-2021-08-20-19-46-07-831/rule-output/ProfilerReport-1629488767/profiler-output/profiler-reports/OverallSystemUsage.json to ProfilerReport-1629488767/profiler-output/profiler-reports/OverallSystemUsage.json\n",
      "download: s3://sagemaker-us-east-2-736959812641/smt-qfslia-cvc4-fmf-faster/xgboost_model/sagemaker-xgboost-2021-08-20-19-46-07-831/rule-output/ProfilerReport-1629488767/profiler-output/profiler-reports/GPUMemoryIncrease.json to ProfilerReport-1629488767/profiler-output/profiler-reports/GPUMemoryIncrease.json\n",
      "download: s3://sagemaker-us-east-2-736959812641/smt-qfslia-cvc4-fmf-faster/xgboost_model/sagemaker-xgboost-2021-08-20-19-46-07-831/rule-output/ProfilerReport-1629488767/profiler-output/profiler-report.ipynb to ProfilerReport-1629488767/profiler-output/profiler-report.ipynb\n",
      "download: s3://sagemaker-us-east-2-736959812641/smt-qfslia-cvc4-fmf-faster/xgboost_model/sagemaker-xgboost-2021-08-20-19-46-07-831/rule-output/ProfilerReport-1629488767/profiler-output/profiler-reports/StepOutlier.json to ProfilerReport-1629488767/profiler-output/profiler-reports/StepOutlier.json\n",
      "download: s3://sagemaker-us-east-2-736959812641/smt-qfslia-cvc4-fmf-faster/xgboost_model/sagemaker-xgboost-2021-08-20-19-46-07-831/rule-output/CreateXgboostReport/xgboost_report.html to CreateXgboostReport/xgboost_report.html\n",
      "download: s3://sagemaker-us-east-2-736959812641/smt-qfslia-cvc4-fmf-faster/xgboost_model/sagemaker-xgboost-2021-08-20-19-46-07-831/rule-output/ProfilerReport-1629488767/profiler-output/profiler-reports/OverallFrameworkMetrics.json to ProfilerReport-1629488767/profiler-output/profiler-reports/OverallFrameworkMetrics.json\n",
      "download: s3://sagemaker-us-east-2-736959812641/smt-qfslia-cvc4-fmf-faster/xgboost_model/sagemaker-xgboost-2021-08-20-19-46-07-831/rule-output/ProfilerReport-1629488767/profiler-output/profiler-reports/MaxInitializationTime.json to ProfilerReport-1629488767/profiler-output/profiler-reports/MaxInitializationTime.json\n",
      "download: s3://sagemaker-us-east-2-736959812641/smt-qfslia-cvc4-fmf-faster/xgboost_model/sagemaker-xgboost-2021-08-20-19-46-07-831/rule-output/ProfilerReport-1629488767/profiler-output/profiler-reports/Dataloader.json to ProfilerReport-1629488767/profiler-output/profiler-reports/Dataloader.json\n",
      "download: s3://sagemaker-us-east-2-736959812641/smt-qfslia-cvc4-fmf-faster/xgboost_model/sagemaker-xgboost-2021-08-20-19-46-07-831/rule-output/ProfilerReport-1629488767/profiler-output/profiler-reports/LoadBalancing.json to ProfilerReport-1629488767/profiler-output/profiler-reports/LoadBalancing.json\n",
      "download: s3://sagemaker-us-east-2-736959812641/smt-qfslia-cvc4-fmf-faster/xgboost_model/sagemaker-xgboost-2021-08-20-19-46-07-831/rule-output/CreateXgboostReport/xgboost_report.ipynb to CreateXgboostReport/xgboost_report.ipynb\n",
      "download: s3://sagemaker-us-east-2-736959812641/smt-qfslia-cvc4-fmf-faster/xgboost_model/sagemaker-xgboost-2021-08-20-19-46-07-831/rule-output/ProfilerReport-1629488767/profiler-output/profiler-reports/IOBottleneck.json to ProfilerReport-1629488767/profiler-output/profiler-reports/IOBottleneck.json\n",
      "download: s3://sagemaker-us-east-2-736959812641/smt-qfslia-cvc4-fmf-faster/xgboost_model/sagemaker-xgboost-2021-08-20-19-46-07-831/rule-output/ProfilerReport-1629488767/profiler-output/profiler-reports/LowGPUUtilization.json to ProfilerReport-1629488767/profiler-output/profiler-reports/LowGPUUtilization.json\n",
      "download: s3://sagemaker-us-east-2-736959812641/smt-qfslia-cvc4-fmf-faster/xgboost_model/sagemaker-xgboost-2021-08-20-19-46-07-831/rule-output/ProfilerReport-1629488767/profiler-output/profiler-report.html to ProfilerReport-1629488767/profiler-output/profiler-report.html\n"
     ]
    }
   ],
   "source": [
    "! aws s3 cp {rule_output_path} ./ --recursive"
   ]
  },
  {
   "cell_type": "code",
   "execution_count": null,
   "id": "f0335978",
   "metadata": {},
   "outputs": [],
   "source": []
  }
 ],
 "metadata": {
  "kernelspec": {
   "display_name": "conda_python3",
   "language": "python",
   "name": "conda_python3"
  },
  "language_info": {
   "codemirror_mode": {
    "name": "ipython",
    "version": 3
   },
   "file_extension": ".py",
   "mimetype": "text/x-python",
   "name": "python",
   "nbconvert_exporter": "python",
   "pygments_lexer": "ipython3",
   "version": "3.6.13"
  }
 },
 "nbformat": 4,
 "nbformat_minor": 5
}
