{
 "cells": [
  {
   "cell_type": "code",
   "execution_count": 1,
   "id": "c4c6b14f",
   "metadata": {},
   "outputs": [],
   "source": [
    "import pandas as pd\n",
    "import numpy as np\n",
    "import matplotlib.pyplot as plt\n",
    "from scipy.stats import pearsonr as r"
   ]
  },
  {
   "cell_type": "code",
   "execution_count": 2,
   "id": "d1562cc4",
   "metadata": {},
   "outputs": [],
   "source": [
    "X1 = pd.read_csv(\"on_features_fmf_faster.csv\")\n",
    "X2 = pd.read_csv(\"on_features_fmf_slower.csv\")\n",
    "header = X1.columns\n",
    "\n",
    "y1 = np.ones((len(X1),1))\n",
    "y2 = np.zeros((len(X2),1))"
   ]
  },
  {
   "cell_type": "code",
   "execution_count": 33,
   "id": "af339be7",
   "metadata": {},
   "outputs": [],
   "source": [
    "X = pd.concat([X1,X2], ignore_index=True).values\n",
    "y = np.squeeze(np.concatenate([y1,y2]))"
   ]
  },
  {
   "cell_type": "code",
   "execution_count": 34,
   "id": "7c06b9d2",
   "metadata": {},
   "outputs": [
    {
     "name": "stdout",
     "output_type": "stream",
     "text": [
      "Feature 0: (less_than_7) r=0.45072329599518557, p=4.576181189869757e-18\n",
      "Feature 1: (equal_7) r=0.4006475242963255, p=2.858970555519276e-14\n",
      "Feature 2: (equal_8) r=-0.26691811718500985, p=7.715099524238624e-07\n",
      "Feature 3: (equal_9) r=-0.17717325150963759, p=0.0011676227728717931\n",
      "Feature 6: (between_40_60) r=0.14813111242815266, p=0.006770439776633778\n",
      "Feature 7: (between_60_80) r=-0.1538243541567651, p=0.004904531860182272\n",
      "Feature 9: (over_100) r=0.12097818534391466, p=0.02728213836982103\n"
     ]
    }
   ],
   "source": [
    "# For each feature, compute Pearson's R and the corresponding p-value\n",
    "# If the p-value indicates statistical significance (p <= 0.05), print it\n",
    "for i in range(X.shape[1]):\n",
    "    R, P = r(X[:,i],y)\n",
    "    if P <= 0.05:\n",
    "        print(\"Feature \" + str(i) + \": (\" + header[i] + \") r=\" + str(R) + \", p=\" + str(P))"
   ]
  },
  {
   "cell_type": "code",
   "execution_count": null,
   "id": "3c19c072",
   "metadata": {},
   "outputs": [],
   "source": []
  }
 ],
 "metadata": {
  "kernelspec": {
   "display_name": "conda_python3",
   "language": "python",
   "name": "conda_python3"
  },
  "language_info": {
   "codemirror_mode": {
    "name": "ipython",
    "version": 3
   },
   "file_extension": ".py",
   "mimetype": "text/x-python",
   "name": "python",
   "nbconvert_exporter": "python",
   "pygments_lexer": "ipython3",
   "version": "3.6.13"
  }
 },
 "nbformat": 4,
 "nbformat_minor": 5
}
