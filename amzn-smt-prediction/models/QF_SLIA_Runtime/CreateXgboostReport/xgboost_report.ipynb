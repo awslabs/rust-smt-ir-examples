{
 "cells": [
  {
   "cell_type": "code",
   "execution_count": 1,
   "metadata": {
    "execution": {
     "iopub.execute_input": "2021-08-24T17:54:34.187766Z",
     "iopub.status.busy": "2021-08-24T17:54:34.187056Z",
     "iopub.status.idle": "2021-08-24T17:54:34.190825Z",
     "shell.execute_reply": "2021-08-24T17:54:34.191235Z"
    },
    "papermill": {
     "duration": 0.031909,
     "end_time": "2021-08-24T17:54:34.191452",
     "exception": false,
     "start_time": "2021-08-24T17:54:34.159543",
     "status": "completed"
    },
    "tags": [
     "hide-input"
    ]
   },
   "outputs": [
    {
     "data": {
      "text/markdown": [
       "# XGBoost Training Report by SageMaker Debugger\n",
       "\t\t\t\t\t\t\t\t\t\t\t\t\t\t\t\t\t\t\t Created on 2021-08-24 17:54:34 \n",
       "\n",
       "The SageMaker Debugger `CreateXgboostReport` built-in rule auto-generates this report. This report provides a summary of the XGBoost model training evaluation results, insights of the model performance, and interactive graphs.\n",
       "\n",
       " **Legal disclaimer:** In this report, plots and and recommendations are provided for informational purposes only and are not definitive. You are responsible for making your own independent assessment of the information.\n",
       "]\n",
       "For more information, see the following documentation:\n",
       "\n",
       "* [Amazon SageMaker Developer Guide](https://docs.aws.amazon.com/sagemaker/latest/dg/train-debugger.html)\n",
       "\n",
       "If you want to use the notebook that generated this report, you need to install the following libraries:\n",
       "\n",
       "* [SageMaker Debugger Client Library Github](https://github.com/awslabs/sagemaker-debugger)\n",
       "* [The Bokeh Python Visualization Tool](http://docs.bokeh.org/en/0.11.0/docs/installation.html)\n"
      ],
      "text/plain": [
       "<IPython.core.display.Markdown object>"
      ]
     },
     "metadata": {},
     "output_type": "display_data"
    }
   ],
   "source": [
    "import datetime\n",
    "from IPython.display import display, Markdown\n",
    "\n",
    "timestamp = datetime.datetime.now().replace(microsecond=0)\n",
    "\n",
    "s = f\"# XGBoost Training Report by SageMaker Debugger\\n\\\n",
    "\\t\\t\\t\\t\\t\\t\\t\\t\\t\\t\\t\\t\\t\\t\\t\\t\\t\\t\\t Created on {timestamp} \\n\\\n",
    "\\n\\\n",
    "The SageMaker Debugger `CreateXgboostReport` built-in rule auto-generates this report. This report provides a summary of the XGBoost model training evaluation results, insights of the model performance, and interactive graphs.\\n\\\n",
    "\\n\\\n",
    " **Legal disclaimer:** In this report, plots and and recommendations are provided for informational purposes only and are not definitive. You are responsible for making your own independent assessment of the information.\\n]\\\n",
    "\\n\\\n",
    "For more information, see the following documentation:\\n\\\n",
    "\\n\\\n",
    "* [Amazon SageMaker Developer Guide](https://docs.aws.amazon.com/sagemaker/latest/dg/train-debugger.html)\\n\\\n",
    "\\n\\\n",
    "If you want to use the notebook that generated this report, you need to install the following libraries:\\n\\\n",
    "\\n\\\n",
    "* [SageMaker Debugger Client Library Github](https://github.com/awslabs/sagemaker-debugger)\\n\\\n",
    "* [The Bokeh Python Visualization Tool](http://docs.bokeh.org/en/0.11.0/docs/installation.html)\\n\\\n",
    "\"\n",
    "display(Markdown(s))"
   ]
  },
  {
   "cell_type": "code",
   "execution_count": 2,
   "metadata": {
    "execution": {
     "iopub.execute_input": "2021-08-24T17:54:34.214144Z",
     "iopub.status.busy": "2021-08-24T17:54:34.213259Z",
     "iopub.status.idle": "2021-08-24T17:54:34.215311Z",
     "shell.execute_reply": "2021-08-24T17:54:34.215848Z"
    },
    "papermill": {
     "duration": 0.01608,
     "end_time": "2021-08-24T17:54:34.216012",
     "exception": false,
     "start_time": "2021-08-24T17:54:34.199932",
     "status": "completed"
    },
    "tags": [
     "parameters",
     "hide-input"
    ]
   },
   "outputs": [],
   "source": [
    "# set your plotting frequency\n",
    "plot_step = -1\n",
    "# set the path to your trial data (debug_data_path)\n",
    "s3_path = \"\"\n",
    "path = \"\"\n",
    "\n",
    "is_regression = None\n",
    "is_classification = None"
   ]
  },
  {
   "cell_type": "code",
   "execution_count": 3,
   "metadata": {
    "execution": {
     "iopub.execute_input": "2021-08-24T17:54:34.235827Z",
     "iopub.status.busy": "2021-08-24T17:54:34.235081Z",
     "iopub.status.idle": "2021-08-24T17:54:34.237223Z",
     "shell.execute_reply": "2021-08-24T17:54:34.237649Z"
    },
    "papermill": {
     "duration": 0.013798,
     "end_time": "2021-08-24T17:54:34.237794",
     "exception": false,
     "start_time": "2021-08-24T17:54:34.223996",
     "status": "completed"
    },
    "tags": [
     "injected-parameters"
    ]
   },
   "outputs": [],
   "source": [
    "# Parameters\n",
    "path = \"/opt/ml/processing/input/tensors\"\n",
    "plot_step = 95\n",
    "s3_path = \"s3://sagemaker-us-east-2-736959812641/smt-qfslia-cvc4-runtime/xgboost_model/sagemaker-xgboost-2021-08-24-17-47-04-737/debug-output\"\n"
   ]
  },
  {
   "cell_type": "markdown",
   "metadata": {
    "papermill": {
     "duration": 0.008265,
     "end_time": "2021-08-24T17:54:34.253789",
     "exception": false,
     "start_time": "2021-08-24T17:54:34.245524",
     "status": "completed"
    },
    "tags": []
   },
   "source": [
    "The following parameters are the default values auto-generated by the `CreateXgboostReport` built-in rule.\n",
    "\n",
    "- `path (str)` - The local path where Debugger has saved output tensors in the training container.\n",
    "- `plot_step (int)` - The step for which the rule has created the training report.\n",
    "- `s3_path (str)` -  The S3 bucket URI where Debugger has saved the output tensors."
   ]
  },
  {
   "cell_type": "code",
   "execution_count": 4,
   "metadata": {
    "execution": {
     "iopub.execute_input": "2021-08-24T17:54:34.278396Z",
     "iopub.status.busy": "2021-08-24T17:54:34.277343Z",
     "iopub.status.idle": "2021-08-24T17:54:34.279513Z",
     "shell.execute_reply": "2021-08-24T17:54:34.279956Z"
    },
    "papermill": {
     "duration": 0.017784,
     "end_time": "2021-08-24T17:54:34.280115",
     "exception": false,
     "start_time": "2021-08-24T17:54:34.262331",
     "status": "completed"
    },
    "tags": [
     "hide-input",
     "hide-output"
    ]
   },
   "outputs": [],
   "source": [
    "import os\n",
    "if not os.path.exists(\"/opt/ml/config/processingjobconfig.json\"):\n",
    "    path = s3_path\n",
    "    ! pip install smdebug \n",
    "    ! pip install matplotlib\n",
    "    ! pip install scipy\n",
    "    "
   ]
  },
  {
   "cell_type": "code",
   "execution_count": 5,
   "metadata": {
    "execution": {
     "iopub.execute_input": "2021-08-24T17:54:34.300679Z",
     "iopub.status.busy": "2021-08-24T17:54:34.299892Z",
     "iopub.status.idle": "2021-08-24T17:54:34.301984Z",
     "shell.execute_reply": "2021-08-24T17:54:34.302381Z"
    },
    "papermill": {
     "duration": 0.014747,
     "end_time": "2021-08-24T17:54:34.302510",
     "exception": false,
     "start_time": "2021-08-24T17:54:34.287763",
     "status": "completed"
    },
    "tags": [
     "hide-input",
     "hide-output"
    ]
   },
   "outputs": [],
   "source": [
    "if path == \"\":\n",
    "    assert False, \"Path cannot be empty\""
   ]
  },
  {
   "cell_type": "code",
   "execution_count": 6,
   "metadata": {
    "execution": {
     "iopub.execute_input": "2021-08-24T17:54:34.325985Z",
     "iopub.status.busy": "2021-08-24T17:54:34.325097Z",
     "iopub.status.idle": "2021-08-24T17:54:36.119427Z",
     "shell.execute_reply": "2021-08-24T17:54:36.119944Z"
    },
    "papermill": {
     "duration": 1.80733,
     "end_time": "2021-08-24T17:54:36.120120",
     "exception": false,
     "start_time": "2021-08-24T17:54:34.312790",
     "status": "completed"
    },
    "tags": [
     "hide-output",
     "hide-input"
    ]
   },
   "outputs": [
    {
     "name": "stdout",
     "output_type": "stream",
     "text": [
      "[2021-08-24 17:54:34.834 ip-10-0-208-149.us-east-2.compute.internal:14 INFO utils.py:27] RULE_JOB_STOP_SIGNAL_FILENAME: None\n",
      "[2021-08-24 17:54:34.919 ip-10-0-208-149.us-east-2.compute.internal:14 INFO local_trial.py:35] Loading trial tensors at path /opt/ml/processing/input/tensors\n",
      "[2021-08-24 17:54:35.048 ip-10-0-208-149.us-east-2.compute.internal:14 INFO trial.py:198] Training has ended, will refresh one final time in 1 sec.\n",
      "[2021-08-24 17:54:36.113 ip-10-0-208-149.us-east-2.compute.internal:14 INFO trial.py:210] Loaded all steps\n"
     ]
    }
   ],
   "source": [
    "import re\n",
    "from smdebug.trials import create_trial\n",
    "trial = create_trial(path)\n",
    "tensor_names = trial.tensor_names() # Load all tensor names"
   ]
  },
  {
   "cell_type": "code",
   "execution_count": 7,
   "metadata": {
    "execution": {
     "iopub.execute_input": "2021-08-24T17:54:36.145785Z",
     "iopub.status.busy": "2021-08-24T17:54:36.143641Z",
     "iopub.status.idle": "2021-08-24T17:54:36.150697Z",
     "shell.execute_reply": "2021-08-24T17:54:36.151149Z"
    },
    "papermill": {
     "duration": 0.022981,
     "end_time": "2021-08-24T17:54:36.151293",
     "exception": false,
     "start_time": "2021-08-24T17:54:36.128312",
     "status": "completed"
    },
    "tags": [
     "hide-input"
    ]
   },
   "outputs": [
    {
     "data": {
      "text/markdown": [
       "### Hyperparameter Objective must be reg:squarederror, binary:logistic or multi:softmax\n",
       "### This report currently does not support the objective: multi:softprob\n",
       "### Some of the graphs maybe missing.\n"
      ],
      "text/plain": [
       "<IPython.core.display.Markdown object>"
      ]
     },
     "metadata": {},
     "output_type": "display_data"
    }
   ],
   "source": [
    "from IPython.display import display, Markdown\n",
    "\n",
    "SUPPORTED_OBJECTIVES = [\"reg:squarederror\", \"binary:logistic\", \"multi:softmax\"]\n",
    "objective_metric = None\n",
    "if 'hyperparameters/objective' in tensor_names:\n",
    "    objective_metric = trial.tensor('hyperparameters/objective').value(0)[0]\n",
    "\n",
    "    \n",
    "if plot_step == 0:\n",
    "    ERROR_MESSAGE = \"### This report renders graphs with metrics collected every five steps.\\n\\\n",
    "### Please consider running training for more than five rounds.\"\n",
    "    display(Markdown(ERROR_MESSAGE))\n",
    "    \n",
    "ERROR_MESSAGE = f\"### Hyperparameter Objective must be reg:squarederror, binary:logistic or multi:softmax\\n\\\n",
    "### This report currently does not support the objective: {objective_metric}\\n\\\n",
    "### Some of the graphs maybe missing.\\n\\\n",
    "\"    \n",
    "\n",
    "s=\"### Table of Contents\\n\\\n",
    "- [Distribution of True Labels of the Dataset](#section1)\\n\\\n",
    "- [Loss vs Step Graph](#section2)\\n\\\n",
    "- [Feature Importance](#section3)\\n\\\n",
    "\"\n",
    "\n",
    "classfication_specific_graphs=\"\\n\\\n",
    "- [Confusion Matrix](#section4)\\n\\\n",
    "- [Evaluation of the Confusion Matrix](#section4-1)\\n\\\n",
    "- [Accuracy Rate of Each Diagonal Element over Iteration](#section4-2)\\n\\\n",
    "\"\n",
    "binary_classification_specific_graphs=\"\\n\\\n",
    "- [Receiver Operating Characteristic Curve](#section5)\\n\\\n",
    "\"\n",
    "if objective_metric in [\"binary:logistic\", \"multi:softmax\"]:\n",
    "    s +=classfication_specific_graphs\n",
    "if objective_metric in [\"binary:logistic\"]:\n",
    "    s += binary_classification_specific_graphs\n",
    "    \n",
    "s+=\"\\n\\\n",
    "- [Distribution of Residuals at Last Saved Step](#section6)\\n\\\n",
    "\"\n",
    "\n",
    "regression_specific_graphs = \"\\n\\\n",
    "- [Absolute Validation Error per Label Bin over Iteration](#section7)\\n\\\n",
    "- [Mean Absolute Validation Error per Label Bin](#section8)\\n\\\n",
    "\"\n",
    "    \n",
    "if objective_metric in [\"reg:squarederror\"]:\n",
    "    s+=regression_specific_graphs\n",
    "\n",
    "if objective_metric not in SUPPORTED_OBJECTIVES:\n",
    "    display(Markdown(ERROR_MESSAGE))\n",
    "else:\n",
    "    display(Markdown(s))"
   ]
  },
  {
   "cell_type": "code",
   "execution_count": 8,
   "metadata": {
    "execution": {
     "iopub.execute_input": "2021-08-24T17:54:36.174294Z",
     "iopub.status.busy": "2021-08-24T17:54:36.173440Z",
     "iopub.status.idle": "2021-08-24T17:54:37.082332Z",
     "shell.execute_reply": "2021-08-24T17:54:37.082723Z"
    },
    "papermill": {
     "duration": 0.921663,
     "end_time": "2021-08-24T17:54:37.082865",
     "exception": false,
     "start_time": "2021-08-24T17:54:36.161202",
     "status": "completed"
    },
    "tags": [
     "hide-input"
    ]
   },
   "outputs": [
    {
     "data": {
      "text/html": [
       "\n",
       "    <div class=\"bk-root\">\n",
       "        <a href=\"https://bokeh.org\" target=\"_blank\" class=\"bk-logo bk-logo-small bk-logo-notebook\"></a>\n",
       "        <span id=\"1001\">Loading BokehJS ...</span>\n",
       "    </div>"
      ]
     },
     "metadata": {},
     "output_type": "display_data"
    },
    {
     "data": {
      "application/javascript": [
       "\n",
       "(function(root) {\n",
       "  function now() {\n",
       "    return new Date();\n",
       "  }\n",
       "\n",
       "  var force = true;\n",
       "\n",
       "  if (typeof root._bokeh_onload_callbacks === \"undefined\" || force === true) {\n",
       "    root._bokeh_onload_callbacks = [];\n",
       "    root._bokeh_is_loading = undefined;\n",
       "  }\n",
       "\n",
       "  var JS_MIME_TYPE = 'application/javascript';\n",
       "  var HTML_MIME_TYPE = 'text/html';\n",
       "  var EXEC_MIME_TYPE = 'application/vnd.bokehjs_exec.v0+json';\n",
       "  var CLASS_NAME = 'output_bokeh rendered_html';\n",
       "\n",
       "  /**\n",
       "   * Render data to the DOM node\n",
       "   */\n",
       "  function render(props, node) {\n",
       "    var script = document.createElement(\"script\");\n",
       "    node.appendChild(script);\n",
       "  }\n",
       "\n",
       "  /**\n",
       "   * Handle when an output is cleared or removed\n",
       "   */\n",
       "  function handleClearOutput(event, handle) {\n",
       "    var cell = handle.cell;\n",
       "\n",
       "    var id = cell.output_area._bokeh_element_id;\n",
       "    var server_id = cell.output_area._bokeh_server_id;\n",
       "    // Clean up Bokeh references\n",
       "    if (id != null && id in Bokeh.index) {\n",
       "      Bokeh.index[id].model.document.clear();\n",
       "      delete Bokeh.index[id];\n",
       "    }\n",
       "\n",
       "    if (server_id !== undefined) {\n",
       "      // Clean up Bokeh references\n",
       "      var cmd = \"from bokeh.io.state import curstate; print(curstate().uuid_to_server['\" + server_id + \"'].get_sessions()[0].document.roots[0]._id)\";\n",
       "      cell.notebook.kernel.execute(cmd, {\n",
       "        iopub: {\n",
       "          output: function(msg) {\n",
       "            var id = msg.content.text.trim();\n",
       "            if (id in Bokeh.index) {\n",
       "              Bokeh.index[id].model.document.clear();\n",
       "              delete Bokeh.index[id];\n",
       "            }\n",
       "          }\n",
       "        }\n",
       "      });\n",
       "      // Destroy server and session\n",
       "      var cmd = \"import bokeh.io.notebook as ion; ion.destroy_server('\" + server_id + \"')\";\n",
       "      cell.notebook.kernel.execute(cmd);\n",
       "    }\n",
       "  }\n",
       "\n",
       "  /**\n",
       "   * Handle when a new output is added\n",
       "   */\n",
       "  function handleAddOutput(event, handle) {\n",
       "    var output_area = handle.output_area;\n",
       "    var output = handle.output;\n",
       "\n",
       "    // limit handleAddOutput to display_data with EXEC_MIME_TYPE content only\n",
       "    if ((output.output_type != \"display_data\") || (!output.data.hasOwnProperty(EXEC_MIME_TYPE))) {\n",
       "      return\n",
       "    }\n",
       "\n",
       "    var toinsert = output_area.element.find(\".\" + CLASS_NAME.split(' ')[0]);\n",
       "\n",
       "    if (output.metadata[EXEC_MIME_TYPE][\"id\"] !== undefined) {\n",
       "      toinsert[toinsert.length - 1].firstChild.textContent = output.data[JS_MIME_TYPE];\n",
       "      // store reference to embed id on output_area\n",
       "      output_area._bokeh_element_id = output.metadata[EXEC_MIME_TYPE][\"id\"];\n",
       "    }\n",
       "    if (output.metadata[EXEC_MIME_TYPE][\"server_id\"] !== undefined) {\n",
       "      var bk_div = document.createElement(\"div\");\n",
       "      bk_div.innerHTML = output.data[HTML_MIME_TYPE];\n",
       "      var script_attrs = bk_div.children[0].attributes;\n",
       "      for (var i = 0; i < script_attrs.length; i++) {\n",
       "        toinsert[toinsert.length - 1].firstChild.setAttribute(script_attrs[i].name, script_attrs[i].value);\n",
       "        toinsert[toinsert.length - 1].firstChild.textContent = bk_div.children[0].textContent\n",
       "      }\n",
       "      // store reference to server id on output_area\n",
       "      output_area._bokeh_server_id = output.metadata[EXEC_MIME_TYPE][\"server_id\"];\n",
       "    }\n",
       "  }\n",
       "\n",
       "  function register_renderer(events, OutputArea) {\n",
       "\n",
       "    function append_mime(data, metadata, element) {\n",
       "      // create a DOM node to render to\n",
       "      var toinsert = this.create_output_subarea(\n",
       "        metadata,\n",
       "        CLASS_NAME,\n",
       "        EXEC_MIME_TYPE\n",
       "      );\n",
       "      this.keyboard_manager.register_events(toinsert);\n",
       "      // Render to node\n",
       "      var props = {data: data, metadata: metadata[EXEC_MIME_TYPE]};\n",
       "      render(props, toinsert[toinsert.length - 1]);\n",
       "      element.append(toinsert);\n",
       "      return toinsert\n",
       "    }\n",
       "\n",
       "    /* Handle when an output is cleared or removed */\n",
       "    events.on('clear_output.CodeCell', handleClearOutput);\n",
       "    events.on('delete.Cell', handleClearOutput);\n",
       "\n",
       "    /* Handle when a new output is added */\n",
       "    events.on('output_added.OutputArea', handleAddOutput);\n",
       "\n",
       "    /**\n",
       "     * Register the mime type and append_mime function with output_area\n",
       "     */\n",
       "    OutputArea.prototype.register_mime_type(EXEC_MIME_TYPE, append_mime, {\n",
       "      /* Is output safe? */\n",
       "      safe: true,\n",
       "      /* Index of renderer in `output_area.display_order` */\n",
       "      index: 0\n",
       "    });\n",
       "  }\n",
       "\n",
       "  // register the mime type if in Jupyter Notebook environment and previously unregistered\n",
       "  if (root.Jupyter !== undefined) {\n",
       "    var events = require('base/js/events');\n",
       "    var OutputArea = require('notebook/js/outputarea').OutputArea;\n",
       "\n",
       "    if (OutputArea.prototype.mime_types().indexOf(EXEC_MIME_TYPE) == -1) {\n",
       "      register_renderer(events, OutputArea);\n",
       "    }\n",
       "  }\n",
       "\n",
       "  \n",
       "  if (typeof (root._bokeh_timeout) === \"undefined\" || force === true) {\n",
       "    root._bokeh_timeout = Date.now() + 5000;\n",
       "    root._bokeh_failed_load = false;\n",
       "  }\n",
       "\n",
       "  var NB_LOAD_WARNING = {'data': {'text/html':\n",
       "     \"<div style='background-color: #fdd'>\\n\"+\n",
       "     \"<p>\\n\"+\n",
       "     \"BokehJS does not appear to have successfully loaded. If loading BokehJS from CDN, this \\n\"+\n",
       "     \"may be due to a slow or bad network connection. Possible fixes:\\n\"+\n",
       "     \"</p>\\n\"+\n",
       "     \"<ul>\\n\"+\n",
       "     \"<li>re-rerun `output_notebook()` to attempt to load from CDN again, or</li>\\n\"+\n",
       "     \"<li>use INLINE resources instead, as so:</li>\\n\"+\n",
       "     \"</ul>\\n\"+\n",
       "     \"<code>\\n\"+\n",
       "     \"from bokeh.resources import INLINE\\n\"+\n",
       "     \"output_notebook(resources=INLINE)\\n\"+\n",
       "     \"</code>\\n\"+\n",
       "     \"</div>\"}};\n",
       "\n",
       "  function display_loaded() {\n",
       "    var el = document.getElementById(\"1001\");\n",
       "    if (el != null) {\n",
       "      el.textContent = \"BokehJS is loading...\";\n",
       "    }\n",
       "    if (root.Bokeh !== undefined) {\n",
       "      if (el != null) {\n",
       "        el.textContent = \"BokehJS \" + root.Bokeh.version + \" successfully loaded.\";\n",
       "      }\n",
       "    } else if (Date.now() < root._bokeh_timeout) {\n",
       "      setTimeout(display_loaded, 100)\n",
       "    }\n",
       "  }\n",
       "\n",
       "\n",
       "  function run_callbacks() {\n",
       "    try {\n",
       "      root._bokeh_onload_callbacks.forEach(function(callback) {\n",
       "        if (callback != null)\n",
       "          callback();\n",
       "      });\n",
       "    } finally {\n",
       "      delete root._bokeh_onload_callbacks\n",
       "    }\n",
       "    console.debug(\"Bokeh: all callbacks have finished\");\n",
       "  }\n",
       "\n",
       "  function load_libs(css_urls, js_urls, callback) {\n",
       "    if (css_urls == null) css_urls = [];\n",
       "    if (js_urls == null) js_urls = [];\n",
       "\n",
       "    root._bokeh_onload_callbacks.push(callback);\n",
       "    if (root._bokeh_is_loading > 0) {\n",
       "      console.debug(\"Bokeh: BokehJS is being loaded, scheduling callback at\", now());\n",
       "      return null;\n",
       "    }\n",
       "    if (js_urls == null || js_urls.length === 0) {\n",
       "      run_callbacks();\n",
       "      return null;\n",
       "    }\n",
       "    console.debug(\"Bokeh: BokehJS not loaded, scheduling load and callback at\", now());\n",
       "    root._bokeh_is_loading = css_urls.length + js_urls.length;\n",
       "\n",
       "    function on_load() {\n",
       "      root._bokeh_is_loading--;\n",
       "      if (root._bokeh_is_loading === 0) {\n",
       "        console.debug(\"Bokeh: all BokehJS libraries/stylesheets loaded\");\n",
       "        run_callbacks()\n",
       "      }\n",
       "    }\n",
       "\n",
       "    function on_error() {\n",
       "      console.error(\"failed to load \" + url);\n",
       "    }\n",
       "\n",
       "    for (var i = 0; i < css_urls.length; i++) {\n",
       "      var url = css_urls[i];\n",
       "      const element = document.createElement(\"link\");\n",
       "      element.onload = on_load;\n",
       "      element.onerror = on_error;\n",
       "      element.rel = \"stylesheet\";\n",
       "      element.type = \"text/css\";\n",
       "      element.href = url;\n",
       "      console.debug(\"Bokeh: injecting link tag for BokehJS stylesheet: \", url);\n",
       "      document.body.appendChild(element);\n",
       "    }\n",
       "\n",
       "    const hashes = {\"https://cdn.bokeh.org/bokeh/release/bokeh-2.2.3.min.js\": \"T2yuo9Oe71Cz/I4X9Ac5+gpEa5a8PpJCDlqKYO0CfAuEszu1JrXLl8YugMqYe3sM\", \"https://cdn.bokeh.org/bokeh/release/bokeh-widgets-2.2.3.min.js\": \"98GDGJ0kOMCUMUePhksaQ/GYgB3+NH9h996V88sh3aOiUNX3N+fLXAtry6xctSZ6\", \"https://cdn.bokeh.org/bokeh/release/bokeh-tables-2.2.3.min.js\": \"89bArO+nlbP3sgakeHjCo1JYxYR5wufVgA3IbUvDY+K7w4zyxJqssu7wVnfeKCq8\"};\n",
       "\n",
       "    for (var i = 0; i < js_urls.length; i++) {\n",
       "      var url = js_urls[i];\n",
       "      var element = document.createElement('script');\n",
       "      element.onload = on_load;\n",
       "      element.onerror = on_error;\n",
       "      element.async = false;\n",
       "      element.src = url;\n",
       "      if (url in hashes) {\n",
       "        element.crossOrigin = \"anonymous\";\n",
       "        element.integrity = \"sha384-\" + hashes[url];\n",
       "      }\n",
       "      console.debug(\"Bokeh: injecting script tag for BokehJS library: \", url);\n",
       "      document.head.appendChild(element);\n",
       "    }\n",
       "  };\n",
       "\n",
       "  function inject_raw_css(css) {\n",
       "    const element = document.createElement(\"style\");\n",
       "    element.appendChild(document.createTextNode(css));\n",
       "    document.body.appendChild(element);\n",
       "  }\n",
       "\n",
       "  \n",
       "  var js_urls = [\"https://cdn.bokeh.org/bokeh/release/bokeh-2.2.3.min.js\", \"https://cdn.bokeh.org/bokeh/release/bokeh-widgets-2.2.3.min.js\", \"https://cdn.bokeh.org/bokeh/release/bokeh-tables-2.2.3.min.js\"];\n",
       "  var css_urls = [];\n",
       "  \n",
       "\n",
       "  var inline_js = [\n",
       "    function(Bokeh) {\n",
       "      Bokeh.set_log_level(\"info\");\n",
       "    },\n",
       "    function(Bokeh) {\n",
       "    \n",
       "    \n",
       "    }\n",
       "  ];\n",
       "\n",
       "  function run_inline_js() {\n",
       "    \n",
       "    if (root.Bokeh !== undefined || force === true) {\n",
       "      \n",
       "    for (var i = 0; i < inline_js.length; i++) {\n",
       "      inline_js[i].call(root, root.Bokeh);\n",
       "    }\n",
       "    if (force === true) {\n",
       "        display_loaded();\n",
       "      }} else if (Date.now() < root._bokeh_timeout) {\n",
       "      setTimeout(run_inline_js, 100);\n",
       "    } else if (!root._bokeh_failed_load) {\n",
       "      console.log(\"Bokeh: BokehJS failed to load within specified timeout.\");\n",
       "      root._bokeh_failed_load = true;\n",
       "    } else if (force !== true) {\n",
       "      var cell = $(document.getElementById(\"1001\")).parents('.cell').data().cell;\n",
       "      cell.output_area.append_execute_result(NB_LOAD_WARNING)\n",
       "    }\n",
       "\n",
       "  }\n",
       "\n",
       "  if (root._bokeh_is_loading === 0) {\n",
       "    console.debug(\"Bokeh: BokehJS loaded, going straight to plotting\");\n",
       "    run_inline_js();\n",
       "  } else {\n",
       "    load_libs(css_urls, js_urls, function() {\n",
       "      console.debug(\"Bokeh: BokehJS plotting callback run at\", now());\n",
       "      run_inline_js();\n",
       "    });\n",
       "  }\n",
       "}(window));"
      ],
      "application/vnd.bokehjs_load.v0+json": "\n(function(root) {\n  function now() {\n    return new Date();\n  }\n\n  var force = true;\n\n  if (typeof root._bokeh_onload_callbacks === \"undefined\" || force === true) {\n    root._bokeh_onload_callbacks = [];\n    root._bokeh_is_loading = undefined;\n  }\n\n  \n\n  \n  if (typeof (root._bokeh_timeout) === \"undefined\" || force === true) {\n    root._bokeh_timeout = Date.now() + 5000;\n    root._bokeh_failed_load = false;\n  }\n\n  var NB_LOAD_WARNING = {'data': {'text/html':\n     \"<div style='background-color: #fdd'>\\n\"+\n     \"<p>\\n\"+\n     \"BokehJS does not appear to have successfully loaded. If loading BokehJS from CDN, this \\n\"+\n     \"may be due to a slow or bad network connection. Possible fixes:\\n\"+\n     \"</p>\\n\"+\n     \"<ul>\\n\"+\n     \"<li>re-rerun `output_notebook()` to attempt to load from CDN again, or</li>\\n\"+\n     \"<li>use INLINE resources instead, as so:</li>\\n\"+\n     \"</ul>\\n\"+\n     \"<code>\\n\"+\n     \"from bokeh.resources import INLINE\\n\"+\n     \"output_notebook(resources=INLINE)\\n\"+\n     \"</code>\\n\"+\n     \"</div>\"}};\n\n  function display_loaded() {\n    var el = document.getElementById(\"1001\");\n    if (el != null) {\n      el.textContent = \"BokehJS is loading...\";\n    }\n    if (root.Bokeh !== undefined) {\n      if (el != null) {\n        el.textContent = \"BokehJS \" + root.Bokeh.version + \" successfully loaded.\";\n      }\n    } else if (Date.now() < root._bokeh_timeout) {\n      setTimeout(display_loaded, 100)\n    }\n  }\n\n\n  function run_callbacks() {\n    try {\n      root._bokeh_onload_callbacks.forEach(function(callback) {\n        if (callback != null)\n          callback();\n      });\n    } finally {\n      delete root._bokeh_onload_callbacks\n    }\n    console.debug(\"Bokeh: all callbacks have finished\");\n  }\n\n  function load_libs(css_urls, js_urls, callback) {\n    if (css_urls == null) css_urls = [];\n    if (js_urls == null) js_urls = [];\n\n    root._bokeh_onload_callbacks.push(callback);\n    if (root._bokeh_is_loading > 0) {\n      console.debug(\"Bokeh: BokehJS is being loaded, scheduling callback at\", now());\n      return null;\n    }\n    if (js_urls == null || js_urls.length === 0) {\n      run_callbacks();\n      return null;\n    }\n    console.debug(\"Bokeh: BokehJS not loaded, scheduling load and callback at\", now());\n    root._bokeh_is_loading = css_urls.length + js_urls.length;\n\n    function on_load() {\n      root._bokeh_is_loading--;\n      if (root._bokeh_is_loading === 0) {\n        console.debug(\"Bokeh: all BokehJS libraries/stylesheets loaded\");\n        run_callbacks()\n      }\n    }\n\n    function on_error() {\n      console.error(\"failed to load \" + url);\n    }\n\n    for (var i = 0; i < css_urls.length; i++) {\n      var url = css_urls[i];\n      const element = document.createElement(\"link\");\n      element.onload = on_load;\n      element.onerror = on_error;\n      element.rel = \"stylesheet\";\n      element.type = \"text/css\";\n      element.href = url;\n      console.debug(\"Bokeh: injecting link tag for BokehJS stylesheet: \", url);\n      document.body.appendChild(element);\n    }\n\n    const hashes = {\"https://cdn.bokeh.org/bokeh/release/bokeh-2.2.3.min.js\": \"T2yuo9Oe71Cz/I4X9Ac5+gpEa5a8PpJCDlqKYO0CfAuEszu1JrXLl8YugMqYe3sM\", \"https://cdn.bokeh.org/bokeh/release/bokeh-widgets-2.2.3.min.js\": \"98GDGJ0kOMCUMUePhksaQ/GYgB3+NH9h996V88sh3aOiUNX3N+fLXAtry6xctSZ6\", \"https://cdn.bokeh.org/bokeh/release/bokeh-tables-2.2.3.min.js\": \"89bArO+nlbP3sgakeHjCo1JYxYR5wufVgA3IbUvDY+K7w4zyxJqssu7wVnfeKCq8\"};\n\n    for (var i = 0; i < js_urls.length; i++) {\n      var url = js_urls[i];\n      var element = document.createElement('script');\n      element.onload = on_load;\n      element.onerror = on_error;\n      element.async = false;\n      element.src = url;\n      if (url in hashes) {\n        element.crossOrigin = \"anonymous\";\n        element.integrity = \"sha384-\" + hashes[url];\n      }\n      console.debug(\"Bokeh: injecting script tag for BokehJS library: \", url);\n      document.head.appendChild(element);\n    }\n  };\n\n  function inject_raw_css(css) {\n    const element = document.createElement(\"style\");\n    element.appendChild(document.createTextNode(css));\n    document.body.appendChild(element);\n  }\n\n  \n  var js_urls = [\"https://cdn.bokeh.org/bokeh/release/bokeh-2.2.3.min.js\", \"https://cdn.bokeh.org/bokeh/release/bokeh-widgets-2.2.3.min.js\", \"https://cdn.bokeh.org/bokeh/release/bokeh-tables-2.2.3.min.js\"];\n  var css_urls = [];\n  \n\n  var inline_js = [\n    function(Bokeh) {\n      Bokeh.set_log_level(\"info\");\n    },\n    function(Bokeh) {\n    \n    \n    }\n  ];\n\n  function run_inline_js() {\n    \n    if (root.Bokeh !== undefined || force === true) {\n      \n    for (var i = 0; i < inline_js.length; i++) {\n      inline_js[i].call(root, root.Bokeh);\n    }\n    if (force === true) {\n        display_loaded();\n      }} else if (Date.now() < root._bokeh_timeout) {\n      setTimeout(run_inline_js, 100);\n    } else if (!root._bokeh_failed_load) {\n      console.log(\"Bokeh: BokehJS failed to load within specified timeout.\");\n      root._bokeh_failed_load = true;\n    } else if (force !== true) {\n      var cell = $(document.getElementById(\"1001\")).parents('.cell').data().cell;\n      cell.output_area.append_execute_result(NB_LOAD_WARNING)\n    }\n\n  }\n\n  if (root._bokeh_is_loading === 0) {\n    console.debug(\"Bokeh: BokehJS loaded, going straight to plotting\");\n    run_inline_js();\n  } else {\n    load_libs(css_urls, js_urls, function() {\n      console.debug(\"Bokeh: BokehJS plotting callback run at\", now());\n      run_inline_js();\n    });\n  }\n}(window));"
     },
     "metadata": {},
     "output_type": "display_data"
    }
   ],
   "source": [
    "from bokeh.io import output_notebook, show\n",
    "from bokeh.layouts import gridplot\n",
    "from bokeh.models import ColumnDataSource\n",
    "from bokeh.plotting import figure\n",
    "output_notebook()"
   ]
  },
  {
   "cell_type": "markdown",
   "metadata": {
    "papermill": {
     "duration": 0.009193,
     "end_time": "2021-08-24T17:54:37.101236",
     "exception": false,
     "start_time": "2021-08-24T17:54:37.092043",
     "status": "completed"
    },
    "tags": []
   },
   "source": [
    "## Distribution of True Labels of the Dataset  <a name=\"section1\"></a>\n",
    "\n",
    "In the following graph, you can check the histogram of the true (target) labels of your raw data. You can see if the distribution of the target labels for prediction are skewed (in case of regression) or imbalanced (in case of classification).\n",
    "\n",
    "* If the data for regression is skewed, you might want to reduce the skewness by taking the log or power transformation on the right-scewed or the left-scewed data respectively. Using the Python [NumPy](https://numpy.org/) library, you can simply apply [numpy.log](https://numpy.org/doc/stable/reference/generated/numpy.log.html?highlight=log#numpy.log) or [numpy.exp](https://numpy.org/doc/stable/reference/generated/numpy.exp.html?highlight=exp#numpy.exp) to your target values.\n",
    "* If the data for classification is imbalanced, you might want to improve your sample by collecting more data, resampling, or generating synthetic samples. This can also be mitigated at the step of evaluating performance metrics, such as Confusion Matrix, Precision, Recall, F-score, and Receiver Operating Characteristic curves.\n",
    "\n",
    "\n"
   ]
  },
  {
   "cell_type": "code",
   "execution_count": 9,
   "metadata": {
    "execution": {
     "iopub.execute_input": "2021-08-24T17:54:37.130049Z",
     "iopub.status.busy": "2021-08-24T17:54:37.129244Z",
     "iopub.status.idle": "2021-08-24T17:54:37.193408Z",
     "shell.execute_reply": "2021-08-24T17:54:37.193007Z"
    },
    "papermill": {
     "duration": 0.084385,
     "end_time": "2021-08-24T17:54:37.193523",
     "exception": false,
     "start_time": "2021-08-24T17:54:37.109138",
     "status": "completed"
    },
    "tags": [
     "hide-input"
    ]
   },
   "outputs": [
    {
     "data": {
      "text/html": [
       "\n",
       "\n",
       "\n",
       "\n",
       "\n",
       "\n",
       "  <div class=\"bk-root\" id=\"c966d146-e88c-43d0-970b-a16919c1e648\" data-root-id=\"1003\"></div>\n"
      ]
     },
     "metadata": {},
     "output_type": "display_data"
    },
    {
     "data": {
      "application/javascript": [
       "(function(root) {\n",
       "  function embed_document(root) {\n",
       "    \n",
       "  var docs_json = {\"423f9fcf-b79b-4f1a-b69a-a3e0b45b51b8\":{\"roots\":{\"references\":[{\"attributes\":{\"below\":[{\"id\":\"1014\"}],\"center\":[{\"id\":\"1017\"},{\"id\":\"1021\"}],\"left\":[{\"id\":\"1018\"}],\"plot_height\":500,\"plot_width\":1000,\"renderers\":[{\"id\":\"1040\"}],\"title\":{\"id\":\"1004\"},\"toolbar\":{\"id\":\"1030\"},\"toolbar_location\":\"left\",\"x_range\":{\"id\":\"1006\"},\"x_scale\":{\"id\":\"1010\"},\"y_range\":{\"id\":\"1008\"},\"y_scale\":{\"id\":\"1012\"}},\"id\":\"1003\",\"subtype\":\"Figure\",\"type\":\"Plot\"},{\"attributes\":{\"bottom_units\":\"screen\",\"fill_alpha\":0.5,\"fill_color\":\"lightgrey\",\"left_units\":\"screen\",\"level\":\"overlay\",\"line_alpha\":1.0,\"line_color\":\"black\",\"line_dash\":[4,4],\"line_width\":2,\"right_units\":\"screen\",\"top_units\":\"screen\"},\"id\":\"1027\",\"type\":\"BoxAnnotation\"},{\"attributes\":{\"fill_alpha\":0.5,\"fill_color\":\"lightgrey\",\"level\":\"overlay\",\"line_alpha\":1.0,\"line_color\":\"black\",\"line_dash\":[4,4],\"line_width\":2,\"xs_units\":\"screen\",\"ys_units\":\"screen\"},\"id\":\"1028\",\"type\":\"PolyAnnotation\"},{\"attributes\":{\"data_source\":{\"id\":\"1002\"},\"glyph\":{\"id\":\"1038\"},\"hover_glyph\":null,\"muted_glyph\":null,\"nonselection_glyph\":{\"id\":\"1039\"},\"selection_glyph\":null,\"view\":{\"id\":\"1041\"}},\"id\":\"1040\",\"type\":\"GlyphRenderer\"},{\"attributes\":{\"fill_color\":{\"value\":\"#1f77b4\"},\"line_color\":{\"value\":\"#1f77b4\"},\"top\":{\"field\":\"label_count\"},\"width\":{\"value\":0.5},\"x\":{\"field\":\"label\"}},\"id\":\"1038\",\"type\":\"VBar\"},{\"attributes\":{\"callback\":null,\"tooltips\":[[\"label\",\"@label\"],[\"count\",\"@label_count\"]]},\"id\":\"1029\",\"type\":\"HoverTool\"},{\"attributes\":{\"active_drag\":\"auto\",\"active_inspect\":\"auto\",\"active_multi\":null,\"active_scroll\":\"auto\",\"active_tap\":\"auto\",\"tools\":[{\"id\":\"1022\"},{\"id\":\"1023\"},{\"id\":\"1024\"},{\"id\":\"1025\"},{\"id\":\"1026\"},{\"id\":\"1029\"}]},\"id\":\"1030\",\"type\":\"Toolbar\"},{\"attributes\":{},\"id\":\"1022\",\"type\":\"PanTool\"},{\"attributes\":{\"data\":{\"label\":{\"__ndarray__\":\"AAAAAAAAgD8AAABA\",\"dtype\":\"float32\",\"order\":\"little\",\"shape\":[3]},\"label_count\":[520,540,280]},\"selected\":{\"id\":\"1049\"},\"selection_policy\":{\"id\":\"1048\"}},\"id\":\"1002\",\"type\":\"ColumnDataSource\"},{\"attributes\":{\"start\":0},\"id\":\"1008\",\"type\":\"DataRange1d\"},{\"attributes\":{},\"id\":\"1023\",\"type\":\"WheelZoomTool\"},{\"attributes\":{},\"id\":\"1048\",\"type\":\"UnionRenderers\"},{\"attributes\":{},\"id\":\"1024\",\"type\":\"ResetTool\"},{\"attributes\":{\"source\":{\"id\":\"1002\"}},\"id\":\"1041\",\"type\":\"CDSView\"},{\"attributes\":{\"overlay\":{\"id\":\"1028\"}},\"id\":\"1025\",\"type\":\"PolySelectTool\"},{\"attributes\":{\"interval\":1},\"id\":\"1042\",\"type\":\"SingleIntervalTicker\"},{\"attributes\":{},\"id\":\"1045\",\"type\":\"BasicTickFormatter\"},{\"attributes\":{\"overlay\":{\"id\":\"1027\"}},\"id\":\"1026\",\"type\":\"BoxZoomTool\"},{\"attributes\":{},\"id\":\"1047\",\"type\":\"BasicTickFormatter\"},{\"attributes\":{\"text\":\"Distribution Of True Labels In The Validation Dataset\"},\"id\":\"1004\",\"type\":\"Title\"},{\"attributes\":{},\"id\":\"1012\",\"type\":\"LinearScale\"},{\"attributes\":{},\"id\":\"1049\",\"type\":\"Selection\"},{\"attributes\":{\"axis_label\":\"Labels\",\"formatter\":{\"id\":\"1045\"},\"ticker\":{\"id\":\"1042\"}},\"id\":\"1014\",\"type\":\"LinearAxis\"},{\"attributes\":{},\"id\":\"1019\",\"type\":\"BasicTicker\"},{\"attributes\":{\"axis\":{\"id\":\"1014\"},\"grid_line_color\":null,\"ticker\":null},\"id\":\"1017\",\"type\":\"Grid\"},{\"attributes\":{},\"id\":\"1006\",\"type\":\"DataRange1d\"},{\"attributes\":{\"fill_alpha\":{\"value\":0.1},\"fill_color\":{\"value\":\"#1f77b4\"},\"line_alpha\":{\"value\":0.1},\"line_color\":{\"value\":\"#1f77b4\"},\"top\":{\"field\":\"label_count\"},\"width\":{\"value\":0.5},\"x\":{\"field\":\"label\"}},\"id\":\"1039\",\"type\":\"VBar\"},{\"attributes\":{\"axis\":{\"id\":\"1018\"},\"dimension\":1,\"ticker\":null},\"id\":\"1021\",\"type\":\"Grid\"},{\"attributes\":{\"axis_label\":\"Count Of Samples Per Label\",\"formatter\":{\"id\":\"1047\"},\"ticker\":{\"id\":\"1019\"}},\"id\":\"1018\",\"type\":\"LinearAxis\"},{\"attributes\":{},\"id\":\"1010\",\"type\":\"LinearScale\"}],\"root_ids\":[\"1003\"]},\"title\":\"Bokeh Application\",\"version\":\"2.2.3\"}};\n",
       "  var render_items = [{\"docid\":\"423f9fcf-b79b-4f1a-b69a-a3e0b45b51b8\",\"root_ids\":[\"1003\"],\"roots\":{\"1003\":\"c966d146-e88c-43d0-970b-a16919c1e648\"}}];\n",
       "  root.Bokeh.embed.embed_items_notebook(docs_json, render_items);\n",
       "\n",
       "  }\n",
       "  if (root.Bokeh !== undefined) {\n",
       "    embed_document(root);\n",
       "  } else {\n",
       "    var attempts = 0;\n",
       "    var timer = setInterval(function(root) {\n",
       "      if (root.Bokeh !== undefined) {\n",
       "        clearInterval(timer);\n",
       "        embed_document(root);\n",
       "      } else {\n",
       "        attempts++;\n",
       "        if (attempts > 100) {\n",
       "          clearInterval(timer);\n",
       "          console.log(\"Bokeh: ERROR: Unable to run BokehJS code because BokehJS library is missing\");\n",
       "        }\n",
       "      }\n",
       "    }, 10, root)\n",
       "  }\n",
       "})(window);"
      ],
      "application/vnd.bokehjs_exec.v0+json": ""
     },
     "metadata": {
      "application/vnd.bokehjs_exec.v0+json": {
       "id": "1003"
      }
     },
     "output_type": "display_data"
    }
   ],
   "source": [
    "import numpy as np\n",
    "from bokeh.models.tickers import SingleIntervalTicker\n",
    "\n",
    "def plot_label_distribution():\n",
    "    labels = []\n",
    "    label_steps = trial.tensor('labels').steps()\n",
    "    for step in label_steps:\n",
    "        label = trial.tensor('labels').value(step)\n",
    "        if objective_metric in [\"binary:logistic\", \"multi:softmax\"]:\n",
    "            label = label.round()\n",
    "        labels.append(label)\n",
    "    \n",
    "    labels, label_counts = np.unique(labels, return_counts=True)\n",
    "    TOOLS=\"pan,wheel_zoom,reset,poly_select,box_zoom\"\n",
    "    TOOLTIPS = [\n",
    "        (\"label\", \"@label\"),\n",
    "        (\"count\", \"@label_count\"),\n",
    "    ]\n",
    "    source = ColumnDataSource(data=dict(label=labels, label_count=label_counts))\n",
    "    p = figure(\n",
    "        title=f\"Distribution Of True Labels In The Validation Dataset\",\n",
    "        toolbar_location=\"left\", \n",
    "        tools=TOOLS,\n",
    "        tooltips=TOOLTIPS,\n",
    "        plot_height=500,\n",
    "        plot_width=1000\n",
    "    )\n",
    "    p.vbar(x='label', top='label_count', source=source, width=0.5)\n",
    "    p.xgrid.grid_line_color = None\n",
    "    p.xaxis.axis_label = 'Labels'\n",
    "    p.yaxis.axis_label = 'Count Of Samples Per Label'\n",
    "    p.y_range.start = 0\n",
    "    p.xaxis.ticker = SingleIntervalTicker(interval=1)\n",
    "\n",
    "    show(p)\n",
    "    \n",
    "avail_steps = trial.steps()\n",
    "if \"labels\" in tensor_names and 'predictions' in tensor_names:\n",
    "    plot_label_distribution()\n",
    "else:\n",
    "    error_message = \"\\n\\\n",
    "    Labels and Predictions are missing in the debugger data output.\\n\\\n",
    "    Please check if labels and predictions are included in your Debugger Hook Config.\\n\\\n",
    "    \"\n",
    "    display(Markdown(error_message))"
   ]
  },
  {
   "cell_type": "markdown",
   "metadata": {
    "papermill": {
     "duration": 0.011349,
     "end_time": "2021-08-24T17:54:37.214573",
     "exception": false,
     "start_time": "2021-08-24T17:54:37.203224",
     "status": "completed"
    },
    "tags": []
   },
   "source": [
    "## Loss vs Step Graph <a name=\"section2\"></a> \n",
    "\n",
    "SageMaker Debugger automatically captures loss values of the [XGBoost Learning Task Parameters](https://xgboost.readthedocs.io/en/latest/parameter.html#learning-task-parameters).\n",
    "\n",
    "The loss curves provide the following insights.\n",
    "\n",
    "* An **underfitting** model *(high bias)* has high training error and high validation error. Underfitting means that your model is not converging while training, resulting in a generalization failure on both training and validation data sets.\n",
    "* An **overfitting** model *(high variance)* has extremely low training error but a high validation error. Overfitting happens when your model is trained too well to fit the noisy training data, resulting in negative impacts on your model performance on validation set.\n",
    "\n",
    "\n",
    "**Suggestions**:\n",
    "\n",
    "* If underfitting, the model is not suitable to your dataset, or the model parameters are not properly set up. You might want to consider:\n",
    "    * adding more features\n",
    "    * increasing the complexity of your model — increase the depth of each tree, `max_depth`\n",
    "    * tuning the hyperparameters — decrease the `gamma` and `eta` parameters \n",
    "    * decreasing regularization parameters — the `lambda` and `alpha` parameters\n",
    "    * or even training and comparing with other algorithms.\n",
    "* If overfitting, the model is too complex and trains to fit on the noisiness of the training set. You might want to consider:\n",
    "    * reducing the depth of each tree, max_depth\n",
    "    * increasing the min_child_weight parameter\n",
    "    * tuning the hyperparameters — increase the `gamma` and `eta` parameters\n",
    "    * increasing regularization parameters — the `lambda` and `alpha` parameters\n",
    "    * increasing the `subsample` and `colsample_bytree` parameters\n",
    "    * pruning a tree to remove the least significant feature — referring to the next sections where the feature importance scores are provided."
   ]
  },
  {
   "cell_type": "code",
   "execution_count": 10,
   "metadata": {
    "execution": {
     "iopub.execute_input": "2021-08-24T17:54:37.249654Z",
     "iopub.status.busy": "2021-08-24T17:54:37.248624Z",
     "iopub.status.idle": "2021-08-24T17:54:37.289694Z",
     "shell.execute_reply": "2021-08-24T17:54:37.290126Z"
    },
    "papermill": {
     "duration": 0.065157,
     "end_time": "2021-08-24T17:54:37.290270",
     "exception": false,
     "start_time": "2021-08-24T17:54:37.225113",
     "status": "completed"
    },
    "tags": [
     "hide-input"
    ]
   },
   "outputs": [
    {
     "data": {
      "text/html": [
       "\n",
       "\n",
       "\n",
       "\n",
       "\n",
       "\n",
       "  <div class=\"bk-root\" id=\"d000b7fa-40b7-43e9-885b-41a8e23f9b2f\" data-root-id=\"1092\"></div>\n"
      ]
     },
     "metadata": {},
     "output_type": "display_data"
    },
    {
     "data": {
      "application/javascript": [
       "(function(root) {\n",
       "  function embed_document(root) {\n",
       "    \n",
       "  var docs_json = {\"8dd45fb6-3383-402c-8012-21ddafb8182b\":{\"roots\":{\"references\":[{\"attributes\":{\"below\":[{\"id\":\"1103\"}],\"center\":[{\"id\":\"1106\"},{\"id\":\"1110\"},{\"id\":\"1141\"}],\"left\":[{\"id\":\"1107\"}],\"renderers\":[{\"id\":\"1130\"},{\"id\":\"1147\"}],\"title\":{\"id\":\"1093\"},\"toolbar\":{\"id\":\"1119\"},\"x_range\":{\"id\":\"1095\"},\"x_scale\":{\"id\":\"1099\"},\"y_range\":{\"id\":\"1097\"},\"y_scale\":{\"id\":\"1101\"}},\"id\":\"1092\",\"subtype\":\"Figure\",\"type\":\"Plot\"},{\"attributes\":{\"axis_label\":\"Steps\",\"formatter\":{\"id\":\"1134\"},\"ticker\":{\"id\":\"1104\"}},\"id\":\"1103\",\"type\":\"LinearAxis\"},{\"attributes\":{},\"id\":\"1157\",\"type\":\"Selection\"},{\"attributes\":{\"callback\":null,\"tooltips\":[[\"error\",\"@error\"],[\"step\",\"@step\"]]},\"id\":\"1118\",\"type\":\"HoverTool\"},{\"attributes\":{},\"id\":\"1134\",\"type\":\"BasicTickFormatter\"},{\"attributes\":{\"bottom_units\":\"screen\",\"fill_alpha\":0.5,\"fill_color\":\"lightgrey\",\"left_units\":\"screen\",\"level\":\"overlay\",\"line_alpha\":1.0,\"line_color\":\"black\",\"line_dash\":[4,4],\"line_width\":2,\"right_units\":\"screen\",\"top_units\":\"screen\"},\"id\":\"1116\",\"type\":\"BoxAnnotation\"},{\"attributes\":{\"overlay\":{\"id\":\"1116\"}},\"id\":\"1115\",\"type\":\"BoxSelectTool\"},{\"attributes\":{\"fill_alpha\":0.5,\"fill_color\":\"lightgrey\",\"level\":\"overlay\",\"line_alpha\":1.0,\"line_color\":\"black\",\"line_dash\":[4,4],\"line_width\":2,\"xs_units\":\"screen\",\"ys_units\":\"screen\"},\"id\":\"1117\",\"type\":\"PolyAnnotation\"},{\"attributes\":{},\"id\":\"1104\",\"type\":\"BasicTicker\"},{\"attributes\":{},\"id\":\"1099\",\"type\":\"LinearScale\"},{\"attributes\":{\"active_drag\":\"auto\",\"active_inspect\":\"auto\",\"active_multi\":null,\"active_scroll\":\"auto\",\"active_tap\":\"auto\",\"tools\":[{\"id\":\"1111\"},{\"id\":\"1112\"},{\"id\":\"1113\"},{\"id\":\"1114\"},{\"id\":\"1115\"},{\"id\":\"1118\"}]},\"id\":\"1119\",\"type\":\"Toolbar\"},{\"attributes\":{\"dimensions\":\"width\"},\"id\":\"1112\",\"type\":\"WheelZoomTool\"},{\"attributes\":{\"data\":{\"error\":[{\"__ndarray__\":\"J4V5jzNNzD8=\",\"dtype\":\"float64\",\"order\":\"little\",\"shape\":[1]},{\"__ndarray__\":\"MxgjEoWWvT8=\",\"dtype\":\"float64\",\"order\":\"little\",\"shape\":[1]},{\"__ndarray__\":\"NgUyO4vetT8=\",\"dtype\":\"float64\",\"order\":\"little\",\"shape\":[1]},{\"__ndarray__\":\"KnKIuDmVtD8=\",\"dtype\":\"float64\",\"order\":\"little\",\"shape\":[1]},{\"__ndarray__\":\"9UvEW+ffrj8=\",\"dtype\":\"float64\",\"order\":\"little\",\"shape\":[1]},{\"__ndarray__\":\"BrmLMEW5sD8=\",\"dtype\":\"float64\",\"order\":\"little\",\"shape\":[1]},{\"__ndarray__\":\"ceSByCJNrD8=\",\"dtype\":\"float64\",\"order\":\"little\",\"shape\":[1]},{\"__ndarray__\":\"Wb4uw3+6qT8=\",\"dtype\":\"float64\",\"order\":\"little\",\"shape\":[1]},{\"__ndarray__\":\"xf8dUaG6mT8=\",\"dtype\":\"float64\",\"order\":\"little\",\"shape\":[1]},{\"__ndarray__\":\"lrN3RluVlD8=\",\"dtype\":\"float64\",\"order\":\"little\",\"shape\":[1]},{\"__ndarray__\":\"lrN3RluVlD8=\",\"dtype\":\"float64\",\"order\":\"little\",\"shape\":[1]},{\"__ndarray__\":\"HcnlP6Tfjj8=\",\"dtype\":\"float64\",\"order\":\"little\",\"shape\":[1]},{\"__ndarray__\":\"HcnlP6Tfjj8=\",\"dtype\":\"float64\",\"order\":\"little\",\"shape\":[1]},{\"__ndarray__\":\"HcnlP6Tfjj8=\",\"dtype\":\"float64\",\"order\":\"little\",\"shape\":[1]},{\"__ndarray__\":\"HcnlP6Tfjj8=\",\"dtype\":\"float64\",\"order\":\"little\",\"shape\":[1]},{\"__ndarray__\":\"HcnlP6Tfjj8=\",\"dtype\":\"float64\",\"order\":\"little\",\"shape\":[1]},{\"__ndarray__\":\"HcnlP6Tfjj8=\",\"dtype\":\"float64\",\"order\":\"little\",\"shape\":[1]},{\"__ndarray__\":\"lrN3RluVlD8=\",\"dtype\":\"float64\",\"order\":\"little\",\"shape\":[1]},{\"__ndarray__\":\"HcnlP6Tfjj8=\",\"dtype\":\"float64\",\"order\":\"little\",\"shape\":[1]},{\"__ndarray__\":\"vjCZKhiVdD8=\",\"dtype\":\"float64\",\"order\":\"little\",\"shape\":[1]}],\"step\":[0,5,10,15,20,25,30,35,40,45,50,55,60,65,70,75,80,85,90,95]},\"selected\":{\"id\":\"1138\"},\"selection_policy\":{\"id\":\"1137\"}},\"id\":\"1126\",\"type\":\"ColumnDataSource\"},{\"attributes\":{\"data_source\":{\"id\":\"1126\"},\"glyph\":{\"id\":\"1128\"},\"hover_glyph\":null,\"muted_glyph\":null,\"nonselection_glyph\":{\"id\":\"1129\"},\"selection_glyph\":null,\"view\":{\"id\":\"1131\"}},\"id\":\"1130\",\"type\":\"GlyphRenderer\"},{\"attributes\":{\"axis_label\":\"Loss (Error)\",\"formatter\":{\"id\":\"1136\"},\"ticker\":{\"id\":\"1108\"}},\"id\":\"1107\",\"type\":\"LinearAxis\"},{\"attributes\":{},\"id\":\"1111\",\"type\":\"PanTool\"},{\"attributes\":{},\"id\":\"1138\",\"type\":\"Selection\"},{\"attributes\":{\"axis\":{\"id\":\"1103\"},\"ticker\":null},\"id\":\"1106\",\"type\":\"Grid\"},{\"attributes\":{},\"id\":\"1113\",\"type\":\"ResetTool\"},{\"attributes\":{\"line_alpha\":0.1,\"line_color\":\"tomato\",\"line_width\":2,\"x\":{\"field\":\"step\"},\"y\":{\"field\":\"error\"}},\"id\":\"1146\",\"type\":\"Line\"},{\"attributes\":{\"axis\":{\"id\":\"1107\"},\"dimension\":1,\"ticker\":null},\"id\":\"1110\",\"type\":\"Grid\"},{\"attributes\":{\"line_color\":\"cornflowerblue\",\"line_width\":2,\"x\":{\"field\":\"step\"},\"y\":{\"field\":\"error\"}},\"id\":\"1128\",\"type\":\"Line\"},{\"attributes\":{},\"id\":\"1137\",\"type\":\"UnionRenderers\"},{\"attributes\":{},\"id\":\"1136\",\"type\":\"BasicTickFormatter\"},{\"attributes\":{},\"id\":\"1101\",\"type\":\"LinearScale\"},{\"attributes\":{\"data\":{\"error\":[{\"__ndarray__\":\"kPeqlQm/2j8=\",\"dtype\":\"float64\",\"order\":\"little\",\"shape\":[1]},{\"__ndarray__\":\"AyfbwB2o3D8=\",\"dtype\":\"float64\",\"order\":\"little\",\"shape\":[1]},{\"__ndarray__\":\"S7A4nPnV2D8=\",\"dtype\":\"float64\",\"order\":\"little\",\"shape\":[1]},{\"__ndarray__\":\"7dPxmIHK2T8=\",\"dtype\":\"float64\",\"order\":\"little\",\"shape\":[1]},{\"__ndarray__\":\"7dPxmIHK2T8=\",\"dtype\":\"float64\",\"order\":\"little\",\"shape\":[1]},{\"__ndarray__\":\"7dPxmIHK2T8=\",\"dtype\":\"float64\",\"order\":\"little\",\"shape\":[1]},{\"__ndarray__\":\"kPeqlQm/2j8=\",\"dtype\":\"float64\",\"order\":\"little\",\"shape\":[1]},{\"__ndarray__\":\"7dPxmIHK2T8=\",\"dtype\":\"float64\",\"order\":\"little\",\"shape\":[1]},{\"__ndarray__\":\"7dPxmIHK2T8=\",\"dtype\":\"float64\",\"order\":\"little\",\"shape\":[1]},{\"__ndarray__\":\"e6TBbW3h1z8=\",\"dtype\":\"float64\",\"order\":\"little\",\"shape\":[1]},{\"__ndarray__\":\"e6TBbW3h1z8=\",\"dtype\":\"float64\",\"order\":\"little\",\"shape\":[1]},{\"__ndarray__\":\"7dPxmIHK2T8=\",\"dtype\":\"float64\",\"order\":\"little\",\"shape\":[1]},{\"__ndarray__\":\"e6TBbW3h1z8=\",\"dtype\":\"float64\",\"order\":\"little\",\"shape\":[1]},{\"__ndarray__\":\"7dPxmIHK2T8=\",\"dtype\":\"float64\",\"order\":\"little\",\"shape\":[1]},{\"__ndarray__\":\"e6TBbW3h1z8=\",\"dtype\":\"float64\",\"order\":\"little\",\"shape\":[1]},{\"__ndarray__\":\"S7A4nPnV2D8=\",\"dtype\":\"float64\",\"order\":\"little\",\"shape\":[1]},{\"__ndarray__\":\"7dPxmIHK2T8=\",\"dtype\":\"float64\",\"order\":\"little\",\"shape\":[1]},{\"__ndarray__\":\"7dPxmIHK2T8=\",\"dtype\":\"float64\",\"order\":\"little\",\"shape\":[1]},{\"__ndarray__\":\"e6TBbW3h1z8=\",\"dtype\":\"float64\",\"order\":\"little\",\"shape\":[1]},{\"__ndarray__\":\"7dPxmIHK2T8=\",\"dtype\":\"float64\",\"order\":\"little\",\"shape\":[1]}],\"step\":[0,5,10,15,20,25,30,35,40,45,50,55,60,65,70,75,80,85,90,95]},\"selected\":{\"id\":\"1157\"},\"selection_policy\":{\"id\":\"1156\"}},\"id\":\"1143\",\"type\":\"ColumnDataSource\"},{\"attributes\":{\"overlay\":{\"id\":\"1117\"}},\"id\":\"1114\",\"type\":\"PolySelectTool\"},{\"attributes\":{\"line_color\":\"tomato\",\"line_width\":2,\"x\":{\"field\":\"step\"},\"y\":{\"field\":\"error\"}},\"id\":\"1145\",\"type\":\"Line\"},{\"attributes\":{\"label\":{\"value\":\"train-merror\"},\"renderers\":[{\"id\":\"1130\"}]},\"id\":\"1142\",\"type\":\"LegendItem\"},{\"attributes\":{\"click_policy\":\"hide\",\"items\":[{\"id\":\"1142\"},{\"id\":\"1160\"}],\"location\":\"center_right\"},\"id\":\"1141\",\"type\":\"Legend\"},{\"attributes\":{\"source\":{\"id\":\"1126\"}},\"id\":\"1131\",\"type\":\"CDSView\"},{\"attributes\":{\"data_source\":{\"id\":\"1143\"},\"glyph\":{\"id\":\"1145\"},\"hover_glyph\":null,\"muted_glyph\":null,\"nonselection_glyph\":{\"id\":\"1146\"},\"selection_glyph\":null,\"view\":{\"id\":\"1148\"}},\"id\":\"1147\",\"type\":\"GlyphRenderer\"},{\"attributes\":{\"label\":{\"value\":\"validation-merror\"},\"renderers\":[{\"id\":\"1147\"}]},\"id\":\"1160\",\"type\":\"LegendItem\"},{\"attributes\":{},\"id\":\"1095\",\"type\":\"DataRange1d\"},{\"attributes\":{\"line_alpha\":0.1,\"line_color\":\"cornflowerblue\",\"line_width\":2,\"x\":{\"field\":\"step\"},\"y\":{\"field\":\"error\"}},\"id\":\"1129\",\"type\":\"Line\"},{\"attributes\":{},\"id\":\"1097\",\"type\":\"DataRange1d\"},{\"attributes\":{},\"id\":\"1156\",\"type\":\"UnionRenderers\"},{\"attributes\":{\"source\":{\"id\":\"1143\"}},\"id\":\"1148\",\"type\":\"CDSView\"},{\"attributes\":{},\"id\":\"1108\",\"type\":\"BasicTicker\"},{\"attributes\":{\"text\":\"Training and Validation Loss\"},\"id\":\"1093\",\"type\":\"Title\"}],\"root_ids\":[\"1092\"]},\"title\":\"Bokeh Application\",\"version\":\"2.2.3\"}};\n",
       "  var render_items = [{\"docid\":\"8dd45fb6-3383-402c-8012-21ddafb8182b\",\"root_ids\":[\"1092\"],\"roots\":{\"1092\":\"d000b7fa-40b7-43e9-885b-41a8e23f9b2f\"}}];\n",
       "  root.Bokeh.embed.embed_items_notebook(docs_json, render_items);\n",
       "\n",
       "  }\n",
       "  if (root.Bokeh !== undefined) {\n",
       "    embed_document(root);\n",
       "  } else {\n",
       "    var attempts = 0;\n",
       "    var timer = setInterval(function(root) {\n",
       "      if (root.Bokeh !== undefined) {\n",
       "        clearInterval(timer);\n",
       "        embed_document(root);\n",
       "      } else {\n",
       "        attempts++;\n",
       "        if (attempts > 100) {\n",
       "          clearInterval(timer);\n",
       "          console.log(\"Bokeh: ERROR: Unable to run BokehJS code because BokehJS library is missing\");\n",
       "        }\n",
       "      }\n",
       "    }, 10, root)\n",
       "  }\n",
       "})(window);"
      ],
      "application/vnd.bokehjs_exec.v0+json": ""
     },
     "metadata": {
      "application/vnd.bokehjs_exec.v0+json": {
       "id": "1092"
      }
     },
     "output_type": "display_data"
    }
   ],
   "source": [
    "from bokeh.models import ColumnDataSource\n",
    "from bokeh.models import HoverTool\n",
    "import re\n",
    "\n",
    "\n",
    "def get_data(trial, tname):\n",
    "    \"\"\"\n",
    "    For the given tensor name, walks through all the iterations\n",
    "    for which you have data and fetches the values.\n",
    "    Returns the set of steps and the values.\n",
    "    \"\"\"\n",
    "    tensor = trial.tensor(tname)\n",
    "    steps = tensor.steps()\n",
    "    vals = [tensor.value(s) for s in steps]\n",
    "    return steps, vals\n",
    "\n",
    "def plot_evaluation_metrics():\n",
    "    collection_name = \"metrics\"\n",
    "    regex='.*'\n",
    "    tensors = trial.collection(collection_name).tensor_names\n",
    "    TOOLS=\"pan,xwheel_zoom,reset,poly_select,box_select\"    \n",
    "    TOOLTIPS = [\n",
    "        (\"error\", \"@error\"),\n",
    "        (\"step\", \"@step\"),\n",
    "    ]\n",
    "    p = figure(\n",
    "        tools=TOOLS, \n",
    "        title=\"Training and Validation Loss\", \n",
    "        tooltips=TOOLTIPS, \n",
    "        x_axis_label=\"Steps\", \n",
    "        y_axis_label=\"Loss (Error)\"\n",
    "    )\n",
    "    plots = []\n",
    "    colors = [\"tomato\", \"cornflowerblue\"]\n",
    "    for tensor_name in sorted(tensors):\n",
    "        if re.match(regex, tensor_name):\n",
    "            steps, data = get_data(trial, tensor_name)\n",
    "            source = ColumnDataSource(data=dict(step=steps, error=data))\n",
    "            p.line(\n",
    "                x='step',\n",
    "                y='error', \n",
    "                line_width=2, \n",
    "                source=source, \n",
    "                color=colors.pop(),\n",
    "                legend_label=f\"{tensor_name}\"\n",
    "            )\n",
    "            plots.append(p)\n",
    "    p.legend.location = \"center_right\"\n",
    "    p.legend.click_policy=\"hide\"\n",
    "\n",
    "    show(p)\n",
    "if len(trial.tensor_names(collection=\"metrics\")) > 0:    \n",
    "    plot_evaluation_metrics()\n",
    "else:\n",
    "    error_message = \"\\n\\\n",
    "    Metrics are missing in the debugger data output.\\n\\\n",
    "    Please check if metrics are included in your Debugger Hook Config.\\n\\\n",
    "    \"\n",
    "    display(Markdown(error_message))"
   ]
  },
  {
   "cell_type": "markdown",
   "metadata": {
    "papermill": {
     "duration": 0.016503,
     "end_time": "2021-08-24T17:54:37.317398",
     "exception": false,
     "start_time": "2021-08-24T17:54:37.300895",
     "status": "completed"
    },
    "tags": []
   },
   "source": [
    "## Feature Importance <a name=\"section3\"></a>\n",
    "\n",
    "Feature importance refers to techniques that assign scores to input features based on how useful they are at predicting a target variable.\n",
    "The supported importance types for XGBoost are:\n",
    "\n",
    "* **Weight** (or **Frequency**) is the percentage representing the relative number of times a particular feature occurs in the trees of the model.\n",
    "* **Gain** is the improvement in accuracy brought by a feature to the branches it is on. *The Gain is the most relevant attribute to interpret the relative importance of each feature.*\n",
    "* **Coverage** measures the relative quantity of observations concerned by a feature. "
   ]
  },
  {
   "cell_type": "code",
   "execution_count": 11,
   "metadata": {
    "execution": {
     "iopub.execute_input": "2021-08-24T17:54:37.350357Z",
     "iopub.status.busy": "2021-08-24T17:54:37.349315Z",
     "iopub.status.idle": "2021-08-24T17:54:37.415512Z",
     "shell.execute_reply": "2021-08-24T17:54:37.416033Z"
    },
    "papermill": {
     "duration": 0.087384,
     "end_time": "2021-08-24T17:54:37.416193",
     "exception": false,
     "start_time": "2021-08-24T17:54:37.328809",
     "status": "completed"
    },
    "tags": [
     "hide-input"
    ]
   },
   "outputs": [],
   "source": [
    "from bokeh.models import ColorBar\n",
    "from bokeh.palettes import Spectral6\n",
    "from bokeh.transform import factor_cmap\n",
    "from bokeh.models.mappers import CategoricalColorMapper\n",
    "\n",
    "def plot_feature_importance(importance_type=\"gain\"):\n",
    "    SUPPORTED_IMPORTANCE_TYPES = [\"weight\", \"gain\", \"cover\"]\n",
    "    if importance_type not in SUPPORTED_IMPORTANCE_TYPES:\n",
    "        raise ValueError(f\"{importance_type} is not one of the supported importance types.\")\n",
    "    feature_names = trial.tensor_names(regex=f\"feature_importance/{importance_type}/.*\")\n",
    "    if len(feature_names) == 0:\n",
    "        return None\n",
    "    last_step = trial.tensor(feature_names[0]).steps()[-1]\n",
    "    def sorter(f_name):\n",
    "        f_name = f_name.split('/')[-1]\n",
    "        return int(f_name[1:])\n",
    "    TOOLTIPS = [\n",
    "        (\"feature\", \"@feature\"),\n",
    "        (\"importance\", \"@importance\"),\n",
    "    ]\n",
    "\n",
    "    features = [tensor_name.split('/')[-1] for tensor_name in sorted(feature_names, key=sorter)]\n",
    "    importances = [trial.tensor(tensor_name).value(last_step)[0]*100 for tensor_name in sorted(feature_names, key=sorter)]\n",
    "    \n",
    "    source = ColumnDataSource(data=dict(feature=features, importance=importances))\n",
    "    plot_height = len(features)*25\n",
    "    y_max = max(importances)\n",
    "    p = figure(\n",
    "        y_range=features, \n",
    "        title=f\"Feature {importance_type}\",\n",
    "        toolbar_location=None,  \n",
    "        tooltips=TOOLTIPS,\n",
    "        plot_height=plot_height\n",
    "    )\n",
    "    p.hbar(height=0.5, y='feature', right='importance', source=source)\n",
    "    p.xgrid.grid_line_color = None\n",
    "    p.x_range.start = 0\n",
    "    p.x_range.end = round(1.10*y_max, 2) # x_range = 110% of y_max\n",
    "    p.xaxis.axis_label = 'Importance'\n",
    "    p.yaxis.axis_label = 'Feature'\n",
    "\n",
    "    show(p)\n"
   ]
  },
  {
   "cell_type": "code",
   "execution_count": 12,
   "metadata": {
    "execution": {
     "iopub.execute_input": "2021-08-24T17:54:37.443281Z",
     "iopub.status.busy": "2021-08-24T17:54:37.442342Z",
     "iopub.status.idle": "2021-08-24T17:54:37.822256Z",
     "shell.execute_reply": "2021-08-24T17:54:37.821741Z"
    },
    "papermill": {
     "duration": 0.396714,
     "end_time": "2021-08-24T17:54:37.822394",
     "exception": false,
     "start_time": "2021-08-24T17:54:37.425680",
     "status": "completed"
    },
    "tags": [
     "hide-input"
    ]
   },
   "outputs": [
    {
     "data": {
      "text/html": [
       "\n",
       "\n",
       "\n",
       "\n",
       "\n",
       "\n",
       "  <div class=\"bk-root\" id=\"589ca281-2f14-44da-887f-c1dca7fe826c\" data-root-id=\"1236\"></div>\n"
      ]
     },
     "metadata": {},
     "output_type": "display_data"
    },
    {
     "data": {
      "application/javascript": [
       "(function(root) {\n",
       "  function embed_document(root) {\n",
       "    \n",
       "  var docs_json = {\"78777327-80a6-4959-b310-e3cad201297b\":{\"roots\":{\"references\":[{\"attributes\":{\"below\":[{\"id\":\"1247\"}],\"center\":[{\"id\":\"1250\"},{\"id\":\"1253\"}],\"left\":[{\"id\":\"1251\"}],\"plot_height\":650,\"renderers\":[{\"id\":\"1273\"}],\"title\":{\"id\":\"1237\"},\"toolbar\":{\"id\":\"1262\"},\"toolbar_location\":null,\"x_range\":{\"id\":\"1239\"},\"x_scale\":{\"id\":\"1243\"},\"y_range\":{\"id\":\"1241\"},\"y_scale\":{\"id\":\"1245\"}},\"id\":\"1236\",\"subtype\":\"Figure\",\"type\":\"Plot\"},{\"attributes\":{},\"id\":\"1254\",\"type\":\"PanTool\"},{\"attributes\":{\"axis\":{\"id\":\"1247\"},\"grid_line_color\":null,\"ticker\":null},\"id\":\"1250\",\"type\":\"Grid\"},{\"attributes\":{},\"id\":\"1299\",\"type\":\"UnionRenderers\"},{\"attributes\":{\"axis\":{\"id\":\"1251\"},\"dimension\":1,\"ticker\":null},\"id\":\"1253\",\"type\":\"Grid\"},{\"attributes\":{\"data_source\":{\"id\":\"1235\"},\"glyph\":{\"id\":\"1271\"},\"hover_glyph\":null,\"muted_glyph\":null,\"nonselection_glyph\":{\"id\":\"1272\"},\"selection_glyph\":null,\"view\":{\"id\":\"1274\"}},\"id\":\"1273\",\"type\":\"GlyphRenderer\"},{\"attributes\":{},\"id\":\"1248\",\"type\":\"BasicTicker\"},{\"attributes\":{\"axis_label\":\"Feature\",\"formatter\":{\"id\":\"1298\"},\"ticker\":{\"id\":\"1252\"}},\"id\":\"1251\",\"type\":\"CategoricalAxis\"},{\"attributes\":{},\"id\":\"1257\",\"type\":\"SaveTool\"},{\"attributes\":{},\"id\":\"1243\",\"type\":\"LinearScale\"},{\"attributes\":{\"callback\":null,\"tooltips\":[[\"feature\",\"@feature\"],[\"importance\",\"@importance\"]]},\"id\":\"1261\",\"type\":\"HoverTool\"},{\"attributes\":{},\"id\":\"1259\",\"type\":\"HelpTool\"},{\"attributes\":{},\"id\":\"1255\",\"type\":\"WheelZoomTool\"},{\"attributes\":{\"source\":{\"id\":\"1235\"}},\"id\":\"1274\",\"type\":\"CDSView\"},{\"attributes\":{},\"id\":\"1300\",\"type\":\"Selection\"},{\"attributes\":{\"fill_color\":{\"value\":\"#1f77b4\"},\"height\":{\"value\":0.5},\"line_color\":{\"value\":\"#1f77b4\"},\"right\":{\"field\":\"importance\"},\"y\":{\"field\":\"feature\"}},\"id\":\"1271\",\"type\":\"HBar\"},{\"attributes\":{\"active_drag\":\"auto\",\"active_inspect\":\"auto\",\"active_multi\":null,\"active_scroll\":\"auto\",\"active_tap\":\"auto\",\"tools\":[{\"id\":\"1254\"},{\"id\":\"1255\"},{\"id\":\"1256\"},{\"id\":\"1257\"},{\"id\":\"1258\"},{\"id\":\"1259\"},{\"id\":\"1261\"}]},\"id\":\"1262\",\"type\":\"Toolbar\"},{\"attributes\":{\"fill_alpha\":{\"value\":0.1},\"fill_color\":{\"value\":\"#1f77b4\"},\"height\":{\"value\":0.5},\"line_alpha\":{\"value\":0.1},\"line_color\":{\"value\":\"#1f77b4\"},\"right\":{\"field\":\"importance\"},\"y\":{\"field\":\"feature\"}},\"id\":\"1272\",\"type\":\"HBar\"},{\"attributes\":{},\"id\":\"1252\",\"type\":\"CategoricalTicker\"},{\"attributes\":{\"axis_label\":\"Importance\",\"formatter\":{\"id\":\"1296\"},\"ticker\":{\"id\":\"1248\"}},\"id\":\"1247\",\"type\":\"LinearAxis\"},{\"attributes\":{\"overlay\":{\"id\":\"1260\"}},\"id\":\"1256\",\"type\":\"BoxZoomTool\"},{\"attributes\":{},\"id\":\"1245\",\"type\":\"CategoricalScale\"},{\"attributes\":{},\"id\":\"1296\",\"type\":\"BasicTickFormatter\"},{\"attributes\":{\"end\":13.3,\"start\":0},\"id\":\"1239\",\"type\":\"DataRange1d\"},{\"attributes\":{\"text\":\"Feature weight\"},\"id\":\"1237\",\"type\":\"Title\"},{\"attributes\":{\"factors\":[\"f0\",\"f1\",\"f2\",\"f3\",\"f4\",\"f5\",\"f6\",\"f7\",\"f8\",\"f9\",\"f10\",\"f11\",\"f12\",\"f13\",\"f14\",\"f15\",\"f17\",\"f18\",\"f19\",\"f20\",\"f21\",\"f22\",\"f23\",\"f24\",\"f25\",\"f26\"]},\"id\":\"1241\",\"type\":\"FactorRange\"},{\"attributes\":{},\"id\":\"1258\",\"type\":\"ResetTool\"},{\"attributes\":{\"bottom_units\":\"screen\",\"fill_alpha\":0.5,\"fill_color\":\"lightgrey\",\"left_units\":\"screen\",\"level\":\"overlay\",\"line_alpha\":1.0,\"line_color\":\"black\",\"line_dash\":[4,4],\"line_width\":2,\"right_units\":\"screen\",\"top_units\":\"screen\"},\"id\":\"1260\",\"type\":\"BoxAnnotation\"},{\"attributes\":{\"data\":{\"feature\":[\"f0\",\"f1\",\"f2\",\"f3\",\"f4\",\"f5\",\"f6\",\"f7\",\"f8\",\"f9\",\"f10\",\"f11\",\"f12\",\"f13\",\"f14\",\"f15\",\"f17\",\"f18\",\"f19\",\"f20\",\"f21\",\"f22\",\"f23\",\"f24\",\"f25\",\"f26\"],\"importance\":[1.9296254256526675,8.967082860385926,0.170261066969353,0.170261066969353,0.170261066969353,0.22701475595913734,0.340522133938706,1.5891032917139614,4.824063564131668,1.0215664018161181,5.561861520998865,2.383654937570942,1.70261066969353,0.056753688989784334,0.056753688989784334,0.5107832009080591,1.0215664018161181,5.788876276958002,5.10783200908059,2.9511918274687856,12.088535754824063,10.896708286038592,9.421112372304199,6.696935300794552,7.207718501702611,9.137343927355278]},\"selected\":{\"id\":\"1300\"},\"selection_policy\":{\"id\":\"1299\"}},\"id\":\"1235\",\"type\":\"ColumnDataSource\"},{\"attributes\":{},\"id\":\"1298\",\"type\":\"CategoricalTickFormatter\"}],\"root_ids\":[\"1236\"]},\"title\":\"Bokeh Application\",\"version\":\"2.2.3\"}};\n",
       "  var render_items = [{\"docid\":\"78777327-80a6-4959-b310-e3cad201297b\",\"root_ids\":[\"1236\"],\"roots\":{\"1236\":\"589ca281-2f14-44da-887f-c1dca7fe826c\"}}];\n",
       "  root.Bokeh.embed.embed_items_notebook(docs_json, render_items);\n",
       "\n",
       "  }\n",
       "  if (root.Bokeh !== undefined) {\n",
       "    embed_document(root);\n",
       "  } else {\n",
       "    var attempts = 0;\n",
       "    var timer = setInterval(function(root) {\n",
       "      if (root.Bokeh !== undefined) {\n",
       "        clearInterval(timer);\n",
       "        embed_document(root);\n",
       "      } else {\n",
       "        attempts++;\n",
       "        if (attempts > 100) {\n",
       "          clearInterval(timer);\n",
       "          console.log(\"Bokeh: ERROR: Unable to run BokehJS code because BokehJS library is missing\");\n",
       "        }\n",
       "      }\n",
       "    }, 10, root)\n",
       "  }\n",
       "})(window);"
      ],
      "application/vnd.bokehjs_exec.v0+json": ""
     },
     "metadata": {
      "application/vnd.bokehjs_exec.v0+json": {
       "id": "1236"
      }
     },
     "output_type": "display_data"
    },
    {
     "data": {
      "text/html": [
       "\n",
       "\n",
       "\n",
       "\n",
       "\n",
       "\n",
       "  <div class=\"bk-root\" id=\"9f7404ab-a2a6-4e65-8588-eb48d1659f96\" data-root-id=\"1343\"></div>\n"
      ]
     },
     "metadata": {},
     "output_type": "display_data"
    },
    {
     "data": {
      "application/javascript": [
       "(function(root) {\n",
       "  function embed_document(root) {\n",
       "    \n",
       "  var docs_json = {\"ec6dfa40-55ba-484e-a724-1eea9a663f9a\":{\"roots\":{\"references\":[{\"attributes\":{\"below\":[{\"id\":\"1354\"}],\"center\":[{\"id\":\"1357\"},{\"id\":\"1360\"}],\"left\":[{\"id\":\"1358\"}],\"plot_height\":650,\"renderers\":[{\"id\":\"1380\"}],\"title\":{\"id\":\"1344\"},\"toolbar\":{\"id\":\"1369\"},\"toolbar_location\":null,\"x_range\":{\"id\":\"1346\"},\"x_scale\":{\"id\":\"1350\"},\"y_range\":{\"id\":\"1348\"},\"y_scale\":{\"id\":\"1352\"}},\"id\":\"1343\",\"subtype\":\"Figure\",\"type\":\"Plot\"},{\"attributes\":{\"text\":\"Feature gain\"},\"id\":\"1344\",\"type\":\"Title\"},{\"attributes\":{\"active_drag\":\"auto\",\"active_inspect\":\"auto\",\"active_multi\":null,\"active_scroll\":\"auto\",\"active_tap\":\"auto\",\"tools\":[{\"id\":\"1361\"},{\"id\":\"1362\"},{\"id\":\"1363\"},{\"id\":\"1364\"},{\"id\":\"1365\"},{\"id\":\"1366\"},{\"id\":\"1368\"}]},\"id\":\"1369\",\"type\":\"Toolbar\"},{\"attributes\":{\"fill_alpha\":{\"value\":0.1},\"fill_color\":{\"value\":\"#1f77b4\"},\"height\":{\"value\":0.5},\"line_alpha\":{\"value\":0.1},\"line_color\":{\"value\":\"#1f77b4\"},\"right\":{\"field\":\"importance\"},\"y\":{\"field\":\"feature\"}},\"id\":\"1379\",\"type\":\"HBar\"},{\"attributes\":{\"axis_label\":\"Feature\",\"formatter\":{\"id\":\"1413\"},\"ticker\":{\"id\":\"1359\"}},\"id\":\"1358\",\"type\":\"CategoricalAxis\"},{\"attributes\":{},\"id\":\"1415\",\"type\":\"Selection\"},{\"attributes\":{},\"id\":\"1364\",\"type\":\"SaveTool\"},{\"attributes\":{},\"id\":\"1361\",\"type\":\"PanTool\"},{\"attributes\":{},\"id\":\"1411\",\"type\":\"BasicTickFormatter\"},{\"attributes\":{},\"id\":\"1350\",\"type\":\"LinearScale\"},{\"attributes\":{\"factors\":[\"f0\",\"f1\",\"f2\",\"f3\",\"f4\",\"f5\",\"f6\",\"f7\",\"f8\",\"f9\",\"f10\",\"f11\",\"f12\",\"f13\",\"f14\",\"f15\",\"f17\",\"f18\",\"f19\",\"f20\",\"f21\",\"f22\",\"f23\",\"f24\",\"f25\",\"f26\"]},\"id\":\"1348\",\"type\":\"FactorRange\"},{\"attributes\":{},\"id\":\"1365\",\"type\":\"ResetTool\"},{\"attributes\":{},\"id\":\"1352\",\"type\":\"CategoricalScale\"},{\"attributes\":{\"axis\":{\"id\":\"1358\"},\"dimension\":1,\"ticker\":null},\"id\":\"1360\",\"type\":\"Grid\"},{\"attributes\":{\"data_source\":{\"id\":\"1342\"},\"glyph\":{\"id\":\"1378\"},\"hover_glyph\":null,\"muted_glyph\":null,\"nonselection_glyph\":{\"id\":\"1379\"},\"selection_glyph\":null,\"view\":{\"id\":\"1381\"}},\"id\":\"1380\",\"type\":\"GlyphRenderer\"},{\"attributes\":{\"bottom_units\":\"screen\",\"fill_alpha\":0.5,\"fill_color\":\"lightgrey\",\"left_units\":\"screen\",\"level\":\"overlay\",\"line_alpha\":1.0,\"line_color\":\"black\",\"line_dash\":[4,4],\"line_width\":2,\"right_units\":\"screen\",\"top_units\":\"screen\"},\"id\":\"1367\",\"type\":\"BoxAnnotation\"},{\"attributes\":{\"axis\":{\"id\":\"1354\"},\"grid_line_color\":null,\"ticker\":null},\"id\":\"1357\",\"type\":\"Grid\"},{\"attributes\":{\"axis_label\":\"Importance\",\"formatter\":{\"id\":\"1411\"},\"ticker\":{\"id\":\"1355\"}},\"id\":\"1354\",\"type\":\"LinearAxis\"},{\"attributes\":{},\"id\":\"1362\",\"type\":\"WheelZoomTool\"},{\"attributes\":{},\"id\":\"1355\",\"type\":\"BasicTicker\"},{\"attributes\":{},\"id\":\"1414\",\"type\":\"UnionRenderers\"},{\"attributes\":{\"callback\":null,\"tooltips\":[[\"feature\",\"@feature\"],[\"importance\",\"@importance\"]]},\"id\":\"1368\",\"type\":\"HoverTool\"},{\"attributes\":{},\"id\":\"1359\",\"type\":\"CategoricalTicker\"},{\"attributes\":{\"fill_color\":{\"value\":\"#1f77b4\"},\"height\":{\"value\":0.5},\"line_color\":{\"value\":\"#1f77b4\"},\"right\":{\"field\":\"importance\"},\"y\":{\"field\":\"feature\"}},\"id\":\"1378\",\"type\":\"HBar\"},{\"attributes\":{\"data\":{\"feature\":[\"f0\",\"f1\",\"f2\",\"f3\",\"f4\",\"f5\",\"f6\",\"f7\",\"f8\",\"f9\",\"f10\",\"f11\",\"f12\",\"f13\",\"f14\",\"f15\",\"f17\",\"f18\",\"f19\",\"f20\",\"f21\",\"f22\",\"f23\",\"f24\",\"f25\",\"f26\"],\"importance\":[4.318653708777962,3.7609977242441097,0.591711937716458,2.549144154755365,8.692172595429943,1.2589387684153177,4.231949806412548,7.039251445362749,2.3439774704375824,7.5354761170258,2.3713748046815133,3.7785931112493945,4.829823312367975,0.7264853772168701,0.07901042400070932,5.625627024604434,4.139339567333976,2.487675149340736,5.548412118612504,5.645306518200797,3.2789961685324926,4.696253483506833,3.214737385773293,4.624474369486852,3.377344420388992,3.254273036124792]},\"selected\":{\"id\":\"1415\"},\"selection_policy\":{\"id\":\"1414\"}},\"id\":\"1342\",\"type\":\"ColumnDataSource\"},{\"attributes\":{},\"id\":\"1366\",\"type\":\"HelpTool\"},{\"attributes\":{},\"id\":\"1413\",\"type\":\"CategoricalTickFormatter\"},{\"attributes\":{\"overlay\":{\"id\":\"1367\"}},\"id\":\"1363\",\"type\":\"BoxZoomTool\"},{\"attributes\":{\"source\":{\"id\":\"1342\"}},\"id\":\"1381\",\"type\":\"CDSView\"},{\"attributes\":{\"end\":9.56,\"start\":0},\"id\":\"1346\",\"type\":\"DataRange1d\"}],\"root_ids\":[\"1343\"]},\"title\":\"Bokeh Application\",\"version\":\"2.2.3\"}};\n",
       "  var render_items = [{\"docid\":\"ec6dfa40-55ba-484e-a724-1eea9a663f9a\",\"root_ids\":[\"1343\"],\"roots\":{\"1343\":\"9f7404ab-a2a6-4e65-8588-eb48d1659f96\"}}];\n",
       "  root.Bokeh.embed.embed_items_notebook(docs_json, render_items);\n",
       "\n",
       "  }\n",
       "  if (root.Bokeh !== undefined) {\n",
       "    embed_document(root);\n",
       "  } else {\n",
       "    var attempts = 0;\n",
       "    var timer = setInterval(function(root) {\n",
       "      if (root.Bokeh !== undefined) {\n",
       "        clearInterval(timer);\n",
       "        embed_document(root);\n",
       "      } else {\n",
       "        attempts++;\n",
       "        if (attempts > 100) {\n",
       "          clearInterval(timer);\n",
       "          console.log(\"Bokeh: ERROR: Unable to run BokehJS code because BokehJS library is missing\");\n",
       "        }\n",
       "      }\n",
       "    }, 10, root)\n",
       "  }\n",
       "})(window);"
      ],
      "application/vnd.bokehjs_exec.v0+json": ""
     },
     "metadata": {
      "application/vnd.bokehjs_exec.v0+json": {
       "id": "1343"
      }
     },
     "output_type": "display_data"
    },
    {
     "data": {
      "text/html": [
       "\n",
       "\n",
       "\n",
       "\n",
       "\n",
       "\n",
       "  <div class=\"bk-root\" id=\"a3a03c33-c2d5-48d6-8386-9bad72f54f11\" data-root-id=\"1458\"></div>\n"
      ]
     },
     "metadata": {},
     "output_type": "display_data"
    },
    {
     "data": {
      "application/javascript": [
       "(function(root) {\n",
       "  function embed_document(root) {\n",
       "    \n",
       "  var docs_json = {\"c16ed276-c6ab-44a6-8f63-1a086e7bdee8\":{\"roots\":{\"references\":[{\"attributes\":{\"below\":[{\"id\":\"1469\"}],\"center\":[{\"id\":\"1472\"},{\"id\":\"1475\"}],\"left\":[{\"id\":\"1473\"}],\"plot_height\":650,\"renderers\":[{\"id\":\"1495\"}],\"title\":{\"id\":\"1459\"},\"toolbar\":{\"id\":\"1484\"},\"toolbar_location\":null,\"x_range\":{\"id\":\"1461\"},\"x_scale\":{\"id\":\"1465\"},\"y_range\":{\"id\":\"1463\"},\"y_scale\":{\"id\":\"1467\"}},\"id\":\"1458\",\"subtype\":\"Figure\",\"type\":\"Plot\"},{\"attributes\":{\"fill_color\":{\"value\":\"#1f77b4\"},\"height\":{\"value\":0.5},\"line_color\":{\"value\":\"#1f77b4\"},\"right\":{\"field\":\"importance\"},\"y\":{\"field\":\"feature\"}},\"id\":\"1493\",\"type\":\"HBar\"},{\"attributes\":{},\"id\":\"1477\",\"type\":\"WheelZoomTool\"},{\"attributes\":{\"overlay\":{\"id\":\"1482\"}},\"id\":\"1478\",\"type\":\"BoxZoomTool\"},{\"attributes\":{\"data_source\":{\"id\":\"1457\"},\"glyph\":{\"id\":\"1493\"},\"hover_glyph\":null,\"muted_glyph\":null,\"nonselection_glyph\":{\"id\":\"1494\"},\"selection_glyph\":null,\"view\":{\"id\":\"1496\"}},\"id\":\"1495\",\"type\":\"GlyphRenderer\"},{\"attributes\":{\"source\":{\"id\":\"1457\"}},\"id\":\"1496\",\"type\":\"CDSView\"},{\"attributes\":{\"data\":{\"feature\":[\"f0\",\"f1\",\"f2\",\"f3\",\"f4\",\"f5\",\"f6\",\"f7\",\"f8\",\"f9\",\"f10\",\"f11\",\"f12\",\"f13\",\"f14\",\"f15\",\"f17\",\"f18\",\"f19\",\"f20\",\"f21\",\"f22\",\"f23\",\"f24\",\"f25\",\"f26\"],\"importance\":[3.885605502834704,3.780498279204162,2.1902227126375085,3.3990022751107234,2.833021179276039,2.9575571268356855,3.380081092489682,4.534803684281257,3.608843165665147,4.9712082773406765,3.2185946947726287,4.355030510639585,4.8961487202310225,4.672969731776373,0.9503549789490732,3.8636310355578187,3.2893749211681214,4.093516897194618,4.710075977006489,5.019760178023505,3.9539937030516503,4.19558970325991,4.129668260276859,4.478504685779059,4.333631719760619,4.298310986877114]},\"selected\":{\"id\":\"1538\"},\"selection_policy\":{\"id\":\"1537\"}},\"id\":\"1457\",\"type\":\"ColumnDataSource\"},{\"attributes\":{\"text\":\"Feature cover\"},\"id\":\"1459\",\"type\":\"Title\"},{\"attributes\":{\"callback\":null,\"tooltips\":[[\"feature\",\"@feature\"],[\"importance\",\"@importance\"]]},\"id\":\"1483\",\"type\":\"HoverTool\"},{\"attributes\":{},\"id\":\"1480\",\"type\":\"ResetTool\"},{\"attributes\":{\"bottom_units\":\"screen\",\"fill_alpha\":0.5,\"fill_color\":\"lightgrey\",\"left_units\":\"screen\",\"level\":\"overlay\",\"line_alpha\":1.0,\"line_color\":\"black\",\"line_dash\":[4,4],\"line_width\":2,\"right_units\":\"screen\",\"top_units\":\"screen\"},\"id\":\"1482\",\"type\":\"BoxAnnotation\"},{\"attributes\":{},\"id\":\"1474\",\"type\":\"CategoricalTicker\"},{\"attributes\":{\"active_drag\":\"auto\",\"active_inspect\":\"auto\",\"active_multi\":null,\"active_scroll\":\"auto\",\"active_tap\":\"auto\",\"tools\":[{\"id\":\"1476\"},{\"id\":\"1477\"},{\"id\":\"1478\"},{\"id\":\"1479\"},{\"id\":\"1480\"},{\"id\":\"1481\"},{\"id\":\"1483\"}]},\"id\":\"1484\",\"type\":\"Toolbar\"},{\"attributes\":{\"fill_alpha\":{\"value\":0.1},\"fill_color\":{\"value\":\"#1f77b4\"},\"height\":{\"value\":0.5},\"line_alpha\":{\"value\":0.1},\"line_color\":{\"value\":\"#1f77b4\"},\"right\":{\"field\":\"importance\"},\"y\":{\"field\":\"feature\"}},\"id\":\"1494\",\"type\":\"HBar\"},{\"attributes\":{},\"id\":\"1536\",\"type\":\"CategoricalTickFormatter\"},{\"attributes\":{\"axis\":{\"id\":\"1473\"},\"dimension\":1,\"ticker\":null},\"id\":\"1475\",\"type\":\"Grid\"},{\"attributes\":{},\"id\":\"1470\",\"type\":\"BasicTicker\"},{\"attributes\":{},\"id\":\"1481\",\"type\":\"HelpTool\"},{\"attributes\":{},\"id\":\"1479\",\"type\":\"SaveTool\"},{\"attributes\":{\"factors\":[\"f0\",\"f1\",\"f2\",\"f3\",\"f4\",\"f5\",\"f6\",\"f7\",\"f8\",\"f9\",\"f10\",\"f11\",\"f12\",\"f13\",\"f14\",\"f15\",\"f17\",\"f18\",\"f19\",\"f20\",\"f21\",\"f22\",\"f23\",\"f24\",\"f25\",\"f26\"]},\"id\":\"1463\",\"type\":\"FactorRange\"},{\"attributes\":{\"end\":5.52,\"start\":0},\"id\":\"1461\",\"type\":\"DataRange1d\"},{\"attributes\":{},\"id\":\"1465\",\"type\":\"LinearScale\"},{\"attributes\":{},\"id\":\"1467\",\"type\":\"CategoricalScale\"},{\"attributes\":{},\"id\":\"1534\",\"type\":\"BasicTickFormatter\"},{\"attributes\":{},\"id\":\"1476\",\"type\":\"PanTool\"},{\"attributes\":{\"axis_label\":\"Feature\",\"formatter\":{\"id\":\"1536\"},\"ticker\":{\"id\":\"1474\"}},\"id\":\"1473\",\"type\":\"CategoricalAxis\"},{\"attributes\":{},\"id\":\"1537\",\"type\":\"UnionRenderers\"},{\"attributes\":{\"axis_label\":\"Importance\",\"formatter\":{\"id\":\"1534\"},\"ticker\":{\"id\":\"1470\"}},\"id\":\"1469\",\"type\":\"LinearAxis\"},{\"attributes\":{},\"id\":\"1538\",\"type\":\"Selection\"},{\"attributes\":{\"axis\":{\"id\":\"1469\"},\"grid_line_color\":null,\"ticker\":null},\"id\":\"1472\",\"type\":\"Grid\"}],\"root_ids\":[\"1458\"]},\"title\":\"Bokeh Application\",\"version\":\"2.2.3\"}};\n",
       "  var render_items = [{\"docid\":\"c16ed276-c6ab-44a6-8f63-1a086e7bdee8\",\"root_ids\":[\"1458\"],\"roots\":{\"1458\":\"a3a03c33-c2d5-48d6-8386-9bad72f54f11\"}}];\n",
       "  root.Bokeh.embed.embed_items_notebook(docs_json, render_items);\n",
       "\n",
       "  }\n",
       "  if (root.Bokeh !== undefined) {\n",
       "    embed_document(root);\n",
       "  } else {\n",
       "    var attempts = 0;\n",
       "    var timer = setInterval(function(root) {\n",
       "      if (root.Bokeh !== undefined) {\n",
       "        clearInterval(timer);\n",
       "        embed_document(root);\n",
       "      } else {\n",
       "        attempts++;\n",
       "        if (attempts > 100) {\n",
       "          clearInterval(timer);\n",
       "          console.log(\"Bokeh: ERROR: Unable to run BokehJS code because BokehJS library is missing\");\n",
       "        }\n",
       "      }\n",
       "    }, 10, root)\n",
       "  }\n",
       "})(window);"
      ],
      "application/vnd.bokehjs_exec.v0+json": ""
     },
     "metadata": {
      "application/vnd.bokehjs_exec.v0+json": {
       "id": "1458"
      }
     },
     "output_type": "display_data"
    }
   ],
   "source": [
    "from bokeh.layouts import gridplot\n",
    "\n",
    "SUPPORTED_IMPORTANCE_TYPES = [\"weight\", \"gain\", \"cover\"]\n",
    "plots = []\n",
    "feature_names = trial.tensor_names(regex=f\"feature_importance/.*\")\n",
    "if len(feature_names) == 0:\n",
    "    heading = Markdown('### No feature importance was saved.\\n\\\n",
    "    - Check dataset sanity\\n\\\n",
    "    - Or if booster was not in [gbtree, dart]\\n\\\n",
    "    - Or if booster was None\\n\\\n",
    "    ')\n",
    "    display(heading)\n",
    "else:\n",
    "    for importance_type in SUPPORTED_IMPORTANCE_TYPES:\n",
    "        plot_feature_importance(importance_type=importance_type)\n",
    "\n"
   ]
  },
  {
   "cell_type": "code",
   "execution_count": 13,
   "metadata": {
    "execution": {
     "iopub.execute_input": "2021-08-24T17:54:37.919873Z",
     "iopub.status.busy": "2021-08-24T17:54:37.918957Z",
     "iopub.status.idle": "2021-08-24T17:54:37.921855Z",
     "shell.execute_reply": "2021-08-24T17:54:37.922431Z"
    },
    "papermill": {
     "duration": 0.085509,
     "end_time": "2021-08-24T17:54:37.922642",
     "exception": false,
     "start_time": "2021-08-24T17:54:37.837133",
     "status": "completed"
    },
    "tags": [
     "hide-input"
    ]
   },
   "outputs": [],
   "source": [
    "from IPython.display import display, Markdown\n",
    "\n",
    "s='## Confusion Matrix <a name=\"section4\"></a>\\n\\\n",
    "The following Confusion Matrix shows a breakdown of the classification results.\\n\\\n",
    "* The cells on the principal diagonal shows the True Positive counts.\\n\\\n",
    "* The off-diagonal cells count the number of misclassified predictions.\\n\\\n",
    "'\n",
    "\n",
    "if objective_metric in [\"binary:logistic\", \"multi:softmax\"]:\n",
    "    display(Markdown(s))"
   ]
  },
  {
   "cell_type": "code",
   "execution_count": 14,
   "metadata": {
    "execution": {
     "iopub.execute_input": "2021-08-24T17:54:38.026494Z",
     "iopub.status.busy": "2021-08-24T17:54:38.024982Z",
     "iopub.status.idle": "2021-08-24T17:54:40.516592Z",
     "shell.execute_reply": "2021-08-24T17:54:40.516117Z"
    },
    "papermill": {
     "duration": 2.583824,
     "end_time": "2021-08-24T17:54:40.516704",
     "exception": false,
     "start_time": "2021-08-24T17:54:37.932880",
     "status": "completed"
    },
    "tags": [
     "hide-input"
    ]
   },
   "outputs": [],
   "source": [
    "import numpy as np\n",
    "import matplotlib.pyplot as plt\n",
    "import seaborn as sns\n",
    "\n",
    "# Credits: https://github.com/DTrimarchi10/confusion_matrix\n",
    "def make_confusion_matrix(cf,\n",
    "                          group_names=None,\n",
    "                          categories='auto',\n",
    "                          count=True,\n",
    "                          percent=True,\n",
    "                          cbar=True,\n",
    "                          xyticks=True,\n",
    "                          xyplotlabels=True,\n",
    "                          sum_stats=True,\n",
    "                          figsize=None,\n",
    "                          cmap='Blues',\n",
    "                          title=None):\n",
    "    '''\n",
    "    This function will make a pretty plot of an sklearn Confusion Matrix cm using a Seaborn heatmap visualization.\n",
    "    Arguments\n",
    "    ---------\n",
    "    cf:            confusion matrix to be passed in\n",
    "    group_names:   List of strings that represent the labels row by row to be shown in each square.\n",
    "    categories:    List of strings containing the categories to be displayed on the x,y axis. Default is 'auto'\n",
    "    count:         If True, show the raw number in the confusion matrix. Default is True.\n",
    "    normalize:     If True, show the proportions for each category. Default is True.\n",
    "    cbar:          If True, show the color bar. The cbar values are based off the values in the confusion matrix.\n",
    "                   Default is True.\n",
    "    xyticks:       If True, show x and y ticks. Default is True.\n",
    "    xyplotlabels:  If True, show 'True Label' and 'Predicted Label' on the figure. Default is True.\n",
    "    sum_stats:     If True, display summary statistics below the figure. Default is True.\n",
    "    figsize:       Tuple representing the figure size. Default will be the matplotlib rcParams value.\n",
    "    cmap:          Colormap of the values displayed from matplotlib.pyplot.cm. Default is 'Blues'\n",
    "                   See http://matplotlib.org/examples/color/colormaps_reference.html\n",
    "                   \n",
    "    title:         Title for the heatmap. Default is None.\n",
    "    '''\n",
    "\n",
    "\n",
    "    # CODE TO GENERATE TEXT INSIDE EACH SQUARE\n",
    "    blanks = ['' for i in range(cf.size)]\n",
    "\n",
    "    if group_names and len(group_names)==cf.size:\n",
    "        group_labels = [\"{}\\n\".format(value) for value in group_names]\n",
    "    else:\n",
    "        group_labels = blanks\n",
    "\n",
    "    if count:\n",
    "        group_counts = [\"{0:0.0f}\\n\".format(value) for value in cf.flatten()]\n",
    "    else:\n",
    "        group_counts = blanks\n",
    "\n",
    "    if percent:\n",
    "        group_percentages = [\"{0:.2%}\".format(value) for value in cf.flatten()/np.sum(cf)]\n",
    "    else:\n",
    "        group_percentages = blanks\n",
    "\n",
    "    box_labels = [f\"{v1}{v2}{v3}\".strip() for v1, v2, v3 in zip(group_labels,group_counts,group_percentages)]\n",
    "    box_labels = np.asarray(box_labels).reshape(cf.shape[0],cf.shape[1])\n",
    "\n",
    "\n",
    "    # CODE TO GENERATE SUMMARY STATISTICS & TEXT FOR SUMMARY STATS\n",
    "    if sum_stats:\n",
    "        #Accuracy is sum of diagonal divided by total observations\n",
    "        accuracy  = np.trace(cf) / float(np.sum(cf))\n",
    "\n",
    "        #if it is a binary confusion matrix, show some more stats\n",
    "        if len(cf)==2:\n",
    "            #Metrics for Binary Confusion Matrices\n",
    "            precision = cf[1,1] / sum(cf[:,1])\n",
    "            recall    = cf[1,1] / sum(cf[1,:])\n",
    "            f1_score  = 2*precision*recall / (precision + recall)\n",
    "            stats_text = \"\\n\\nAccuracy={:0.3f}\\nPrecision={:0.3f}\\nRecall={:0.3f}\\nF1 Score={:0.3f}\".format(\n",
    "                accuracy,precision,recall,f1_score)\n",
    "        else:\n",
    "            stats_text = \"\\n\\nAccuracy={:0.3f}\".format(accuracy)\n",
    "    else:\n",
    "        stats_text = \"\"\n",
    "\n",
    "\n",
    "    # SET FIGURE PARAMETERS ACCORDING TO OTHER ARGUMENTS\n",
    "    if figsize==None:\n",
    "        #Get default figure size if not set\n",
    "        figsize = plt.rcParams.get('figure.figsize')\n",
    "\n",
    "    if xyticks==False:\n",
    "        #Do not show categories if xyticks is False\n",
    "        categories=False\n",
    "\n",
    "\n",
    "    # MAKE THE HEATMAP VISUALIZATION\n",
    "    plt.figure(figsize=figsize)\n",
    "    sns.heatmap(cf,annot=box_labels,fmt=\"\",cmap=cmap,cbar=cbar,xticklabels=categories,yticklabels=categories)\n",
    "\n",
    "    if xyplotlabels:\n",
    "        plt.ylabel('True label')\n",
    "        plt.xlabel('Predicted label' + stats_text)\n",
    "    else:\n",
    "        plt.xlabel(stats_text)\n",
    "    \n",
    "    if title:\n",
    "        plt.title(title)\n",
    "        \n"
   ]
  },
  {
   "cell_type": "code",
   "execution_count": 15,
   "metadata": {
    "execution": {
     "iopub.execute_input": "2021-08-24T17:54:40.544899Z",
     "iopub.status.busy": "2021-08-24T17:54:40.544120Z",
     "iopub.status.idle": "2021-08-24T17:54:40.740527Z",
     "shell.execute_reply": "2021-08-24T17:54:40.741273Z"
    },
    "papermill": {
     "duration": 0.214521,
     "end_time": "2021-08-24T17:54:40.741421",
     "exception": false,
     "start_time": "2021-08-24T17:54:40.526900",
     "status": "completed"
    },
    "tags": [
     "hide-input"
    ]
   },
   "outputs": [],
   "source": [
    "import numpy as np\n",
    "import matplotlib.pyplot as plt\n",
    "import math\n",
    "import seaborn as sns\n",
    "from sklearn.metrics import confusion_matrix, classification_report\n",
    "from IPython.display import display, clear_output, HTML\n",
    "from bokeh.models.mappers import LinearColorMapper\n",
    "\n",
    "\n",
    "def plot_confusion_for_one_step(trial, step, title, ax=None, normalize=False):\n",
    "    predictions = trial.tensor(\"predictions\").value(step).round()\n",
    "    labels = trial.tensor(\"labels\").value(step).round()\n",
    "    cm = confusion_matrix(\n",
    "        labels,\n",
    "        predictions,\n",
    "    )\n",
    "    num_classes = len(np.unique(labels))\n",
    "    fig_height = num_classes+10\n",
    "    make_confusion_matrix(cm, figsize=(fig_height,fig_height))\n",
    "\n",
    "\n",
    "obj_names_for_error_plots = [\"binary:logistic\", \"multi:softmax\"]\n",
    "\n",
    "\n",
    "if 'labels' in tensor_names and 'predictions' in tensor_names:\n",
    "    if objective_metric in obj_names_for_error_plots:\n",
    "        step = trial.steps()[-1]\n",
    "        plot_confusion_for_one_step(trial, step=step, title=\"Confusion Matrix\")\n",
    "else:\n",
    "    error_message = \"\\n\\\n",
    "    Labels and Predictions are missing in the debugger data output.\\n\\\n",
    "    Please check if labels and predictions are included in your Debugger Hook Config.\\n\\\n",
    "    \"\n",
    "    display(Markdown(error_message))\n"
   ]
  },
  {
   "cell_type": "code",
   "execution_count": 16,
   "metadata": {
    "execution": {
     "iopub.execute_input": "2021-08-24T17:54:40.817337Z",
     "iopub.status.busy": "2021-08-24T17:54:40.816790Z",
     "iopub.status.idle": "2021-08-24T17:54:40.820215Z",
     "shell.execute_reply": "2021-08-24T17:54:40.820917Z"
    },
    "papermill": {
     "duration": 0.069097,
     "end_time": "2021-08-24T17:54:40.821073",
     "exception": false,
     "start_time": "2021-08-24T17:54:40.751976",
     "status": "completed"
    },
    "tags": [
     "hide-input"
    ]
   },
   "outputs": [],
   "source": [
    "from IPython.display import display, Markdown\n",
    "\n",
    "s='## Evaluation of the Confusion Matrix<a name=\"section4-1\"></a>\\n\\\n",
    "The following statistics summary of the confusion matrix is provided using \\n\\\n",
    "the [Scikit-learn Metrics and Scoring APIs](https://scikit-learn.org/stable/modules/model_evaluation.html).\\n\\\n",
    "You can use the following score metrics to evaluate the performance of your model: \\n\\\n",
    "accuracy, precision, recall, and F1-score.\\n\\\n",
    "\\n\\\n",
    "For more information, see the following Scikit-learn documentation:\\n\\\n",
    "- [Accuracy Score](https://scikit-learn.org/stable/modules/generated/sklearn.metrics.accuracy_score.html)\\n\\\n",
    "- [Precision Score](https://scikit-learn.org/stable/modules/generated/sklearn.metrics.precision_score.html#sklearn.metrics.precision_score)\\n\\\n",
    "- [Recall Score](https://scikit-learn.org/stable/modules/generated/sklearn.metrics.recall_score.html#sklearn.metrics.recall_score)\\n\\\n",
    "- [F1-Score](https://scikit-learn.org/stable/modules/generated/sklearn.metrics.f1_score.html#sklearn.metrics.f1_score)\\n\\\n",
    "'\n",
    "\n",
    "if objective_metric in [\"binary:logistic\", \"multi:softmax\"]:\n",
    "    display(Markdown(s))"
   ]
  },
  {
   "cell_type": "code",
   "execution_count": 17,
   "metadata": {
    "execution": {
     "iopub.execute_input": "2021-08-24T17:54:40.917517Z",
     "iopub.status.busy": "2021-08-24T17:54:40.916945Z",
     "iopub.status.idle": "2021-08-24T17:54:40.920455Z",
     "shell.execute_reply": "2021-08-24T17:54:40.921307Z"
    },
    "papermill": {
     "duration": 0.090712,
     "end_time": "2021-08-24T17:54:40.921453",
     "exception": false,
     "start_time": "2021-08-24T17:54:40.830741",
     "status": "completed"
    },
    "tags": [
     "hide-input"
    ]
   },
   "outputs": [],
   "source": [
    "#importing accuracy_score, precision_score, recall_score, f1_score\n",
    "from sklearn.metrics import accuracy_score, precision_score, recall_score, f1_score\n",
    "\n",
    "obj_names_for_error_plots = [\"binary:logistic\", \"multi:softmax\"]\n",
    "\n",
    "if objective_metric in obj_names_for_error_plots:\n",
    "\n",
    "    y_test=trial.tensor(\"labels\").value(plot_step).round()\n",
    "    y_pred=trial.tensor(\"predictions\").value(plot_step).round()\n",
    "    display(Markdown(\n",
    "        '**Overall Accuracy**\\n\\\n",
    "        \\n\\\n",
    "        Overall Accuracy: '\n",
    "        +str(round(accuracy_score(y_test, y_pred),3))\n",
    "    ))\n",
    "    \n",
    "    display(Markdown(\n",
    "        '**Micro Performance Metrics**\\n\\\n",
    "        \\n\\\n",
    "        Performance metrics calculated globally by counting the total true positives, false negatives, and false positives.\\n\\\n",
    "        \\n\\\n",
    "        Micro Precision: '+str(round(precision_score(y_test, y_pred, average='micro'),3))+'\\n\\\n",
    "        Micro Recall: '+str(round(recall_score(y_test, y_pred, average='micro'),3))+'\\n\\\n",
    "        Micro F1-score: '+str(round(f1_score(y_test, y_pred, average='micro'),3))+'\\n\\\n",
    "        '\n",
    "    ))\n",
    "    \n",
    "    display(Markdown(\n",
    "        '**Macro Performance Metrics**\\n\\\n",
    "        \\n\\\n",
    "        Performance metrics calculated for each label, and find their unweighted mean. \\n\\\n",
    "        This does not take the class imbalance problem into account.\\n\\\n",
    "        \\n\\\n",
    "        Macro Precision: '+str(round(precision_score(y_test, y_pred, average='macro'),3))+'\\n\\\n",
    "        Macro Recall: '+str(round(recall_score(y_test, y_pred, average='macro'),3))+'\\n\\\n",
    "        Macro F1-score: '+str(round(f1_score(y_test, y_pred, average='macro'),3))+'\\n\\\n",
    "        '\n",
    "    ))\n",
    "    \n",
    "    display(Markdown(\n",
    "        '**Weighted Performance Metrics**\\n\\\n",
    "        \\n\\\n",
    "        Performance metrics calculated for each label and their average weighted by support \\n\\\n",
    "        (the number of true instances for each label). \\n\\\n",
    "        This extends the macro option to take the class imbalance into account. \\n\\\n",
    "        It might result in an F-score that is not between precision and recall. \\n\\\n",
    "        \\n\\\n",
    "        Weighted Precision: '+str(round(precision_score(y_test, y_pred, average='weighted'),3))+'\\n\\\n",
    "        Weighted Recall: '+str(round(recall_score(y_test, y_pred, average='weighted'),3))+'\\n\\\n",
    "        Weighted F1-score: '+str(round(f1_score(y_test, y_pred, average='weighted'),3))+'\\n\\\n",
    "        '\n",
    "    ))\n",
    "    \n",
    "    \n",
    "    from sklearn.metrics import classification_report\n",
    "    if 'labels' in tensor_names and 'predictions' in tensor_names:\n",
    "        display(Markdown(\n",
    "            '**Classification Report**\\n\\\n",
    "            \\n\\\n",
    "            The summary of the precision, recall, and F1-score for each class.'\n",
    "        ))\n",
    "        print(classification_report(y_test, y_pred))\n",
    "    else:\n",
    "        error_message = \"\\n\\\n",
    "        Labels and Predictions are missing in the debugger data output.\\n\\\n",
    "        Please check if labels and predictions are included in your Debugger Hook Config.\\n\\\n",
    "        \"\n",
    "        display(Markdown(error_message))"
   ]
  },
  {
   "cell_type": "code",
   "execution_count": 18,
   "metadata": {
    "execution": {
     "iopub.execute_input": "2021-08-24T17:54:40.946432Z",
     "iopub.status.busy": "2021-08-24T17:54:40.945524Z",
     "iopub.status.idle": "2021-08-24T17:54:41.014978Z",
     "shell.execute_reply": "2021-08-24T17:54:41.014542Z"
    },
    "papermill": {
     "duration": 0.083854,
     "end_time": "2021-08-24T17:54:41.015098",
     "exception": false,
     "start_time": "2021-08-24T17:54:40.931244",
     "status": "completed"
    },
    "tags": [
     "hide-input"
    ]
   },
   "outputs": [],
   "source": [
    "from IPython.display import display, Markdown\n",
    "\n",
    "s='## Accuracy Rate of Each Diagonal Element over Iteration <a name=\"section4-2\"></a>\\n\\\n",
    "\\\n",
    "The following graph shows the progression in accuracy rate of each class over iterations.\\n\\\n",
    "\\\n",
    "- Each line is calculated by dividing the count of each diagonal element over the total population at validation steps captured by Debugger.\\n\\\n",
    "- This plot provides visibility into the progression in the class-level accuracy, and you can evaluate which class is not well classified.\\n\\\n",
    "If a certain class is under-performing, this might be, for example, due to the imbalanced class problem.\\n\\\n",
    "It is recommended to see the first section, [The Distribution of True Labels of the Dataset](#section1),\\n\\\n",
    "for more information about your data and suggested actions.\\n\\\n",
    "'\n",
    "\n",
    "if objective_metric in [\"binary:logistic\", \"multi:softmax\"]:\n",
    "    display(Markdown(s))"
   ]
  },
  {
   "cell_type": "code",
   "execution_count": 19,
   "metadata": {
    "execution": {
     "iopub.execute_input": "2021-08-24T17:54:41.048623Z",
     "iopub.status.busy": "2021-08-24T17:54:41.047049Z",
     "iopub.status.idle": "2021-08-24T17:54:41.049196Z",
     "shell.execute_reply": "2021-08-24T17:54:41.049568Z"
    },
    "papermill": {
     "duration": 0.024399,
     "end_time": "2021-08-24T17:54:41.049707",
     "exception": false,
     "start_time": "2021-08-24T17:54:41.025308",
     "status": "completed"
    },
    "tags": [
     "hide-input"
    ]
   },
   "outputs": [],
   "source": [
    "from collections import defaultdict\n",
    "from scipy import stats\n",
    "from bokeh.models.tickers import SingleIntervalTicker\n",
    "import random\n",
    "import numpy as np\n",
    "from sklearn.metrics import confusion_matrix\n",
    "\n",
    "\n",
    "def color_gen():\n",
    "    co=(round(random.random()*250),round(random.random()*250),round(random.random()*250))\n",
    "    return co\n",
    "def plot_accuracy_rate():\n",
    "    class_to_accuracy_map = defaultdict(list)\n",
    "    label_steps = trial.tensor('labels').steps()\n",
    "    pred_steps = trial.tensor('predictions').steps()\n",
    "    validation_steps = sorted(list(set(label_steps).intersection(set(pred_steps))))\n",
    "    for step in validation_steps:\n",
    "        predictions = trial.tensor(\"predictions\").value(step).round()\n",
    "        labels = trial.tensor(\"labels\").value(step).round()\n",
    "        cm = confusion_matrix(\n",
    "            labels,\n",
    "            predictions\n",
    "        )\n",
    "        cm = cm.astype('float') / cm.sum(axis=1)[:, np.newaxis]\n",
    "        for class_ in range(len(cm)):\n",
    "            class_to_accuracy_map[class_].append(cm[class_][class_])\n",
    "\n",
    "    TOOLS=\"pan,wheel_zoom,reset,poly_select,box_select,box_zoom\"\n",
    "    TOOLTIPS = [\n",
    "        (\"step\", \"@steps\"),\n",
    "        (\"accuracy\", \"@stat\"),\n",
    "    ] \n",
    "    bin_names = []\n",
    "    data_list = []\n",
    "    p = figure( \n",
    "        title=f\"Accuracy Rate of Each Diagonal Element over Iteration\",\n",
    "        toolbar_location=\"left\", \n",
    "        tools=TOOLS,\n",
    "        tooltips=TOOLTIPS,\n",
    "        plot_height=500,\n",
    "        plot_width=1000\n",
    "    )\n",
    "    p.circle(0, 0, size=0.00000001, color= \"#ffffff\", legend_label=\"Class Names\")\n",
    "    for class_ in class_to_accuracy_map:\n",
    "        source = ColumnDataSource(\n",
    "            data=dict(\n",
    "                steps=validation_steps, \n",
    "                stat=class_to_accuracy_map[class_]\n",
    "            )\n",
    "        )\n",
    "        p.line(\n",
    "            'steps', \n",
    "            'stat', \n",
    "            name=str(class_), \n",
    "            color=color_gen(), \n",
    "            line_width=4,\n",
    "            source=source, \n",
    "            legend_label=str(class_)\n",
    "        )\n",
    "    p.legend.location = \"center_right\"\n",
    "    p.legend.click_policy=\"hide\"\n",
    "    p.xgrid.grid_line_color = None\n",
    "    p.xaxis.axis_label = 'Iteration'\n",
    "    p.yaxis.axis_label = 'Accuracy'\n",
    "    p.y_range.start = 0\n",
    "\n",
    "    show(p)\n",
    "\n",
    "avail_steps = trial.steps()\n",
    "obj_names_for_error_plots = [\"binary:logistic\", \"multi:softmax\"]\n",
    "if objective_metric in obj_names_for_error_plots:\n",
    "    if 'labels' in tensor_names and 'predictions' in tensor_names:\n",
    "        plot_accuracy_rate()\n",
    "    else:\n",
    "        error_message = \"\\n\\\n",
    "        Labels and Predictions are missing in the debugger data output.\\n\\\n",
    "        Please check if labels and predictions are included in your Debugger Hook Config.\\n\\\n",
    "        \"\n",
    "        display(Markdown(error_message))"
   ]
  },
  {
   "cell_type": "code",
   "execution_count": 20,
   "metadata": {
    "execution": {
     "iopub.execute_input": "2021-08-24T17:54:41.139259Z",
     "iopub.status.busy": "2021-08-24T17:54:41.137689Z",
     "iopub.status.idle": "2021-08-24T17:54:41.139877Z",
     "shell.execute_reply": "2021-08-24T17:54:41.140270Z"
    },
    "papermill": {
     "duration": 0.017535,
     "end_time": "2021-08-24T17:54:41.140408",
     "exception": false,
     "start_time": "2021-08-24T17:54:41.122873",
     "status": "completed"
    },
    "tags": [
     "hide-input"
    ]
   },
   "outputs": [],
   "source": [
    "from IPython.display import display, Markdown\n",
    "\n",
    "s='## Receiver Operating Characteristic Curve <a name=\"section5\"></a>\\n\\\n",
    "\\n\\\n",
    "The *Receiver Operating Characteristic* curve shows the performance of binary classification.\\n\\\n",
    "\\n\\\n",
    "* It measures the ratio of TPR over FPR, and the **Area Under Curve** (AUC) approaches to 1 as the model performance improves. The lowest AUC value is 0.5 (the area under the line of no-discrimination). \\n\\\n",
    "* If the AUC value is less than 0.6, it means that your model significantly under-performs. Consider improving your data, tuning the model parameters, pruning the trees, or trying other classifiers.\\n\\\n",
    "\\n\\\n",
    "'\n",
    "\n",
    "if objective_metric in [\"binary:logistic\"]:\n",
    "    display(Markdown(s))\n"
   ]
  },
  {
   "cell_type": "code",
   "execution_count": 21,
   "metadata": {
    "execution": {
     "iopub.execute_input": "2021-08-24T17:54:41.235491Z",
     "iopub.status.busy": "2021-08-24T17:54:41.233676Z",
     "iopub.status.idle": "2021-08-24T17:54:41.236111Z",
     "shell.execute_reply": "2021-08-24T17:54:41.236486Z"
    },
    "papermill": {
     "duration": 0.023815,
     "end_time": "2021-08-24T17:54:41.236627",
     "exception": false,
     "start_time": "2021-08-24T17:54:41.212812",
     "status": "completed"
    },
    "tags": [
     "hide-input"
    ]
   },
   "outputs": [],
   "source": [
    "from sklearn.metrics import roc_curve, auc\n",
    "\n",
    "\n",
    "# ROC Curve Will Only Be Plotted For Binary Classifiers\n",
    "\n",
    "def plot_roc_curve():\n",
    "    y_preds = trial.tensor('predictions').value(plot_step)\n",
    "    labels = trial.tensor('labels').value(plot_step)\n",
    "    fpr, tpr, thresholds = roc_curve(labels, y_preds)\n",
    "    roc_auc = auc(fpr, tpr)\n",
    "    # PLOT ROC curve\n",
    "    source_ROC = ColumnDataSource(\n",
    "        data=dict(x_fpr=fpr, \n",
    "                  y_tpr=tpr,\n",
    "                  thresh=thresholds,\n",
    "                 )\n",
    "    )\n",
    "    auc_legend = f'Area Under Curve:\\n {(round(roc_auc, 5))}'\n",
    "    TOOLTIPS=[(\"TPR\", \"@y_tpr\"), (\"FPR\", \"@x_fpr\"), (\"Thresh\", \"@thresh\")]\n",
    "    TOOLS=\"pan,wheel_zoom,reset,poly_select,box_zoom\"\n",
    "    p = figure(title=f'ROC curve', tools=TOOLS, tooltips=TOOLTIPS)\n",
    "    p.line('x_fpr', 'y_tpr', line_width=1, color=\"blue\", source=source_ROC)\n",
    "    p.circle('x_fpr', 'y_tpr', size=5, color=\"orange\", legend_label=auc_legend, source=source_ROC, name='ROC')\n",
    "    p.xaxis.axis_label = 'False Positive Rate'\n",
    "    p.yaxis.axis_label = 'True Positive Rate'\n",
    "    p.legend.location = 'bottom_right'\n",
    "    show(p)\n",
    "    \n",
    "if objective_metric in [\"binary:logistic\"]:\n",
    "    if 'labels' in tensor_names and 'predictions' in tensor_names:\n",
    "        plot_roc_curve()\n",
    "    else:\n",
    "        error_message = \"\\n\\\n",
    "        Labels and Predictions are missing in the debugger data output.\\n\\\n",
    "        Please check if labels and predictions are included in your Debugger Hook Config.\\n\\\n",
    "        \"\n",
    "        display(Markdown(error_message))"
   ]
  },
  {
   "cell_type": "code",
   "execution_count": 22,
   "metadata": {
    "execution": {
     "iopub.execute_input": "2021-08-24T17:54:41.336138Z",
     "iopub.status.busy": "2021-08-24T17:54:41.335195Z",
     "iopub.status.idle": "2021-08-24T17:54:41.337081Z",
     "shell.execute_reply": "2021-08-24T17:54:41.337505Z"
    },
    "papermill": {
     "duration": 0.016992,
     "end_time": "2021-08-24T17:54:41.337642",
     "exception": false,
     "start_time": "2021-08-24T17:54:41.320650",
     "status": "completed"
    },
    "tags": [
     "hide-input"
    ]
   },
   "outputs": [],
   "source": [
    "from IPython.display import display, Markdown\n",
    "\n",
    "s = '## Distribution of Residuals at the Last Saved Step <a name=\"section6\"></a>\\n\\\n",
    "\\n\\\n",
    "The following histogram shows the distribution of residuals captured at the last step by Debugger.\\n\\\n",
    "\\n\\\n",
    "The residual is calculated as **predicted minus true** in this visualization. \\n\\\n",
    "\\n\\\n",
    "\\n\\\n",
    "- For **regression**, the distribution should show a normal distribution centered at zero if the model is well trained.\\n\\\n",
    "- For **classification**, the distribution shows how the number of correct prediction counts (at the zero residual bin) dominates over the number of wrong prediction counts.\\n\\\n",
    "\\n\\\n",
    "\\n\\\n",
    "'\n",
    "\n",
    "if objective_metric in SUPPORTED_OBJECTIVES:\n",
    "    display(Markdown(s))\n"
   ]
  },
  {
   "cell_type": "code",
   "execution_count": 23,
   "metadata": {
    "execution": {
     "iopub.execute_input": "2021-08-24T17:54:41.435123Z",
     "iopub.status.busy": "2021-08-24T17:54:41.434019Z",
     "iopub.status.idle": "2021-08-24T17:54:41.436078Z",
     "shell.execute_reply": "2021-08-24T17:54:41.436621Z"
    },
    "papermill": {
     "duration": 0.023627,
     "end_time": "2021-08-24T17:54:41.436771",
     "exception": false,
     "start_time": "2021-08-24T17:54:41.413144",
     "status": "completed"
    },
    "tags": [
     "hide-input"
    ]
   },
   "outputs": [],
   "source": [
    "import numpy as np\n",
    "import scipy.special\n",
    "\n",
    "from bokeh.layouts import gridplot\n",
    "from bokeh.plotting import figure, output_file, show\n",
    "\n",
    "\n",
    "def make_plot(title, hist, edges, x):\n",
    "    TOOLS=\"pan,xwheel_zoom,reset,box_select,box_zoom\"    \n",
    "    TOOLTIPS = [\n",
    "        (\"error\", \"$x\"),\n",
    "        (\"count\", \"$y\"),\n",
    "    ]\n",
    "    p = figure(\n",
    "        title=title,  \n",
    "        tools=TOOLS,\n",
    "        toolbar_location=\"left\",\n",
    "        tooltips=TOOLTIPS\n",
    "    )\n",
    "    p.quad(top=hist, bottom=0, left=edges[:-1], right=edges[1:],\n",
    "           fill_color=\"navy\", line_color=\"white\", alpha=0.5)\n",
    "    p.y_range.start = 0\n",
    "    p.xaxis.axis_label = 'Error'\n",
    "    p.yaxis.axis_label = 'Error Count'\n",
    "    p.grid.grid_line_color=\"white\"\n",
    "    return p\n",
    "\n",
    "# Normal Distribution\n",
    "from scipy.stats import norm\n",
    "if 'labels' in tensor_names \\\n",
    "    and 'predictions' in tensor_names \\\n",
    "        and objective_metric in SUPPORTED_OBJECTIVES:\n",
    "    pred = trial.tensor('predictions').value(plot_step)\n",
    "    target = trial.tensor('labels').value(plot_step)\n",
    "    if objective_metric in [\"binary:logistic\", \"multi:softmax\"]:\n",
    "        pred = pred.round()\n",
    "        target = target.round()\n",
    "    error = pred-target\n",
    "    hist, edges = np.histogram(error, density=False,bins=\"auto\")\n",
    "    mu, sigma = norm.fit(error)\n",
    "    text_mu = round(mu,5)\n",
    "    text_sigma = round(sigma,5)\n",
    "    x = np.linspace(min(error), max(error))\n",
    "    p1 = make_plot(f\"Error Distribution at step:{plot_step}\", hist, edges, x)\n",
    "    show(gridplot([p1], ncols=2, plot_width=500, plot_height=500, toolbar_location=\"left\"))"
   ]
  },
  {
   "cell_type": "code",
   "execution_count": 24,
   "metadata": {
    "execution": {
     "iopub.execute_input": "2021-08-24T17:54:41.531311Z",
     "iopub.status.busy": "2021-08-24T17:54:41.529664Z",
     "iopub.status.idle": "2021-08-24T17:54:41.531990Z",
     "shell.execute_reply": "2021-08-24T17:54:41.532376Z"
    },
    "papermill": {
     "duration": 0.086107,
     "end_time": "2021-08-24T17:54:41.532509",
     "exception": false,
     "start_time": "2021-08-24T17:54:41.446402",
     "status": "completed"
    },
    "tags": [
     "hide-input"
    ]
   },
   "outputs": [],
   "source": [
    "from IPython.display import display, Markdown\n",
    "\n",
    "s = '## Absolute Validation Error per Label Bin over Iteration <a name=\"section7\"></a>\\n\\\n",
    "The following graph shows the progression of error (or residual) over iterations.\\n\\\n",
    "- The absolute validation error of each bin should reduce over time.\\n\\\n",
    "- Use this graph to identify poorly performing bins.\\n\\\n",
    "- Interact with the graph by toggling different classes by clicking on the legend.\\n\\\n",
    "'\n",
    "if objective_metric in [\"reg:squarederror\"]:\n",
    "    display(Markdown(s))\n"
   ]
  },
  {
   "cell_type": "code",
   "execution_count": 25,
   "metadata": {
    "execution": {
     "iopub.execute_input": "2021-08-24T17:54:41.632794Z",
     "iopub.status.busy": "2021-08-24T17:54:41.628310Z",
     "iopub.status.idle": "2021-08-24T17:54:41.634718Z",
     "shell.execute_reply": "2021-08-24T17:54:41.635131Z"
    },
    "papermill": {
     "duration": 0.09301,
     "end_time": "2021-08-24T17:54:41.635276",
     "exception": false,
     "start_time": "2021-08-24T17:54:41.542266",
     "status": "completed"
    },
    "tags": [
     "hide-input"
    ]
   },
   "outputs": [],
   "source": [
    "from scipy import stats\n",
    "from bokeh.models.tickers import SingleIntervalTicker\n",
    "import random\n",
    "\n",
    "def color_gen():\n",
    "    co=(round(random.random()*250),round(random.random()*250),round(random.random()*250))\n",
    "    return co\n",
    "def plot_abs_validation_error_per_label_bin_over_iteration():\n",
    "    label_steps = trial.tensor('labels').steps()\n",
    "    pred_steps = trial.tensor('predictions').steps()\n",
    "    validation_steps = sorted(list(set(label_steps).intersection(set(pred_steps))))\n",
    "    step_abs_error = []\n",
    "    for step in validation_steps:\n",
    "        label = trial.tensor('labels').value(step)\n",
    "        pred = trial.tensor('predictions').value(step)\n",
    "        abs_err = np.absolute(pred-label)\n",
    "        step_abs_error.append(abs_err)\n",
    "    labels = trial.tensor('labels').value(plot_step)\n",
    "    statistics, bin_edge, bin_num = stats.binned_statistic(labels, step_abs_error, 'mean', bins=10)\n",
    "    TOOLS=\"pan,wheel_zoom,reset,box_select,box_zoom\"\n",
    "    TOOLTIPS = [\n",
    "        (\"step\", \"@steps\"),\n",
    "        (\"bin\", \"$name\"),\n",
    "    ] \n",
    "    bin_names = []\n",
    "    data_list = []\n",
    "    p = figure( \n",
    "        title=f\"Absolute Validation Error Per Label Bin Over Iteration\",\n",
    "        toolbar_location=\"left\", \n",
    "        tools=TOOLS,\n",
    "        tooltips=TOOLTIPS,\n",
    "        plot_height=500,\n",
    "        plot_width=1000\n",
    "    )\n",
    "    for i in range(len(bin_edge)-1):\n",
    "        stat = statistics[:,i]\n",
    "        source = ColumnDataSource(\n",
    "            data=dict(\n",
    "                steps=validation_steps, \n",
    "                stat=stat\n",
    "            )\n",
    "        )\n",
    "        bin_name = str(round(bin_edge[i], 5))+\"-\"+str(round(bin_edge[i+1], 5))\n",
    "        p.line('steps', 'stat', name=bin_name, color=color_gen(), line_width=4, source=source, legend_label=bin_name)\n",
    "    p.legend.location = \"center_right\"\n",
    "    p.legend.click_policy=\"hide\"\n",
    "    p.xgrid.grid_line_color = None\n",
    "    p.xaxis.axis_label = 'Iteration'\n",
    "    p.yaxis.axis_label = 'Error'\n",
    "    p.y_range.start = 0\n",
    "\n",
    "    show(p)\n",
    "\n",
    "avail_steps = trial.steps()\n",
    "obj_names_for_error_plots = [\"reg:squarederror\"]\n",
    "if 'labels' in tensor_names and 'predictions' in tensor_names and objective_metric in obj_names_for_error_plots:\n",
    "    plot_abs_validation_error_per_label_bin_over_iteration()\n",
    "    "
   ]
  },
  {
   "cell_type": "code",
   "execution_count": 26,
   "metadata": {
    "execution": {
     "iopub.execute_input": "2021-08-24T17:54:41.724369Z",
     "iopub.status.busy": "2021-08-24T17:54:41.722785Z",
     "iopub.status.idle": "2021-08-24T17:54:41.725019Z",
     "shell.execute_reply": "2021-08-24T17:54:41.725501Z"
    },
    "papermill": {
     "duration": 0.080358,
     "end_time": "2021-08-24T17:54:41.725662",
     "exception": false,
     "start_time": "2021-08-24T17:54:41.645304",
     "status": "completed"
    },
    "tags": [
     "hide-input"
    ]
   },
   "outputs": [],
   "source": [
    "del trial"
   ]
  }
 ],
 "metadata": {
  "celltoolbar": "Tags",
  "file_extension": ".py",
  "kernelspec": {
   "display_name": "conda_python3",
   "language": "python",
   "name": "conda_python3"
  },
  "language_info": {
   "codemirror_mode": {
    "name": "ipython",
    "version": 3
   },
   "file_extension": ".py",
   "mimetype": "text/x-python",
   "name": "python",
   "nbconvert_exporter": "python",
   "pygments_lexer": "ipython3",
   "version": "3.6.13"
  },
  "mimetype": "text/x-python",
  "name": "python",
  "nbconvert_exporter": "python",
  "papermill": {
   "duration": 12.707405,
   "end_time": "2021-08-24T17:54:44.916896",
   "environment_variables": {},
   "exception": null,
   "input_path": "/opt/ml/code/xgboost_report.ipynb",
   "output_path": "/opt/ml/processing/output/rule/.sagemaker-ignore/out.tmp",
   "parameters": {
    "path": "/opt/ml/processing/input/tensors",
    "plot_step": 95,
    "s3_path": "s3://sagemaker-us-east-2-736959812641/smt-qfslia-cvc4-runtime/xgboost_model/sagemaker-xgboost-2021-08-24-17-47-04-737/debug-output"
   },
   "start_time": "2021-08-24T17:54:32.209491",
   "version": "2.1.2"
  },
  "pygments_lexer": "ipython3",
  "version": "3.6.10"
 },
 "nbformat": 4,
 "nbformat_minor": 4
}
